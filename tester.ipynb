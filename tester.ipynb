{
 "cells": [
  {
   "cell_type": "code",
   "execution_count": 2,
   "metadata": {},
   "outputs": [
    {
     "ename": "ModuleNotFoundError",
     "evalue": "No module named 'matplotlib'",
     "output_type": "error",
     "traceback": [
      "\u001b[1;31m---------------------------------------------------------------------------\u001b[0m",
      "\u001b[1;31mModuleNotFoundError\u001b[0m                       Traceback (most recent call last)",
      "Cell \u001b[1;32mIn[2], line 2\u001b[0m\n\u001b[0;32m      1\u001b[0m \u001b[38;5;28;01mimport\u001b[39;00m \u001b[38;5;21;01mnumpy\u001b[39;00m \u001b[38;5;28;01mas\u001b[39;00m \u001b[38;5;21;01mnp\u001b[39;00m\n\u001b[1;32m----> 2\u001b[0m \u001b[38;5;28;01mimport\u001b[39;00m \u001b[38;5;21;01mmatplotlib\u001b[39;00m\u001b[38;5;21;01m.\u001b[39;00m\u001b[38;5;21;01mpyplot\u001b[39;00m \u001b[38;5;28;01mas\u001b[39;00m \u001b[38;5;21;01mplt\u001b[39;00m\n\u001b[0;32m      3\u001b[0m \u001b[38;5;28;01mfrom\u001b[39;00m \u001b[38;5;21;01mscipy\u001b[39;00m\u001b[38;5;21;01m.\u001b[39;00m\u001b[38;5;21;01mfft\u001b[39;00m \u001b[38;5;28;01mimport\u001b[39;00m fft, fftfreq\n\u001b[0;32m      4\u001b[0m \u001b[38;5;28;01mfrom\u001b[39;00m \u001b[38;5;21;01mpydub\u001b[39;00m \u001b[38;5;28;01mimport\u001b[39;00m AudioSegment\n",
      "\u001b[1;31mModuleNotFoundError\u001b[0m: No module named 'matplotlib'"
     ]
    }
   ],
   "source": [
    "import numpy as np\n",
    "import matplotlib.pyplot as plt\n",
    "from scipy.fft import fft, fftfreq\n",
    "from pydub import AudioSegment\n",
    "from io import BytesIO\n",
    "from IPython.display import Audio\n",
    "\n",
    "def process_and_plot(file_path, save_plot=False, plot_filename='frequency_spectrum.png'):\n",
    "    try:\n",
    "        # Determine the file format\n",
    "        file_format = file_path.split('.')[-1].lower()\n",
    "        \n",
    "        # Load audio file using pydub\n",
    "        audio = AudioSegment.from_file(file_path, format=file_format)\n",
    "        \n",
    "        # Get raw data as numpy array\n",
    "        data = np.array(audio.get_array_of_samples())\n",
    "        \n",
    "        # Handle stereo audio by selecting one channel\n",
    "        if audio.channels == 2:\n",
    "            data = data.reshape((-1, 2))\n",
    "            data = data[:,0]\n",
    "        \n",
    "        # Get sample rate\n",
    "        sample_rate = audio.frame_rate\n",
    "        \n",
    "        # Perform FFT\n",
    "        N = len(data)\n",
    "        yf = fft(data)\n",
    "        xf = fftfreq(N, 1 / sample_rate)\n",
    "        \n",
    "        # Prepare frequency and magnitude data\n",
    "        idx = np.argsort(xf)\n",
    "        frequencies = xf[idx][N//2:]\n",
    "        magnitudes = np.abs(yf[idx])[N//2:]\n",
    "        \n",
    "        # Plotting\n",
    "        plt.figure(figsize=(12, 6))\n",
    "        plt.plot(frequencies, magnitudes)\n",
    "        plt.title('Frequency Spectrum')\n",
    "        plt.xlabel('Frequency (Hz)')\n",
    "        plt.ylabel('Magnitude')\n",
    "        plt.xlim(0, sample_rate / 2)  # Limit x-axis to Nyquist frequency\n",
    "        plt.grid(True)\n",
    "        \n",
    "        # Save the plot as an image file\n",
    "        if save_plot:\n",
    "            plt.savefig(plot_filename)\n",
    "            print(f\"Plot saved as {plot_filename}\")\n",
    "        \n",
    "        # Show the plot\n",
    "        plt.show()\n",
    "        \n",
    "    except Exception as e:\n",
    "        print(f\"An error occurred: {e}\")\n",
    "\n",
    "# Main code execution\n",
    "if __name__ == \"__main__\":\n",
    "    # Replace with your audio file path\n",
    "    file_path = input(\"Enter the path to your audio file (WAV or MP3): \")\n",
    "\n",
    "    # Process the file and plot the frequency spectrum\n",
    "    process_and_plot(file_path, save_plot=True, plot_filename='frequency_spectrum.png')\n"
   ]
  }
 ],
 "metadata": {
  "kernelspec": {
   "display_name": "myenv",
   "language": "python",
   "name": "python3"
  },
  "language_info": {
   "codemirror_mode": {
    "name": "ipython",
    "version": 3
   },
   "file_extension": ".py",
   "mimetype": "text/x-python",
   "name": "python",
   "nbconvert_exporter": "python",
   "pygments_lexer": "ipython3",
   "version": "3.11.5"
  }
 },
 "nbformat": 4,
 "nbformat_minor": 2
}
