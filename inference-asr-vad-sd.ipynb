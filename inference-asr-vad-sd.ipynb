{
 "cells": [
  {
   "cell_type": "code",
   "execution_count": null,
   "metadata": {
    "execution": {
     "iopub.execute_input": "2025-09-07T14:07:37.607622Z",
     "iopub.status.busy": "2025-09-07T14:07:37.607181Z",
     "iopub.status.idle": "2025-09-07T14:07:56.523224Z",
     "shell.execute_reply": "2025-09-07T14:07:56.522029Z",
     "shell.execute_reply.started": "2025-09-07T14:07:37.607585Z"
    },
    "trusted": true
   },
   "outputs": [
    {
     "name": "stdout",
     "output_type": "stream",
     "text": [
      "Requirement already satisfied: flask in /opt/conda/lib/python3.10/site-packages (3.0.3)\n",
      "Requirement already satisfied: Werkzeug>=3.0.0 in /opt/conda/lib/python3.10/site-packages (from flask) (3.0.4)\n",
      "Requirement already satisfied: Jinja2>=3.1.2 in /opt/conda/lib/python3.10/site-packages (from flask) (3.1.4)\n",
      "Requirement already satisfied: itsdangerous>=2.1.2 in /opt/conda/lib/python3.10/site-packages (from flask) (2.2.0)\n",
      "Requirement already satisfied: click>=8.1.3 in /opt/conda/lib/python3.10/site-packages (from flask) (8.1.7)\n",
      "Requirement already satisfied: blinker>=1.6.2 in /opt/conda/lib/python3.10/site-packages (from flask) (1.8.2)\n",
      "Requirement already satisfied: MarkupSafe>=2.0 in /opt/conda/lib/python3.10/site-packages (from Jinja2>=3.1.2->flask) (2.1.5)\n",
      "Collecting pyngrok\n",
      "  Downloading pyngrok-7.3.0-py3-none-any.whl.metadata (8.1 kB)\n",
      "Requirement already satisfied: PyYAML>=5.1 in /opt/conda/lib/python3.10/site-packages (from pyngrok) (6.0.2)\n",
      "Downloading pyngrok-7.3.0-py3-none-any.whl (25 kB)\n",
      "Installing collected packages: pyngrok\n",
      "Successfully installed pyngrok-7.3.0\n"
     ]
    }
   ],
   "source": [
    "!pip install flask\n",
    "!pip install pyngrok\n",
    "\n"
   ]
  },
  {
   "cell_type": "code",
   "execution_count": 2,
   "metadata": {
    "execution": {
     "iopub.execute_input": "2025-09-07T14:07:56.526109Z",
     "iopub.status.busy": "2025-09-07T14:07:56.525671Z",
     "iopub.status.idle": "2025-09-07T14:08:14.658667Z",
     "shell.execute_reply": "2025-09-07T14:08:14.657691Z",
     "shell.execute_reply.started": "2025-09-07T14:07:56.526060Z"
    },
    "trusted": true
   },
   "outputs": [
    {
     "name": "stdout",
     "output_type": "stream",
     "text": [
      "Collecting gspread\n",
      "  Downloading gspread-6.2.1-py3-none-any.whl.metadata (11 kB)\n",
      "Requirement already satisfied: google-auth-oauthlib in /opt/conda/lib/python3.10/site-packages (1.2.0)\n",
      "Requirement already satisfied: google-auth-httplib2 in /opt/conda/lib/python3.10/site-packages (0.2.0)\n",
      "Requirement already satisfied: google-auth>=1.12.0 in /opt/conda/lib/python3.10/site-packages (from gspread) (2.30.0)\n",
      "Requirement already satisfied: requests-oauthlib>=0.7.0 in /opt/conda/lib/python3.10/site-packages (from google-auth-oauthlib) (2.0.0)\n",
      "Requirement already satisfied: httplib2>=0.19.0 in /opt/conda/lib/python3.10/site-packages (from google-auth-httplib2) (0.21.0)\n",
      "Requirement already satisfied: cachetools<6.0,>=2.0.0 in /opt/conda/lib/python3.10/site-packages (from google-auth>=1.12.0->gspread) (4.2.4)\n",
      "Requirement already satisfied: pyasn1-modules>=0.2.1 in /opt/conda/lib/python3.10/site-packages (from google-auth>=1.12.0->gspread) (0.4.0)\n",
      "Requirement already satisfied: rsa<5,>=3.1.4 in /opt/conda/lib/python3.10/site-packages (from google-auth>=1.12.0->gspread) (4.9)\n",
      "Requirement already satisfied: pyparsing!=3.0.0,!=3.0.1,!=3.0.2,!=3.0.3,<4,>=2.4.2 in /opt/conda/lib/python3.10/site-packages (from httplib2>=0.19.0->google-auth-httplib2) (3.1.2)\n",
      "Requirement already satisfied: oauthlib>=3.0.0 in /opt/conda/lib/python3.10/site-packages (from requests-oauthlib>=0.7.0->google-auth-oauthlib) (3.2.2)\n",
      "Requirement already satisfied: requests>=2.0.0 in /opt/conda/lib/python3.10/site-packages (from requests-oauthlib>=0.7.0->google-auth-oauthlib) (2.32.3)\n",
      "Requirement already satisfied: pyasn1<0.7.0,>=0.4.6 in /opt/conda/lib/python3.10/site-packages (from pyasn1-modules>=0.2.1->google-auth>=1.12.0->gspread) (0.6.0)\n",
      "Requirement already satisfied: charset-normalizer<4,>=2 in /opt/conda/lib/python3.10/site-packages (from requests>=2.0.0->requests-oauthlib>=0.7.0->google-auth-oauthlib) (3.3.2)\n",
      "Requirement already satisfied: idna<4,>=2.5 in /opt/conda/lib/python3.10/site-packages (from requests>=2.0.0->requests-oauthlib>=0.7.0->google-auth-oauthlib) (3.7)\n",
      "Requirement already satisfied: urllib3<3,>=1.21.1 in /opt/conda/lib/python3.10/site-packages (from requests>=2.0.0->requests-oauthlib>=0.7.0->google-auth-oauthlib) (1.26.18)\n",
      "Requirement already satisfied: certifi>=2017.4.17 in /opt/conda/lib/python3.10/site-packages (from requests>=2.0.0->requests-oauthlib>=0.7.0->google-auth-oauthlib) (2024.8.30)\n",
      "Downloading gspread-6.2.1-py3-none-any.whl (59 kB)\n",
      "\u001b[2K   \u001b[90m━━━━━━━━━━━━━━━━━━━━━━━━━━━━━━━━━━━━━━━━\u001b[0m \u001b[32m60.0/60.0 kB\u001b[0m \u001b[31m2.5 MB/s\u001b[0m eta \u001b[36m0:00:00\u001b[0m\n",
      "\u001b[?25hInstalling collected packages: gspread\n",
      "Successfully installed gspread-6.2.1\n",
      "Requirement already satisfied: google-generativeai in /opt/conda/lib/python3.10/site-packages (0.8.2)\n",
      "Requirement already satisfied: google-ai-generativelanguage==0.6.10 in /opt/conda/lib/python3.10/site-packages (from google-generativeai) (0.6.10)\n",
      "Requirement already satisfied: google-api-core in /opt/conda/lib/python3.10/site-packages (from google-generativeai) (2.11.1)\n",
      "Requirement already satisfied: google-api-python-client in /opt/conda/lib/python3.10/site-packages (from google-generativeai) (2.147.0)\n",
      "Requirement already satisfied: google-auth>=2.15.0 in /opt/conda/lib/python3.10/site-packages (from google-generativeai) (2.30.0)\n",
      "Requirement already satisfied: protobuf in /opt/conda/lib/python3.10/site-packages (from google-generativeai) (3.20.3)\n",
      "Requirement already satisfied: pydantic in /opt/conda/lib/python3.10/site-packages (from google-generativeai) (2.9.2)\n",
      "Requirement already satisfied: tqdm in /opt/conda/lib/python3.10/site-packages (from google-generativeai) (4.66.4)\n",
      "Requirement already satisfied: typing-extensions in /opt/conda/lib/python3.10/site-packages (from google-generativeai) (4.12.2)\n",
      "Requirement already satisfied: proto-plus<2.0.0dev,>=1.22.3 in /opt/conda/lib/python3.10/site-packages (from google-ai-generativelanguage==0.6.10->google-generativeai) (1.23.0)\n",
      "Requirement already satisfied: googleapis-common-protos<2.0.dev0,>=1.56.2 in /opt/conda/lib/python3.10/site-packages (from google-api-core->google-generativeai) (1.63.1)\n",
      "Requirement already satisfied: requests<3.0.0.dev0,>=2.18.0 in /opt/conda/lib/python3.10/site-packages (from google-api-core->google-generativeai) (2.32.3)\n",
      "Requirement already satisfied: cachetools<6.0,>=2.0.0 in /opt/conda/lib/python3.10/site-packages (from google-auth>=2.15.0->google-generativeai) (4.2.4)\n",
      "Requirement already satisfied: pyasn1-modules>=0.2.1 in /opt/conda/lib/python3.10/site-packages (from google-auth>=2.15.0->google-generativeai) (0.4.0)\n",
      "Requirement already satisfied: rsa<5,>=3.1.4 in /opt/conda/lib/python3.10/site-packages (from google-auth>=2.15.0->google-generativeai) (4.9)\n",
      "Requirement already satisfied: httplib2<1.dev0,>=0.19.0 in /opt/conda/lib/python3.10/site-packages (from google-api-python-client->google-generativeai) (0.21.0)\n",
      "Requirement already satisfied: google-auth-httplib2<1.0.0,>=0.2.0 in /opt/conda/lib/python3.10/site-packages (from google-api-python-client->google-generativeai) (0.2.0)\n",
      "Requirement already satisfied: uritemplate<5,>=3.0.1 in /opt/conda/lib/python3.10/site-packages (from google-api-python-client->google-generativeai) (3.0.1)\n",
      "Requirement already satisfied: annotated-types>=0.6.0 in /opt/conda/lib/python3.10/site-packages (from pydantic->google-generativeai) (0.7.0)\n",
      "Requirement already satisfied: pydantic-core==2.23.4 in /opt/conda/lib/python3.10/site-packages (from pydantic->google-generativeai) (2.23.4)\n",
      "Requirement already satisfied: grpcio<2.0dev,>=1.33.2 in /opt/conda/lib/python3.10/site-packages (from google-api-core[grpc]!=2.0.*,!=2.1.*,!=2.10.*,!=2.2.*,!=2.3.*,!=2.4.*,!=2.5.*,!=2.6.*,!=2.7.*,!=2.8.*,!=2.9.*,<3.0.0dev,>=1.34.1->google-ai-generativelanguage==0.6.10->google-generativeai) (1.62.2)\n",
      "Requirement already satisfied: grpcio-status<2.0.dev0,>=1.33.2 in /opt/conda/lib/python3.10/site-packages (from google-api-core[grpc]!=2.0.*,!=2.1.*,!=2.10.*,!=2.2.*,!=2.3.*,!=2.4.*,!=2.5.*,!=2.6.*,!=2.7.*,!=2.8.*,!=2.9.*,<3.0.0dev,>=1.34.1->google-ai-generativelanguage==0.6.10->google-generativeai) (1.48.0)\n",
      "Requirement already satisfied: pyparsing!=3.0.0,!=3.0.1,!=3.0.2,!=3.0.3,<4,>=2.4.2 in /opt/conda/lib/python3.10/site-packages (from httplib2<1.dev0,>=0.19.0->google-api-python-client->google-generativeai) (3.1.2)\n",
      "Requirement already satisfied: pyasn1<0.7.0,>=0.4.6 in /opt/conda/lib/python3.10/site-packages (from pyasn1-modules>=0.2.1->google-auth>=2.15.0->google-generativeai) (0.6.0)\n",
      "Requirement already satisfied: charset-normalizer<4,>=2 in /opt/conda/lib/python3.10/site-packages (from requests<3.0.0.dev0,>=2.18.0->google-api-core->google-generativeai) (3.3.2)\n",
      "Requirement already satisfied: idna<4,>=2.5 in /opt/conda/lib/python3.10/site-packages (from requests<3.0.0.dev0,>=2.18.0->google-api-core->google-generativeai) (3.7)\n",
      "Requirement already satisfied: urllib3<3,>=1.21.1 in /opt/conda/lib/python3.10/site-packages (from requests<3.0.0.dev0,>=2.18.0->google-api-core->google-generativeai) (1.26.18)\n",
      "Requirement already satisfied: certifi>=2017.4.17 in /opt/conda/lib/python3.10/site-packages (from requests<3.0.0.dev0,>=2.18.0->google-api-core->google-generativeai) (2024.8.30)\n"
     ]
    }
   ],
   "source": [
    "!pip install gspread google-auth-oauthlib google-auth-httplib2\n",
    "!pip install google-generativeai"
   ]
  },
  {
   "cell_type": "code",
   "execution_count": 3,
   "metadata": {
    "execution": {
     "iopub.execute_input": "2025-09-07T14:08:14.660717Z",
     "iopub.status.busy": "2025-09-07T14:08:14.660364Z",
     "iopub.status.idle": "2025-09-07T14:08:14.803163Z",
     "shell.execute_reply": "2025-09-07T14:08:14.802202Z",
     "shell.execute_reply.started": "2025-09-07T14:08:14.660683Z"
    },
    "trusted": true
   },
   "outputs": [],
   "source": [
    "from flask import send_from_directory"
   ]
  },
  {
   "cell_type": "code",
   "execution_count": 4,
   "metadata": {
    "execution": {
     "iopub.execute_input": "2025-09-07T14:08:14.805618Z",
     "iopub.status.busy": "2025-09-07T14:08:14.805294Z",
     "iopub.status.idle": "2025-09-07T14:09:40.331753Z",
     "shell.execute_reply": "2025-09-07T14:09:40.330749Z",
     "shell.execute_reply.started": "2025-09-07T14:08:14.805591Z"
    },
    "trusted": true
   },
   "outputs": [
    {
     "name": "stdout",
     "output_type": "stream",
     "text": [
      "Requirement already satisfied: pydub in /opt/conda/lib/python3.10/site-packages (0.25.1)\n",
      "Collecting transformers==4.32.0\n",
      "  Downloading transformers-4.32.0-py3-none-any.whl.metadata (118 kB)\n",
      "\u001b[2K     \u001b[90m━━━━━━━━━━━━━━━━━━━━━━━━━━━━━━━━━━━━━━━\u001b[0m \u001b[32m118.5/118.5 kB\u001b[0m \u001b[31m1.5 MB/s\u001b[0m eta \u001b[36m0:00:00\u001b[0ma \u001b[36m0:00:01\u001b[0m\n",
      "\u001b[?25hRequirement already satisfied: filelock in /opt/conda/lib/python3.10/site-packages (from transformers==4.32.0) (3.15.1)\n",
      "Requirement already satisfied: huggingface-hub<1.0,>=0.15.1 in /opt/conda/lib/python3.10/site-packages (from transformers==4.32.0) (0.25.1)\n",
      "Requirement already satisfied: numpy>=1.17 in /opt/conda/lib/python3.10/site-packages (from transformers==4.32.0) (1.26.4)\n",
      "Requirement already satisfied: packaging>=20.0 in /opt/conda/lib/python3.10/site-packages (from transformers==4.32.0) (21.3)\n",
      "Requirement already satisfied: pyyaml>=5.1 in /opt/conda/lib/python3.10/site-packages (from transformers==4.32.0) (6.0.2)\n",
      "Requirement already satisfied: regex!=2019.12.17 in /opt/conda/lib/python3.10/site-packages (from transformers==4.32.0) (2024.5.15)\n",
      "Requirement already satisfied: requests in /opt/conda/lib/python3.10/site-packages (from transformers==4.32.0) (2.32.3)\n",
      "Collecting tokenizers!=0.11.3,<0.14,>=0.11.1 (from transformers==4.32.0)\n",
      "  Downloading tokenizers-0.13.3-cp310-cp310-manylinux_2_17_x86_64.manylinux2014_x86_64.whl.metadata (6.7 kB)\n",
      "Requirement already satisfied: safetensors>=0.3.1 in /opt/conda/lib/python3.10/site-packages (from transformers==4.32.0) (0.4.5)\n",
      "Requirement already satisfied: tqdm>=4.27 in /opt/conda/lib/python3.10/site-packages (from transformers==4.32.0) (4.66.4)\n",
      "Requirement already satisfied: fsspec>=2023.5.0 in /opt/conda/lib/python3.10/site-packages (from huggingface-hub<1.0,>=0.15.1->transformers==4.32.0) (2024.6.1)\n",
      "Requirement already satisfied: typing-extensions>=3.7.4.3 in /opt/conda/lib/python3.10/site-packages (from huggingface-hub<1.0,>=0.15.1->transformers==4.32.0) (4.12.2)\n",
      "Requirement already satisfied: pyparsing!=3.0.5,>=2.0.2 in /opt/conda/lib/python3.10/site-packages (from packaging>=20.0->transformers==4.32.0) (3.1.2)\n",
      "Requirement already satisfied: charset-normalizer<4,>=2 in /opt/conda/lib/python3.10/site-packages (from requests->transformers==4.32.0) (3.3.2)\n",
      "Requirement already satisfied: idna<4,>=2.5 in /opt/conda/lib/python3.10/site-packages (from requests->transformers==4.32.0) (3.7)\n",
      "Requirement already satisfied: urllib3<3,>=1.21.1 in /opt/conda/lib/python3.10/site-packages (from requests->transformers==4.32.0) (1.26.18)\n",
      "Requirement already satisfied: certifi>=2017.4.17 in /opt/conda/lib/python3.10/site-packages (from requests->transformers==4.32.0) (2024.8.30)\n",
      "Downloading transformers-4.32.0-py3-none-any.whl (7.5 MB)\n",
      "\u001b[2K   \u001b[90m━━━━━━━━━━━━━━━━━━━━━━━━━━━━━━━━━━━━━━━━\u001b[0m \u001b[32m7.5/7.5 MB\u001b[0m \u001b[31m62.2 MB/s\u001b[0m eta \u001b[36m0:00:00\u001b[0m:00:01\u001b[0m00:01\u001b[0m\n",
      "\u001b[?25hDownloading tokenizers-0.13.3-cp310-cp310-manylinux_2_17_x86_64.manylinux2014_x86_64.whl (7.8 MB)\n",
      "\u001b[2K   \u001b[90m━━━━━━━━━━━━━━━━━━━━━━━━━━━━━━━━━━━━━━━━\u001b[0m \u001b[32m7.8/7.8 MB\u001b[0m \u001b[31m92.6 MB/s\u001b[0m eta \u001b[36m0:00:00\u001b[0m:00:01\u001b[0m00:01\u001b[0m\n",
      "\u001b[?25hInstalling collected packages: tokenizers, transformers\n",
      "  Attempting uninstall: tokenizers\n",
      "    Found existing installation: tokenizers 0.20.0\n",
      "    Uninstalling tokenizers-0.20.0:\n",
      "      Successfully uninstalled tokenizers-0.20.0\n",
      "  Attempting uninstall: transformers\n",
      "    Found existing installation: transformers 4.45.1\n",
      "    Uninstalling transformers-4.45.1:\n",
      "      Successfully uninstalled transformers-4.45.1\n",
      "\u001b[31mERROR: pip's dependency resolver does not currently take into account all the packages that are installed. This behaviour is the source of the following dependency conflicts.\n",
      "kaggle-environments 1.14.15 requires transformers>=4.33.1, but you have transformers 4.32.0 which is incompatible.\u001b[0m\u001b[31m\n",
      "\u001b[0mSuccessfully installed tokenizers-0.13.3 transformers-4.32.0\n",
      "Collecting denoiser\n",
      "  Downloading denoiser-0.1.5.tar.gz (49 kB)\n",
      "\u001b[2K     \u001b[90m━━━━━━━━━━━━━━━━━━━━━━━━━━━━━━━━━━━━━━━━\u001b[0m \u001b[32m49.8/49.8 kB\u001b[0m \u001b[31m2.2 MB/s\u001b[0m eta \u001b[36m0:00:00\u001b[0m\n",
      "\u001b[?25h  Preparing metadata (setup.py) ... \u001b[?25ldone\n",
      "\u001b[?25hCollecting julius (from denoiser)\n",
      "  Downloading julius-0.2.7.tar.gz (59 kB)\n",
      "\u001b[2K     \u001b[90m━━━━━━━━━━━━━━━━━━━━━━━━━━━━━━━━━━━━━━━━\u001b[0m \u001b[32m59.6/59.6 kB\u001b[0m \u001b[31m3.7 MB/s\u001b[0m eta \u001b[36m0:00:00\u001b[0m\n",
      "\u001b[?25h  Preparing metadata (setup.py) ... \u001b[?25ldone\n",
      "\u001b[?25hCollecting hydra_core<1.0 (from denoiser)\n",
      "  Downloading hydra_core-0.11.3-py3-none-any.whl.metadata (2.2 kB)\n",
      "Collecting hydra_colorlog<1.0 (from denoiser)\n",
      "  Downloading hydra_colorlog-0.1.4-py3-none-any.whl.metadata (1.0 kB)\n",
      "Requirement already satisfied: numpy>=1.19 in /opt/conda/lib/python3.10/site-packages (from denoiser) (1.26.4)\n",
      "Collecting pystoi>=0.3.3 (from denoiser)\n",
      "  Downloading pystoi-0.4.1-py2.py3-none-any.whl.metadata (4.0 kB)\n",
      "Requirement already satisfied: six in /opt/conda/lib/python3.10/site-packages (from denoiser) (1.16.0)\n",
      "Collecting sounddevice>=0.4 (from denoiser)\n",
      "  Downloading sounddevice-0.5.2-py3-none-any.whl.metadata (1.6 kB)\n",
      "Requirement already satisfied: torch>=1.5 in /opt/conda/lib/python3.10/site-packages (from denoiser) (2.4.0)\n",
      "Requirement already satisfied: torchaudio>=0.5 in /opt/conda/lib/python3.10/site-packages (from denoiser) (2.4.0)\n",
      "Requirement already satisfied: colorlog in /opt/conda/lib/python3.10/site-packages (from hydra_colorlog<1.0->denoiser) (6.8.2)\n",
      "Collecting omegaconf<1.5,>=1.4 (from hydra_core<1.0->denoiser)\n",
      "  Downloading omegaconf-1.4.1-py3-none-any.whl.metadata (2.9 kB)\n",
      "Requirement already satisfied: scipy in /opt/conda/lib/python3.10/site-packages (from pystoi>=0.3.3->denoiser) (1.14.1)\n",
      "Requirement already satisfied: CFFI>=1.0 in /opt/conda/lib/python3.10/site-packages (from sounddevice>=0.4->denoiser) (1.16.0)\n",
      "Requirement already satisfied: filelock in /opt/conda/lib/python3.10/site-packages (from torch>=1.5->denoiser) (3.15.1)\n",
      "Requirement already satisfied: typing-extensions>=4.8.0 in /opt/conda/lib/python3.10/site-packages (from torch>=1.5->denoiser) (4.12.2)\n",
      "Requirement already satisfied: sympy in /opt/conda/lib/python3.10/site-packages (from torch>=1.5->denoiser) (1.13.3)\n",
      "Requirement already satisfied: networkx in /opt/conda/lib/python3.10/site-packages (from torch>=1.5->denoiser) (3.3)\n",
      "Requirement already satisfied: jinja2 in /opt/conda/lib/python3.10/site-packages (from torch>=1.5->denoiser) (3.1.4)\n",
      "Requirement already satisfied: fsspec in /opt/conda/lib/python3.10/site-packages (from torch>=1.5->denoiser) (2024.6.1)\n",
      "Requirement already satisfied: pycparser in /opt/conda/lib/python3.10/site-packages (from CFFI>=1.0->sounddevice>=0.4->denoiser) (2.22)\n",
      "Requirement already satisfied: PyYAML in /opt/conda/lib/python3.10/site-packages (from omegaconf<1.5,>=1.4->hydra_core<1.0->denoiser) (6.0.2)\n",
      "Requirement already satisfied: MarkupSafe>=2.0 in /opt/conda/lib/python3.10/site-packages (from jinja2->torch>=1.5->denoiser) (2.1.5)\n",
      "Requirement already satisfied: mpmath<1.4,>=1.1.0 in /opt/conda/lib/python3.10/site-packages (from sympy->torch>=1.5->denoiser) (1.3.0)\n",
      "Downloading hydra_colorlog-0.1.4-py3-none-any.whl (4.0 kB)\n",
      "Downloading hydra_core-0.11.3-py3-none-any.whl (72 kB)\n",
      "\u001b[2K   \u001b[90m━━━━━━━━━━━━━━━━━━━━━━━━━━━━━━━━━━━━━━━━\u001b[0m \u001b[32m72.1/72.1 kB\u001b[0m \u001b[31m5.2 MB/s\u001b[0m eta \u001b[36m0:00:00\u001b[0m\n",
      "\u001b[?25hDownloading pystoi-0.4.1-py2.py3-none-any.whl (8.2 kB)\n",
      "Downloading sounddevice-0.5.2-py3-none-any.whl (32 kB)\n",
      "Downloading omegaconf-1.4.1-py3-none-any.whl (14 kB)\n",
      "Building wheels for collected packages: denoiser, julius\n",
      "  Building wheel for denoiser (setup.py) ... \u001b[?25ldone\n",
      "\u001b[?25h  Created wheel for denoiser: filename=denoiser-0.1.5-py3-none-any.whl size=43821 sha256=43060bd69884ff4533960bd7cf3522dd3130f73f37a6c3d2e4a3d0b0821a602b\n",
      "  Stored in directory: /root/.cache/pip/wheels/f1/57/3f/7ce0ae586d457c598b2cb275a37801ff5a705f656ba7a0215e\n",
      "  Building wheel for julius (setup.py) ... \u001b[?25ldone\n",
      "\u001b[?25h  Created wheel for julius: filename=julius-0.2.7-py3-none-any.whl size=21870 sha256=f89ed54fa25cca82b3bf80eb21cd0658bea77d632e12cf08fa66fdcc9b97ebe8\n",
      "  Stored in directory: /root/.cache/pip/wheels/b9/b2/05/f883527ffcb7f2ead5438a2c23439aa0c881eaa9a4c80256f4\n",
      "Successfully built denoiser julius\n",
      "Installing collected packages: omegaconf, sounddevice, pystoi, hydra_core, julius, hydra_colorlog, denoiser\n",
      "Successfully installed denoiser-0.1.5 hydra_colorlog-0.1.4 hydra_core-0.11.3 julius-0.2.7 omegaconf-1.4.1 pystoi-0.4.1 sounddevice-0.5.2\n",
      "Collecting noisereduce\n",
      "  Downloading noisereduce-3.0.3-py3-none-any.whl.metadata (14 kB)\n",
      "Requirement already satisfied: scipy in /opt/conda/lib/python3.10/site-packages (from noisereduce) (1.14.1)\n",
      "Requirement already satisfied: matplotlib in /opt/conda/lib/python3.10/site-packages (from noisereduce) (3.7.5)\n",
      "Requirement already satisfied: numpy in /opt/conda/lib/python3.10/site-packages (from noisereduce) (1.26.4)\n",
      "Requirement already satisfied: tqdm in /opt/conda/lib/python3.10/site-packages (from noisereduce) (4.66.4)\n",
      "Requirement already satisfied: joblib in /opt/conda/lib/python3.10/site-packages (from noisereduce) (1.4.2)\n",
      "Requirement already satisfied: contourpy>=1.0.1 in /opt/conda/lib/python3.10/site-packages (from matplotlib->noisereduce) (1.2.1)\n",
      "Requirement already satisfied: cycler>=0.10 in /opt/conda/lib/python3.10/site-packages (from matplotlib->noisereduce) (0.12.1)\n",
      "Requirement already satisfied: fonttools>=4.22.0 in /opt/conda/lib/python3.10/site-packages (from matplotlib->noisereduce) (4.53.0)\n",
      "Requirement already satisfied: kiwisolver>=1.0.1 in /opt/conda/lib/python3.10/site-packages (from matplotlib->noisereduce) (1.4.5)\n",
      "Requirement already satisfied: packaging>=20.0 in /opt/conda/lib/python3.10/site-packages (from matplotlib->noisereduce) (21.3)\n",
      "Requirement already satisfied: pillow>=6.2.0 in /opt/conda/lib/python3.10/site-packages (from matplotlib->noisereduce) (10.3.0)\n",
      "Requirement already satisfied: pyparsing>=2.3.1 in /opt/conda/lib/python3.10/site-packages (from matplotlib->noisereduce) (3.1.2)\n",
      "Requirement already satisfied: python-dateutil>=2.7 in /opt/conda/lib/python3.10/site-packages (from matplotlib->noisereduce) (2.9.0.post0)\n",
      "Requirement already satisfied: six>=1.5 in /opt/conda/lib/python3.10/site-packages (from python-dateutil>=2.7->matplotlib->noisereduce) (1.16.0)\n",
      "Downloading noisereduce-3.0.3-py3-none-any.whl (22 kB)\n",
      "Installing collected packages: noisereduce\n",
      "Successfully installed noisereduce-3.0.3\n",
      "Requirement already satisfied: torchaudio in /opt/conda/lib/python3.10/site-packages (2.4.0)\n",
      "Requirement already satisfied: torch in /opt/conda/lib/python3.10/site-packages (from torchaudio) (2.4.0)\n",
      "Requirement already satisfied: filelock in /opt/conda/lib/python3.10/site-packages (from torch->torchaudio) (3.15.1)\n",
      "Requirement already satisfied: typing-extensions>=4.8.0 in /opt/conda/lib/python3.10/site-packages (from torch->torchaudio) (4.12.2)\n",
      "Requirement already satisfied: sympy in /opt/conda/lib/python3.10/site-packages (from torch->torchaudio) (1.13.3)\n",
      "Requirement already satisfied: networkx in /opt/conda/lib/python3.10/site-packages (from torch->torchaudio) (3.3)\n",
      "Requirement already satisfied: jinja2 in /opt/conda/lib/python3.10/site-packages (from torch->torchaudio) (3.1.4)\n",
      "Requirement already satisfied: fsspec in /opt/conda/lib/python3.10/site-packages (from torch->torchaudio) (2024.6.1)\n",
      "Requirement already satisfied: MarkupSafe>=2.0 in /opt/conda/lib/python3.10/site-packages (from jinja2->torch->torchaudio) (2.1.5)\n",
      "Requirement already satisfied: mpmath<1.4,>=1.1.0 in /opt/conda/lib/python3.10/site-packages (from sympy->torch->torchaudio) (1.3.0)\n",
      "Requirement already satisfied: librosa in /opt/conda/lib/python3.10/site-packages (0.10.2.post1)\n",
      "Requirement already satisfied: audioread>=2.1.9 in /opt/conda/lib/python3.10/site-packages (from librosa) (3.0.1)\n",
      "Requirement already satisfied: numpy!=1.22.0,!=1.22.1,!=1.22.2,>=1.20.3 in /opt/conda/lib/python3.10/site-packages (from librosa) (1.26.4)\n",
      "Requirement already satisfied: scipy>=1.2.0 in /opt/conda/lib/python3.10/site-packages (from librosa) (1.14.1)\n",
      "Requirement already satisfied: scikit-learn>=0.20.0 in /opt/conda/lib/python3.10/site-packages (from librosa) (1.2.2)\n",
      "Requirement already satisfied: joblib>=0.14 in /opt/conda/lib/python3.10/site-packages (from librosa) (1.4.2)\n",
      "Requirement already satisfied: decorator>=4.3.0 in /opt/conda/lib/python3.10/site-packages (from librosa) (5.1.1)\n",
      "Requirement already satisfied: numba>=0.51.0 in /opt/conda/lib/python3.10/site-packages (from librosa) (0.60.0)\n",
      "Requirement already satisfied: soundfile>=0.12.1 in /opt/conda/lib/python3.10/site-packages (from librosa) (0.12.1)\n",
      "Requirement already satisfied: pooch>=1.1 in /opt/conda/lib/python3.10/site-packages (from librosa) (1.8.2)\n",
      "Requirement already satisfied: soxr>=0.3.2 in /opt/conda/lib/python3.10/site-packages (from librosa) (0.5.0.post1)\n",
      "Requirement already satisfied: typing-extensions>=4.1.1 in /opt/conda/lib/python3.10/site-packages (from librosa) (4.12.2)\n",
      "Requirement already satisfied: lazy-loader>=0.1 in /opt/conda/lib/python3.10/site-packages (from librosa) (0.4)\n",
      "Requirement already satisfied: msgpack>=1.0 in /opt/conda/lib/python3.10/site-packages (from librosa) (1.0.8)\n",
      "Requirement already satisfied: packaging in /opt/conda/lib/python3.10/site-packages (from lazy-loader>=0.1->librosa) (21.3)\n",
      "Requirement already satisfied: llvmlite<0.44,>=0.43.0dev0 in /opt/conda/lib/python3.10/site-packages (from numba>=0.51.0->librosa) (0.43.0)\n",
      "Requirement already satisfied: platformdirs>=2.5.0 in /opt/conda/lib/python3.10/site-packages (from pooch>=1.1->librosa) (3.11.0)\n",
      "Requirement already satisfied: requests>=2.19.0 in /opt/conda/lib/python3.10/site-packages (from pooch>=1.1->librosa) (2.32.3)\n",
      "Requirement already satisfied: threadpoolctl>=2.0.0 in /opt/conda/lib/python3.10/site-packages (from scikit-learn>=0.20.0->librosa) (3.5.0)\n",
      "Requirement already satisfied: cffi>=1.0 in /opt/conda/lib/python3.10/site-packages (from soundfile>=0.12.1->librosa) (1.16.0)\n",
      "Requirement already satisfied: pycparser in /opt/conda/lib/python3.10/site-packages (from cffi>=1.0->soundfile>=0.12.1->librosa) (2.22)\n",
      "Requirement already satisfied: pyparsing!=3.0.5,>=2.0.2 in /opt/conda/lib/python3.10/site-packages (from packaging->lazy-loader>=0.1->librosa) (3.1.2)\n",
      "Requirement already satisfied: charset-normalizer<4,>=2 in /opt/conda/lib/python3.10/site-packages (from requests>=2.19.0->pooch>=1.1->librosa) (3.3.2)\n",
      "Requirement already satisfied: idna<4,>=2.5 in /opt/conda/lib/python3.10/site-packages (from requests>=2.19.0->pooch>=1.1->librosa) (3.7)\n",
      "Requirement already satisfied: urllib3<3,>=1.21.1 in /opt/conda/lib/python3.10/site-packages (from requests>=2.19.0->pooch>=1.1->librosa) (1.26.18)\n",
      "Requirement already satisfied: certifi>=2017.4.17 in /opt/conda/lib/python3.10/site-packages (from requests>=2.19.0->pooch>=1.1->librosa) (2024.8.30)\n",
      "Collecting pyannote.audio\n",
      "  Downloading pyannote.audio-3.3.2-py2.py3-none-any.whl.metadata (11 kB)\n",
      "Collecting asteroid-filterbanks>=0.4 (from pyannote.audio)\n",
      "  Downloading asteroid_filterbanks-0.4.0-py3-none-any.whl.metadata (3.3 kB)\n",
      "Collecting einops>=0.6.0 (from pyannote.audio)\n",
      "  Downloading einops-0.8.1-py3-none-any.whl.metadata (13 kB)\n",
      "Requirement already satisfied: huggingface-hub>=0.13.0 in /opt/conda/lib/python3.10/site-packages (from pyannote.audio) (0.25.1)\n",
      "Collecting lightning>=2.0.1 (from pyannote.audio)\n",
      "  Downloading lightning-2.5.5-py3-none-any.whl.metadata (39 kB)\n",
      "Collecting omegaconf<3.0,>=2.1 (from pyannote.audio)\n",
      "  Downloading omegaconf-2.3.0-py3-none-any.whl.metadata (3.9 kB)\n",
      "Collecting pyannote.core>=5.0.0 (from pyannote.audio)\n",
      "  Downloading pyannote.core-5.0.0-py3-none-any.whl.metadata (1.4 kB)\n",
      "Collecting pyannote.database>=5.0.1 (from pyannote.audio)\n",
      "  Downloading pyannote.database-5.1.3-py3-none-any.whl.metadata (1.1 kB)\n",
      "Collecting pyannote.metrics>=3.2 (from pyannote.audio)\n",
      "  Downloading pyannote.metrics-3.2.1-py3-none-any.whl.metadata (1.3 kB)\n",
      "Collecting pyannote.pipeline>=3.0.1 (from pyannote.audio)\n",
      "  Downloading pyannote.pipeline-3.0.1-py3-none-any.whl.metadata (897 bytes)\n",
      "Collecting pytorch-metric-learning>=2.1.0 (from pyannote.audio)\n",
      "  Downloading pytorch_metric_learning-2.9.0-py3-none-any.whl.metadata (18 kB)\n",
      "Requirement already satisfied: rich>=12.0.0 in /opt/conda/lib/python3.10/site-packages (from pyannote.audio) (13.7.1)\n",
      "Requirement already satisfied: semver>=3.0.0 in /opt/conda/lib/python3.10/site-packages (from pyannote.audio) (3.0.2)\n",
      "Requirement already satisfied: soundfile>=0.12.1 in /opt/conda/lib/python3.10/site-packages (from pyannote.audio) (0.12.1)\n",
      "Collecting speechbrain>=1.0.0 (from pyannote.audio)\n",
      "  Downloading speechbrain-1.0.3-py3-none-any.whl.metadata (24 kB)\n",
      "Requirement already satisfied: tensorboardX>=2.6 in /opt/conda/lib/python3.10/site-packages (from pyannote.audio) (2.6.2.2)\n",
      "Requirement already satisfied: torch>=2.0.0 in /opt/conda/lib/python3.10/site-packages (from pyannote.audio) (2.4.0)\n",
      "Collecting torch-audiomentations>=0.11.0 (from pyannote.audio)\n",
      "  Downloading torch_audiomentations-0.12.0-py3-none-any.whl.metadata (15 kB)\n",
      "Requirement already satisfied: torchaudio>=2.2.0 in /opt/conda/lib/python3.10/site-packages (from pyannote.audio) (2.4.0)\n",
      "Requirement already satisfied: torchmetrics>=0.11.0 in /opt/conda/lib/python3.10/site-packages (from pyannote.audio) (1.4.2)\n",
      "Requirement already satisfied: numpy in /opt/conda/lib/python3.10/site-packages (from asteroid-filterbanks>=0.4->pyannote.audio) (1.26.4)\n",
      "Requirement already satisfied: typing-extensions in /opt/conda/lib/python3.10/site-packages (from asteroid-filterbanks>=0.4->pyannote.audio) (4.12.2)\n",
      "Requirement already satisfied: filelock in /opt/conda/lib/python3.10/site-packages (from huggingface-hub>=0.13.0->pyannote.audio) (3.15.1)\n",
      "Requirement already satisfied: fsspec>=2023.5.0 in /opt/conda/lib/python3.10/site-packages (from huggingface-hub>=0.13.0->pyannote.audio) (2024.6.1)\n",
      "Requirement already satisfied: packaging>=20.9 in /opt/conda/lib/python3.10/site-packages (from huggingface-hub>=0.13.0->pyannote.audio) (21.3)\n",
      "Requirement already satisfied: pyyaml>=5.1 in /opt/conda/lib/python3.10/site-packages (from huggingface-hub>=0.13.0->pyannote.audio) (6.0.2)\n",
      "Requirement already satisfied: requests in /opt/conda/lib/python3.10/site-packages (from huggingface-hub>=0.13.0->pyannote.audio) (2.32.3)\n",
      "Requirement already satisfied: tqdm>=4.42.1 in /opt/conda/lib/python3.10/site-packages (from huggingface-hub>=0.13.0->pyannote.audio) (4.66.4)\n",
      "Requirement already satisfied: lightning-utilities<2.0,>=0.10.0 in /opt/conda/lib/python3.10/site-packages (from lightning>=2.0.1->pyannote.audio) (0.11.7)\n",
      "Requirement already satisfied: pytorch-lightning in /opt/conda/lib/python3.10/site-packages (from lightning>=2.0.1->pyannote.audio) (2.4.0)\n",
      "Collecting antlr4-python3-runtime==4.9.* (from omegaconf<3.0,>=2.1->pyannote.audio)\n",
      "  Downloading antlr4-python3-runtime-4.9.3.tar.gz (117 kB)\n",
      "\u001b[2K     \u001b[90m━━━━━━━━━━━━━━━━━━━━━━━━━━━━━━━━━━━━━━━\u001b[0m \u001b[32m117.0/117.0 kB\u001b[0m \u001b[31m6.1 MB/s\u001b[0m eta \u001b[36m0:00:00\u001b[0m\n",
      "\u001b[?25h  Preparing metadata (setup.py) ... \u001b[?25ldone\n",
      "\u001b[?25hRequirement already satisfied: sortedcontainers>=2.0.4 in /opt/conda/lib/python3.10/site-packages (from pyannote.core>=5.0.0->pyannote.audio) (2.4.0)\n",
      "Requirement already satisfied: scipy>=1.1 in /opt/conda/lib/python3.10/site-packages (from pyannote.core>=5.0.0->pyannote.audio) (1.14.1)\n",
      "Requirement already satisfied: pandas>=0.19 in /opt/conda/lib/python3.10/site-packages (from pyannote.database>=5.0.1->pyannote.audio) (2.2.2)\n",
      "Requirement already satisfied: typer>=0.12.1 in /opt/conda/lib/python3.10/site-packages (from pyannote.database>=5.0.1->pyannote.audio) (0.12.3)\n",
      "Requirement already satisfied: scikit-learn>=0.17.1 in /opt/conda/lib/python3.10/site-packages (from pyannote.metrics>=3.2->pyannote.audio) (1.2.2)\n",
      "Requirement already satisfied: docopt>=0.6.2 in /opt/conda/lib/python3.10/site-packages (from pyannote.metrics>=3.2->pyannote.audio) (0.6.2)\n",
      "Requirement already satisfied: tabulate>=0.7.7 in /opt/conda/lib/python3.10/site-packages (from pyannote.metrics>=3.2->pyannote.audio) (0.9.0)\n",
      "Requirement already satisfied: matplotlib>=2.0.0 in /opt/conda/lib/python3.10/site-packages (from pyannote.metrics>=3.2->pyannote.audio) (3.7.5)\n",
      "Requirement already satisfied: sympy>=1.1 in /opt/conda/lib/python3.10/site-packages (from pyannote.metrics>=3.2->pyannote.audio) (1.13.3)\n",
      "Requirement already satisfied: optuna>=3.1 in /opt/conda/lib/python3.10/site-packages (from pyannote.pipeline>=3.0.1->pyannote.audio) (4.0.0)\n",
      "Requirement already satisfied: markdown-it-py>=2.2.0 in /opt/conda/lib/python3.10/site-packages (from rich>=12.0.0->pyannote.audio) (3.0.0)\n",
      "Requirement already satisfied: pygments<3.0.0,>=2.13.0 in /opt/conda/lib/python3.10/site-packages (from rich>=12.0.0->pyannote.audio) (2.18.0)\n",
      "Requirement already satisfied: cffi>=1.0 in /opt/conda/lib/python3.10/site-packages (from soundfile>=0.12.1->pyannote.audio) (1.16.0)\n",
      "Collecting hyperpyyaml (from speechbrain>=1.0.0->pyannote.audio)\n",
      "  Downloading HyperPyYAML-1.2.2-py3-none-any.whl.metadata (7.6 kB)\n",
      "Requirement already satisfied: joblib in /opt/conda/lib/python3.10/site-packages (from speechbrain>=1.0.0->pyannote.audio) (1.4.2)\n",
      "Requirement already satisfied: sentencepiece in /opt/conda/lib/python3.10/site-packages (from speechbrain>=1.0.0->pyannote.audio) (0.2.0)\n",
      "Requirement already satisfied: protobuf>=3.20 in /opt/conda/lib/python3.10/site-packages (from tensorboardX>=2.6->pyannote.audio) (3.20.3)\n",
      "Requirement already satisfied: networkx in /opt/conda/lib/python3.10/site-packages (from torch>=2.0.0->pyannote.audio) (3.3)\n",
      "Requirement already satisfied: jinja2 in /opt/conda/lib/python3.10/site-packages (from torch>=2.0.0->pyannote.audio) (3.1.4)\n",
      "Requirement already satisfied: julius<0.3,>=0.2.3 in /opt/conda/lib/python3.10/site-packages (from torch-audiomentations>=0.11.0->pyannote.audio) (0.2.7)\n",
      "Collecting torch-pitch-shift>=1.2.2 (from torch-audiomentations>=0.11.0->pyannote.audio)\n",
      "  Downloading torch_pitch_shift-1.2.5-py3-none-any.whl.metadata (2.5 kB)\n",
      "Requirement already satisfied: pycparser in /opt/conda/lib/python3.10/site-packages (from cffi>=1.0->soundfile>=0.12.1->pyannote.audio) (2.22)\n",
      "Requirement already satisfied: aiohttp!=4.0.0a0,!=4.0.0a1 in /opt/conda/lib/python3.10/site-packages (from fsspec[http]<2027.0,>=2022.5.0->lightning>=2.0.1->pyannote.audio) (3.9.5)\n",
      "Requirement already satisfied: setuptools in /opt/conda/lib/python3.10/site-packages (from lightning-utilities<2.0,>=0.10.0->lightning>=2.0.1->pyannote.audio) (70.0.0)\n",
      "Requirement already satisfied: mdurl~=0.1 in /opt/conda/lib/python3.10/site-packages (from markdown-it-py>=2.2.0->rich>=12.0.0->pyannote.audio) (0.1.2)\n",
      "Requirement already satisfied: contourpy>=1.0.1 in /opt/conda/lib/python3.10/site-packages (from matplotlib>=2.0.0->pyannote.metrics>=3.2->pyannote.audio) (1.2.1)\n",
      "Requirement already satisfied: cycler>=0.10 in /opt/conda/lib/python3.10/site-packages (from matplotlib>=2.0.0->pyannote.metrics>=3.2->pyannote.audio) (0.12.1)\n",
      "Requirement already satisfied: fonttools>=4.22.0 in /opt/conda/lib/python3.10/site-packages (from matplotlib>=2.0.0->pyannote.metrics>=3.2->pyannote.audio) (4.53.0)\n",
      "Requirement already satisfied: kiwisolver>=1.0.1 in /opt/conda/lib/python3.10/site-packages (from matplotlib>=2.0.0->pyannote.metrics>=3.2->pyannote.audio) (1.4.5)\n",
      "Requirement already satisfied: pillow>=6.2.0 in /opt/conda/lib/python3.10/site-packages (from matplotlib>=2.0.0->pyannote.metrics>=3.2->pyannote.audio) (10.3.0)\n",
      "Requirement already satisfied: pyparsing>=2.3.1 in /opt/conda/lib/python3.10/site-packages (from matplotlib>=2.0.0->pyannote.metrics>=3.2->pyannote.audio) (3.1.2)\n",
      "Requirement already satisfied: python-dateutil>=2.7 in /opt/conda/lib/python3.10/site-packages (from matplotlib>=2.0.0->pyannote.metrics>=3.2->pyannote.audio) (2.9.0.post0)\n",
      "Requirement already satisfied: alembic>=1.5.0 in /opt/conda/lib/python3.10/site-packages (from optuna>=3.1->pyannote.pipeline>=3.0.1->pyannote.audio) (1.13.3)\n",
      "Requirement already satisfied: colorlog in /opt/conda/lib/python3.10/site-packages (from optuna>=3.1->pyannote.pipeline>=3.0.1->pyannote.audio) (6.8.2)\n",
      "Requirement already satisfied: sqlalchemy>=1.3.0 in /opt/conda/lib/python3.10/site-packages (from optuna>=3.1->pyannote.pipeline>=3.0.1->pyannote.audio) (2.0.30)\n",
      "Requirement already satisfied: pytz>=2020.1 in /opt/conda/lib/python3.10/site-packages (from pandas>=0.19->pyannote.database>=5.0.1->pyannote.audio) (2024.1)\n",
      "Requirement already satisfied: tzdata>=2022.7 in /opt/conda/lib/python3.10/site-packages (from pandas>=0.19->pyannote.database>=5.0.1->pyannote.audio) (2024.1)\n",
      "Requirement already satisfied: threadpoolctl>=2.0.0 in /opt/conda/lib/python3.10/site-packages (from scikit-learn>=0.17.1->pyannote.metrics>=3.2->pyannote.audio) (3.5.0)\n",
      "Requirement already satisfied: mpmath<1.4,>=1.1.0 in /opt/conda/lib/python3.10/site-packages (from sympy>=1.1->pyannote.metrics>=3.2->pyannote.audio) (1.3.0)\n",
      "Collecting primePy>=1.3 (from torch-pitch-shift>=1.2.2->torch-audiomentations>=0.11.0->pyannote.audio)\n",
      "  Downloading primePy-1.3-py3-none-any.whl.metadata (4.8 kB)\n",
      "Requirement already satisfied: click>=8.0.0 in /opt/conda/lib/python3.10/site-packages (from typer>=0.12.1->pyannote.database>=5.0.1->pyannote.audio) (8.1.7)\n",
      "Requirement already satisfied: shellingham>=1.3.0 in /opt/conda/lib/python3.10/site-packages (from typer>=0.12.1->pyannote.database>=5.0.1->pyannote.audio) (1.5.4)\n",
      "Requirement already satisfied: ruamel.yaml>=0.17.28 in /opt/conda/lib/python3.10/site-packages (from hyperpyyaml->speechbrain>=1.0.0->pyannote.audio) (0.18.6)\n",
      "Requirement already satisfied: MarkupSafe>=2.0 in /opt/conda/lib/python3.10/site-packages (from jinja2->torch>=2.0.0->pyannote.audio) (2.1.5)\n",
      "Requirement already satisfied: charset-normalizer<4,>=2 in /opt/conda/lib/python3.10/site-packages (from requests->huggingface-hub>=0.13.0->pyannote.audio) (3.3.2)\n",
      "Requirement already satisfied: idna<4,>=2.5 in /opt/conda/lib/python3.10/site-packages (from requests->huggingface-hub>=0.13.0->pyannote.audio) (3.7)\n",
      "Requirement already satisfied: urllib3<3,>=1.21.1 in /opt/conda/lib/python3.10/site-packages (from requests->huggingface-hub>=0.13.0->pyannote.audio) (1.26.18)\n",
      "Requirement already satisfied: certifi>=2017.4.17 in /opt/conda/lib/python3.10/site-packages (from requests->huggingface-hub>=0.13.0->pyannote.audio) (2024.8.30)\n",
      "Requirement already satisfied: aiosignal>=1.1.2 in /opt/conda/lib/python3.10/site-packages (from aiohttp!=4.0.0a0,!=4.0.0a1->fsspec[http]<2027.0,>=2022.5.0->lightning>=2.0.1->pyannote.audio) (1.3.1)\n",
      "Requirement already satisfied: attrs>=17.3.0 in /opt/conda/lib/python3.10/site-packages (from aiohttp!=4.0.0a0,!=4.0.0a1->fsspec[http]<2027.0,>=2022.5.0->lightning>=2.0.1->pyannote.audio) (23.2.0)\n",
      "Requirement already satisfied: frozenlist>=1.1.1 in /opt/conda/lib/python3.10/site-packages (from aiohttp!=4.0.0a0,!=4.0.0a1->fsspec[http]<2027.0,>=2022.5.0->lightning>=2.0.1->pyannote.audio) (1.4.1)\n",
      "Requirement already satisfied: multidict<7.0,>=4.5 in /opt/conda/lib/python3.10/site-packages (from aiohttp!=4.0.0a0,!=4.0.0a1->fsspec[http]<2027.0,>=2022.5.0->lightning>=2.0.1->pyannote.audio) (6.0.5)\n",
      "Requirement already satisfied: yarl<2.0,>=1.0 in /opt/conda/lib/python3.10/site-packages (from aiohttp!=4.0.0a0,!=4.0.0a1->fsspec[http]<2027.0,>=2022.5.0->lightning>=2.0.1->pyannote.audio) (1.9.4)\n",
      "Requirement already satisfied: async-timeout<5.0,>=4.0 in /opt/conda/lib/python3.10/site-packages (from aiohttp!=4.0.0a0,!=4.0.0a1->fsspec[http]<2027.0,>=2022.5.0->lightning>=2.0.1->pyannote.audio) (4.0.3)\n",
      "Requirement already satisfied: Mako in /opt/conda/lib/python3.10/site-packages (from alembic>=1.5.0->optuna>=3.1->pyannote.pipeline>=3.0.1->pyannote.audio) (1.3.5)\n",
      "Requirement already satisfied: six>=1.5 in /opt/conda/lib/python3.10/site-packages (from python-dateutil>=2.7->matplotlib>=2.0.0->pyannote.metrics>=3.2->pyannote.audio) (1.16.0)\n",
      "Requirement already satisfied: ruamel.yaml.clib>=0.2.7 in /opt/conda/lib/python3.10/site-packages (from ruamel.yaml>=0.17.28->hyperpyyaml->speechbrain>=1.0.0->pyannote.audio) (0.2.8)\n",
      "Requirement already satisfied: greenlet!=0.4.17 in /opt/conda/lib/python3.10/site-packages (from sqlalchemy>=1.3.0->optuna>=3.1->pyannote.pipeline>=3.0.1->pyannote.audio) (3.0.3)\n",
      "Downloading pyannote.audio-3.3.2-py2.py3-none-any.whl (898 kB)\n",
      "\u001b[2K   \u001b[90m━━━━━━━━━━━━━━━━━━━━━━━━━━━━━━━━━━━━━━━━\u001b[0m \u001b[32m898.7/898.7 kB\u001b[0m \u001b[31m24.5 MB/s\u001b[0m eta \u001b[36m0:00:00\u001b[0m00:01\u001b[0m\n",
      "\u001b[?25hDownloading asteroid_filterbanks-0.4.0-py3-none-any.whl (29 kB)\n",
      "Downloading einops-0.8.1-py3-none-any.whl (64 kB)\n",
      "\u001b[2K   \u001b[90m━━━━━━━━━━━━━━━━━━━━━━━━━━━━━━━━━━━━━━━━\u001b[0m \u001b[32m64.4/64.4 kB\u001b[0m \u001b[31m3.8 MB/s\u001b[0m eta \u001b[36m0:00:00\u001b[0m\n",
      "\u001b[?25hDownloading lightning-2.5.5-py3-none-any.whl (828 kB)\n",
      "\u001b[2K   \u001b[90m━━━━━━━━━━━━━━━━━━━━━━━━━━━━━━━━━━━━━━━━\u001b[0m \u001b[32m828.5/828.5 kB\u001b[0m \u001b[31m23.4 MB/s\u001b[0m eta \u001b[36m0:00:00\u001b[0m00:01\u001b[0m\n",
      "\u001b[?25hDownloading omegaconf-2.3.0-py3-none-any.whl (79 kB)\n",
      "\u001b[2K   \u001b[90m━━━━━━━━━━━━━━━━━━━━━━━━━━━━━━━━━━━━━━━━\u001b[0m \u001b[32m79.5/79.5 kB\u001b[0m \u001b[31m5.6 MB/s\u001b[0m eta \u001b[36m0:00:00\u001b[0m\n",
      "\u001b[?25hDownloading pyannote.core-5.0.0-py3-none-any.whl (58 kB)\n",
      "\u001b[2K   \u001b[90m━━━━━━━━━━━━━━━━━━━━━━━━━━━━━━━━━━━━━━━━\u001b[0m \u001b[32m58.5/58.5 kB\u001b[0m \u001b[31m3.5 MB/s\u001b[0m eta \u001b[36m0:00:00\u001b[0m\n",
      "\u001b[?25hDownloading pyannote.database-5.1.3-py3-none-any.whl (48 kB)\n",
      "\u001b[2K   \u001b[90m━━━━━━━━━━━━━━━━━━━━━━━━━━━━━━━━━━━━━━━━\u001b[0m \u001b[32m48.1/48.1 kB\u001b[0m \u001b[31m3.2 MB/s\u001b[0m eta \u001b[36m0:00:00\u001b[0m\n",
      "\u001b[?25hDownloading pyannote.metrics-3.2.1-py3-none-any.whl (51 kB)\n",
      "\u001b[2K   \u001b[90m━━━━━━━━━━━━━━━━━━━━━━━━━━━━━━━━━━━━━━━━\u001b[0m \u001b[32m51.4/51.4 kB\u001b[0m \u001b[31m3.2 MB/s\u001b[0m eta \u001b[36m0:00:00\u001b[0m\n",
      "\u001b[?25hDownloading pyannote.pipeline-3.0.1-py3-none-any.whl (31 kB)\n",
      "Downloading pytorch_metric_learning-2.9.0-py3-none-any.whl (127 kB)\n",
      "\u001b[2K   \u001b[90m━━━━━━━━━━━━━━━━━━━━━━━━━━━━━━━━━━━━━━━━\u001b[0m \u001b[32m127.8/127.8 kB\u001b[0m \u001b[31m9.7 MB/s\u001b[0m eta \u001b[36m0:00:00\u001b[0m\n",
      "\u001b[?25hDownloading speechbrain-1.0.3-py3-none-any.whl (864 kB)\n",
      "\u001b[2K   \u001b[90m━━━━━━━━━━━━━━━━━━━━━━━━━━━━━━━━━━━━━━━━\u001b[0m \u001b[32m864.1/864.1 kB\u001b[0m \u001b[31m42.4 MB/s\u001b[0m eta \u001b[36m0:00:00\u001b[0m\n",
      "\u001b[?25hDownloading torch_audiomentations-0.12.0-py3-none-any.whl (48 kB)\n",
      "\u001b[2K   \u001b[90m━━━━━━━━━━━━━━━━━━━━━━━━━━━━━━━━━━━━━━━━\u001b[0m \u001b[32m48.5/48.5 kB\u001b[0m \u001b[31m3.0 MB/s\u001b[0m eta \u001b[36m0:00:00\u001b[0m\n",
      "\u001b[?25hDownloading torch_pitch_shift-1.2.5-py3-none-any.whl (5.0 kB)\n",
      "Downloading HyperPyYAML-1.2.2-py3-none-any.whl (16 kB)\n",
      "Downloading primePy-1.3-py3-none-any.whl (4.0 kB)\n",
      "Building wheels for collected packages: antlr4-python3-runtime\n",
      "  Building wheel for antlr4-python3-runtime (setup.py) ... \u001b[?25ldone\n",
      "\u001b[?25h  Created wheel for antlr4-python3-runtime: filename=antlr4_python3_runtime-4.9.3-py3-none-any.whl size=144554 sha256=99910fd7a81ab15bb1d3820b0371c56fbebef6dbbd3ec4e26096879195caf86b\n",
      "  Stored in directory: /root/.cache/pip/wheels/12/93/dd/1f6a127edc45659556564c5730f6d4e300888f4bca2d4c5a88\n",
      "Successfully built antlr4-python3-runtime\n",
      "Installing collected packages: primePy, antlr4-python3-runtime, omegaconf, einops, pyannote.core, hyperpyyaml, pytorch-metric-learning, asteroid-filterbanks, torch-pitch-shift, speechbrain, pyannote.database, torch-audiomentations, pyannote.pipeline, pyannote.metrics, lightning, pyannote.audio\n",
      "  Attempting uninstall: omegaconf\n",
      "    Found existing installation: omegaconf 1.4.1\n",
      "    Uninstalling omegaconf-1.4.1:\n",
      "      Successfully uninstalled omegaconf-1.4.1\n",
      "\u001b[31mERROR: pip's dependency resolver does not currently take into account all the packages that are installed. This behaviour is the source of the following dependency conflicts.\n",
      "hydra-core 0.11.3 requires omegaconf<1.5,>=1.4, but you have omegaconf 2.3.0 which is incompatible.\u001b[0m\u001b[31m\n",
      "\u001b[0mSuccessfully installed antlr4-python3-runtime-4.9.3 asteroid-filterbanks-0.4.0 einops-0.8.1 hyperpyyaml-1.2.2 lightning-2.5.5 omegaconf-2.3.0 primePy-1.3 pyannote.audio-3.3.2 pyannote.core-5.0.0 pyannote.database-5.1.3 pyannote.metrics-3.2.1 pyannote.pipeline-3.0.1 pytorch-metric-learning-2.9.0 speechbrain-1.0.3 torch-audiomentations-0.12.0 torch-pitch-shift-1.2.5\n"
     ]
    }
   ],
   "source": [
    "!pip install pydub\n",
    "!pip install transformers==4.32.0\n",
    "!pip install -U denoiser\n",
    "!pip install noisereduce\n",
    "!pip install torchaudio\n",
    "!pip install librosa\n",
    "!pip install pyannote.audio"
   ]
  },
  {
   "cell_type": "code",
   "execution_count": 5,
   "metadata": {
    "execution": {
     "iopub.execute_input": "2025-09-07T14:09:40.333492Z",
     "iopub.status.busy": "2025-09-07T14:09:40.333223Z",
     "iopub.status.idle": "2025-09-07T14:10:05.717601Z",
     "shell.execute_reply": "2025-09-07T14:10:05.716422Z",
     "shell.execute_reply.started": "2025-09-07T14:09:40.333463Z"
    },
    "trusted": true
   },
   "outputs": [
    {
     "name": "stderr",
     "output_type": "stream",
     "text": [
      "/opt/conda/lib/python3.10/site-packages/transformers/utils/generic.py:260: FutureWarning: `torch.utils._pytree._register_pytree_node` is deprecated. Please use `torch.utils._pytree.register_pytree_node` instead.\n",
      "  torch.utils._pytree._register_pytree_node(\n"
     ]
    }
   ],
   "source": [
    "import gspread\n",
    "from google.oauth2.service_account import Credentials\n",
    "import google.generativeai as genai\n",
    "import os\n",
    "import json\n",
    "import os\n",
    "import logging\n",
    "import time\n",
    "import threading\n",
    "from flask import Flask, request, jsonify\n",
    "from pyngrok import ngrok\n",
    "from pydub import AudioSegment\n",
    "import torch\n",
    "import torchaudio\n",
    "import urllib.request\n",
    "import locale\n",
    "locale.getpreferredencoding = lambda: \"UTF-8\"\n",
    "import glob\n",
    "import os\n",
    "import base64\n",
    "import numpy as np\n",
    "from pydub import AudioSegment\n",
    "from pyannote.audio import Model, Audio\n",
    "from pyannote.audio.pipelines import VoiceActivityDetection\n",
    "from pyannote.core import Segment\n",
    "from transformers import pipeline\n",
    "from sklearn.cluster import AgglomerativeClustering\n",
    "from pyannote.audio.pipelines.speaker_verification import PretrainedSpeakerEmbedding\n",
    "import torch\n",
    "from kaggle_secrets import UserSecretsClient "
   ]
  },
  {
   "cell_type": "code",
   "execution_count": 6,
   "metadata": {
    "execution": {
     "iopub.execute_input": "2025-09-07T14:10:05.719151Z",
     "iopub.status.busy": "2025-09-07T14:10:05.718763Z",
     "iopub.status.idle": "2025-09-07T14:10:06.105841Z",
     "shell.execute_reply": "2025-09-07T14:10:06.104922Z",
     "shell.execute_reply.started": "2025-09-07T14:10:05.719103Z"
    },
    "trusted": true
   },
   "outputs": [
    {
     "name": "stdout",
     "output_type": "stream",
     "text": [
      "Successfully loaded GCP_SA_KEY from Kaggle Secrets into environment.\n",
      "Successfully loaded GEMINI_API_KEY from Kaggle Secrets into environment.\n"
     ]
    }
   ],
   "source": [
    "try:\n",
    "    user_secrets = UserSecretsClient()\n",
    "    \n",
    "    # Get the Google Sheets/GCP key\n",
    "    gcp_sa_key_string = user_secrets.get_secret(\"GCP_SA_KEY\")\n",
    "    os.environ['GCP_SA_KEY'] = gcp_sa_key_string\n",
    "    print(\"Successfully loaded GCP_SA_KEY from Kaggle Secrets into environment.\")\n",
    "    \n",
    "    # Get the Gemini API key\n",
    "    gemini_api_key = user_secrets.get_secret(\"GEMINI_API_KEY\")\n",
    "    os.environ['GEMINI_API_KEY'] = gemini_api_key\n",
    "    print(\"Successfully loaded GEMINI_API_KEY from Kaggle Secrets into environment.\")\n",
    "\n",
    "except Exception as e:\n",
    "    print(f\"CRITICAL ERROR: Could not load secrets from Kaggle. Error: {e}\")\n",
    "    # Set to empty strings so downstream functions fail gracefully\n",
    "    os.environ['GCP_SA_KEY'] = \"\"\n",
    "    os.environ['GEMINI_API_KEY'] = \"\""
   ]
  },
  {
   "cell_type": "code",
   "execution_count": 7,
   "metadata": {
    "execution": {
     "iopub.execute_input": "2025-09-07T14:10:06.107272Z",
     "iopub.status.busy": "2025-09-07T14:10:06.106945Z",
     "iopub.status.idle": "2025-09-07T14:10:06.113945Z",
     "shell.execute_reply": "2025-09-07T14:10:06.113046Z",
     "shell.execute_reply.started": "2025-09-07T14:10:06.107241Z"
    },
    "trusted": true
   },
   "outputs": [],
   "source": [
    "logging.basicConfig(level=logging.INFO, format='%(asctime)s - %(levelname)s - %(message)s')\n",
    "\n",
    "# Define directories\n",
    "INPUT_FOLDER = '/kaggle/working/input_wav_files'\n",
    "OUTPUT_FOLDER = '/kaggle/working/output_text_files'\n",
    "os.makedirs(INPUT_FOLDER, exist_ok=True)\n",
    "os.makedirs(OUTPUT_FOLDER, exist_ok=True)\n",
    "\n",
    "# Initialize Flask app\n",
    "app = Flask(__name__)"
   ]
  },
  {
   "cell_type": "code",
   "execution_count": null,
   "metadata": {
    "execution": {
     "iopub.execute_input": "2025-09-07T14:10:06.115317Z",
     "iopub.status.busy": "2025-09-07T14:10:06.115029Z",
     "iopub.status.idle": "2025-09-07T14:10:09.183911Z",
     "shell.execute_reply": "2025-09-07T14:10:09.182885Z",
     "shell.execute_reply.started": "2025-09-07T14:10:06.115290Z"
    },
    "trusted": true
   },
   "outputs": [
    {
     "name": "stdout",
     "output_type": "stream",
     "text": [
      "                                                                                                    \r"
     ]
    }
   ],
   "source": [
    "# Set ngrok authtoken (replace with your actual ngrok authtoken)\n",
    "NGROK_AUTHTOKEN = ''  # Set this securely, e.g., via environment variables\n",
    "ngrok.set_auth_token(NGROK_AUTHTOKEN)"
   ]
  },
  {
   "cell_type": "code",
   "execution_count": 9,
   "metadata": {
    "execution": {
     "iopub.execute_input": "2025-09-07T14:10:09.186168Z",
     "iopub.status.busy": "2025-09-07T14:10:09.185360Z",
     "iopub.status.idle": "2025-09-07T14:10:09.193835Z",
     "shell.execute_reply": "2025-09-07T14:10:09.192827Z",
     "shell.execute_reply.started": "2025-09-07T14:10:09.186093Z"
    },
    "trusted": true
   },
   "outputs": [],
   "source": [
    "def update_spreadsheet(spreadsheet_name, worksheet_name, file_name, whisper_output, google_output):\n",
    "    \"\"\"\n",
    "    Appends a new row to the specified Google Sheet with the transcription data.\n",
    "    \"\"\"\n",
    "    logging.info(\"Attempting to update Google Sheet...\")\n",
    "    try:\n",
    "        # Load credentials from Kaggle Secrets\n",
    "        sa_key_json_string = os.environ.get('GCP_SA_KEY')\n",
    "        if not sa_key_json_string:\n",
    "            logging.error(\"Kaggle Secret 'GCP_SA_KEY' not found.\")\n",
    "            return False\n",
    "            \n",
    "        creds_dict = json.loads(sa_key_json_string)\n",
    "        \n",
    "        scopes = ['https://www.googleapis.com/auth/spreadsheets', 'https://www.googleapis.com/auth/drive']\n",
    "        creds = Credentials.from_service_account_info(creds_dict, scopes=scopes)\n",
    "        client = gspread.authorize(creds)\n",
    "\n",
    "        # Open the spreadsheet and the specific worksheet\n",
    "        spreadsheet = client.open(spreadsheet_name)\n",
    "        worksheet = spreadsheet.worksheet(worksheet_name)\n",
    "        \n",
    "        # Ensure header row exists\n",
    "        header = [\"file_name\", \"whisper_output\", \"structured_text\"]\n",
    "        try:\n",
    "            # Check if the first row matches the header\n",
    "            if worksheet.row_values(1) != header:\n",
    "                worksheet.insert_row(header, 1)\n",
    "        except gspread.exceptions.APIError: # Likely an empty sheet\n",
    "             worksheet.insert_row(header, 1)\n",
    "\n",
    "\n",
    "        # Prepare the row to be added\n",
    "        new_row = [file_name, whisper_output, google_output]\n",
    "        \n",
    "        # Append the new row to the worksheet\n",
    "        worksheet.append_row(new_row)\n",
    "        logging.info(f\"Successfully updated spreadsheet for file: {file_name}\")\n",
    "        return True\n",
    "    except Exception as e:\n",
    "        logging.error(f\"Error updating spreadsheet: {e}\")\n",
    "        return False\n"
   ]
  },
  {
   "cell_type": "code",
   "execution_count": 10,
   "metadata": {
    "execution": {
     "iopub.execute_input": "2025-09-07T14:10:09.196499Z",
     "iopub.status.busy": "2025-09-07T14:10:09.196239Z",
     "iopub.status.idle": "2025-09-07T14:10:09.209488Z",
     "shell.execute_reply": "2025-09-07T14:10:09.208502Z",
     "shell.execute_reply.started": "2025-09-07T14:10:09.196473Z"
    },
    "trusted": true
   },
   "outputs": [],
   "source": [
    "# Convert input audio to WAV format\n",
    "def convert_to_wav(input_path, output_path):\n",
    "    if isinstance(input_path, bytes):  # If input is Base64\n",
    "        decoded = base64.b64decode(input_path)\n",
    "        with open(\"temp_input.mp3\", \"wb\") as f:\n",
    "            f.write(decoded)\n",
    "        audio = AudioSegment.from_file(\"temp_input.mp3\")\n",
    "    else:  # If input is a file path\n",
    "        audio = AudioSegment.from_file(input_path)\n",
    "\n",
    "    audio.export(output_path, format=\"wav\")\n",
    "    return output_path"
   ]
  },
  {
   "cell_type": "code",
   "execution_count": 11,
   "metadata": {
    "execution": {
     "iopub.execute_input": "2025-09-07T14:10:09.210610Z",
     "iopub.status.busy": "2025-09-07T14:10:09.210400Z",
     "iopub.status.idle": "2025-09-07T14:10:33.969956Z",
     "shell.execute_reply": "2025-09-07T14:10:33.968712Z",
     "shell.execute_reply.started": "2025-09-07T14:10:09.210588Z"
    },
    "trusted": true
   },
   "outputs": [
    {
     "name": "stderr",
     "output_type": "stream",
     "text": [
      "/opt/conda/lib/python3.10/site-packages/huggingface_hub/file_download.py:1142: FutureWarning: `resume_download` is deprecated and will be removed in version 1.0.0. Downloads always resume when possible. If you want to force a new download, use `force_download=True`.\n",
      "  warnings.warn(\n"
     ]
    },
    {
     "data": {
      "application/vnd.jupyter.widget-view+json": {
       "model_id": "271e82baae5e4166b415d773d2a7910d",
       "version_major": 2,
       "version_minor": 0
      },
      "text/plain": [
       "config.json: 0.00B [00:00, ?B/s]"
      ]
     },
     "metadata": {},
     "output_type": "display_data"
    },
    {
     "data": {
      "application/vnd.jupyter.widget-view+json": {
       "model_id": "5f7ccb3abf8547fdae12244ad5375fcb",
       "version_major": 2,
       "version_minor": 0
      },
      "text/plain": [
       "pytorch_model.bin:   0%|          | 0.00/3.06G [00:00<?, ?B/s]"
      ]
     },
     "metadata": {},
     "output_type": "display_data"
    },
    {
     "name": "stderr",
     "output_type": "stream",
     "text": [
      "/opt/conda/lib/python3.10/site-packages/transformers/modeling_utils.py:479: FutureWarning: You are using `torch.load` with `weights_only=False` (the current default value), which uses the default pickle module implicitly. It is possible to construct malicious pickle data which will execute arbitrary code during unpickling (See https://github.com/pytorch/pytorch/blob/main/SECURITY.md#untrusted-models for more details). In a future release, the default value for `weights_only` will be flipped to `True`. This limits the functions that could be executed during unpickling. Arbitrary objects will no longer be allowed to be loaded via this mode unless they are explicitly allowlisted by the user via `torch.serialization.add_safe_globals`. We recommend you start setting `weights_only=True` for any use case where you don't have full control of the loaded file. Please open an issue on GitHub for any issues related to this experimental feature.\n",
      "  return torch.load(checkpoint_file, map_location=map_location)\n"
     ]
    },
    {
     "data": {
      "application/vnd.jupyter.widget-view+json": {
       "model_id": "4965ed59a2f34584bdcb440e21b86c44",
       "version_major": 2,
       "version_minor": 0
      },
      "text/plain": [
       "vocab.json: 0.00B [00:00, ?B/s]"
      ]
     },
     "metadata": {},
     "output_type": "display_data"
    },
    {
     "data": {
      "application/vnd.jupyter.widget-view+json": {
       "model_id": "1b636364b4f64d4f9e568199696cdbb2",
       "version_major": 2,
       "version_minor": 0
      },
      "text/plain": [
       "merges.txt: 0.00B [00:00, ?B/s]"
      ]
     },
     "metadata": {},
     "output_type": "display_data"
    },
    {
     "data": {
      "application/vnd.jupyter.widget-view+json": {
       "model_id": "dbba45c3b9b840048182bae536bbc311",
       "version_major": 2,
       "version_minor": 0
      },
      "text/plain": [
       "normalizer.json: 0.00B [00:00, ?B/s]"
      ]
     },
     "metadata": {},
     "output_type": "display_data"
    },
    {
     "data": {
      "application/vnd.jupyter.widget-view+json": {
       "model_id": "beab463c4a8341fa9910171cf73b9646",
       "version_major": 2,
       "version_minor": 0
      },
      "text/plain": [
       "added_tokens.json: 0.00B [00:00, ?B/s]"
      ]
     },
     "metadata": {},
     "output_type": "display_data"
    },
    {
     "data": {
      "application/vnd.jupyter.widget-view+json": {
       "model_id": "8c25aa770120424ba9f852ee044c348b",
       "version_major": 2,
       "version_minor": 0
      },
      "text/plain": [
       "special_tokens_map.json: 0.00B [00:00, ?B/s]"
      ]
     },
     "metadata": {},
     "output_type": "display_data"
    },
    {
     "data": {
      "application/vnd.jupyter.widget-view+json": {
       "model_id": "ee54909732e148c0ba6c7d2aae51047a",
       "version_major": 2,
       "version_minor": 0
      },
      "text/plain": [
       "preprocessor_config.json:   0%|          | 0.00/339 [00:00<?, ?B/s]"
      ]
     },
     "metadata": {},
     "output_type": "display_data"
    }
   ],
   "source": [
    "# Set up device\n",
    "device = \"cuda\" if torch.cuda.is_available() else \"cpu\"\n",
    "device_index = 0 if device == \"cuda\" else -1\n",
    "\n",
    "# Load ASR pipeline (Bangla whisper model for example)\n",
    "asr_model_name = \"sakibzaman/AIMSCRIBE_WHISPER_BN\"\n",
    "asr_pipeline = pipeline(task=\"automatic-speech-recognition\", model=asr_model_name, tokenizer=asr_model_name, chunk_length_s=8, device=device_index)\n",
    "asr_pipeline.model.config.forced_decoder_ids = asr_pipeline.tokenizer.get_decoder_prompt_ids(language=\"bn\", task=\"transcribe\")\n",
    "\n",
    "# Load VAD model\n"
   ]
  },
  {
   "cell_type": "code",
   "execution_count": null,
   "metadata": {
    "execution": {
     "iopub.execute_input": "2025-09-07T14:10:33.971753Z",
     "iopub.status.busy": "2025-09-07T14:10:33.971379Z",
     "iopub.status.idle": "2025-09-07T14:10:36.223627Z",
     "shell.execute_reply": "2025-09-07T14:10:36.222620Z",
     "shell.execute_reply.started": "2025-09-07T14:10:33.971707Z"
    },
    "trusted": true
   },
   "outputs": [
    {
     "data": {
      "application/vnd.jupyter.widget-view+json": {
       "model_id": "39ec1bf17c2841f59f315ddf43d66b77",
       "version_major": 2,
       "version_minor": 0
      },
      "text/plain": [
       "pytorch_model.bin:   0%|          | 0.00/17.7M [00:00<?, ?B/s]"
      ]
     },
     "metadata": {},
     "output_type": "display_data"
    },
    {
     "data": {
      "application/vnd.jupyter.widget-view+json": {
       "model_id": "63e5cc2fa2fe4fe3ad3d9fddf61973be",
       "version_major": 2,
       "version_minor": 0
      },
      "text/plain": [
       "config.yaml:   0%|          | 0.00/318 [00:00<?, ?B/s]"
      ]
     },
     "metadata": {},
     "output_type": "display_data"
    },
    {
     "name": "stdout",
     "output_type": "stream",
     "text": [
      "Model was trained with pyannote.audio 0.0.1, yours is 3.3.2. Bad things might happen unless you revert pyannote.audio to 0.x.\n",
      "Model was trained with torch 1.10.0+cu102, yours is 2.4.0. Bad things might happen unless you revert torch to 1.x.\n"
     ]
    },
    {
     "data": {
      "application/vnd.jupyter.widget-view+json": {
       "model_id": "c01ee984fcf4428b852fc6c8f652ac89",
       "version_major": 2,
       "version_minor": 0
      },
      "text/plain": [
       "hyperparams.yaml: 0.00B [00:00, ?B/s]"
      ]
     },
     "metadata": {},
     "output_type": "display_data"
    },
    {
     "name": "stderr",
     "output_type": "stream",
     "text": [
      "/opt/conda/lib/python3.10/site-packages/speechbrain/utils/autocast.py:188: FutureWarning: `torch.cuda.amp.custom_fwd(args...)` is deprecated. Please use `torch.amp.custom_fwd(args..., device_type='cuda')` instead.\n",
      "  wrapped_fwd = torch.cuda.amp.custom_fwd(fwd, cast_inputs=cast_inputs)\n"
     ]
    },
    {
     "data": {
      "application/vnd.jupyter.widget-view+json": {
       "model_id": "b1b18cc5cb354290b0ed072018eaf584",
       "version_major": 2,
       "version_minor": 0
      },
      "text/plain": [
       "embedding_model.ckpt:   0%|          | 0.00/83.3M [00:00<?, ?B/s]"
      ]
     },
     "metadata": {},
     "output_type": "display_data"
    },
    {
     "data": {
      "application/vnd.jupyter.widget-view+json": {
       "model_id": "bc38033272834650a6ddea38945ea113",
       "version_major": 2,
       "version_minor": 0
      },
      "text/plain": [
       "mean_var_norm_emb.ckpt:   0%|          | 0.00/1.92k [00:00<?, ?B/s]"
      ]
     },
     "metadata": {},
     "output_type": "display_data"
    },
    {
     "data": {
      "application/vnd.jupyter.widget-view+json": {
       "model_id": "77cd9764def94e8d847f743b9240788d",
       "version_major": 2,
       "version_minor": 0
      },
      "text/plain": [
       "classifier.ckpt:   0%|          | 0.00/5.53M [00:00<?, ?B/s]"
      ]
     },
     "metadata": {},
     "output_type": "display_data"
    },
    {
     "data": {
      "application/vnd.jupyter.widget-view+json": {
       "model_id": "a0d95226a8644160a44fc798b9ed2d02",
       "version_major": 2,
       "version_minor": 0
      },
      "text/plain": [
       "label_encoder.txt: 0.00B [00:00, ?B/s]"
      ]
     },
     "metadata": {},
     "output_type": "display_data"
    },
    {
     "name": "stderr",
     "output_type": "stream",
     "text": [
      "/opt/conda/lib/python3.10/site-packages/speechbrain/utils/checkpoints.py:200: FutureWarning: You are using `torch.load` with `weights_only=False` (the current default value), which uses the default pickle module implicitly. It is possible to construct malicious pickle data which will execute arbitrary code during unpickling (See https://github.com/pytorch/pytorch/blob/main/SECURITY.md#untrusted-models for more details). In a future release, the default value for `weights_only` will be flipped to `True`. This limits the functions that could be executed during unpickling. Arbitrary objects will no longer be allowed to be loaded via this mode unless they are explicitly allowlisted by the user via `torch.serialization.add_safe_globals`. We recommend you start setting `weights_only=True` for any use case where you don't have full control of the loaded file. Please open an issue on GitHub for any issues related to this experimental feature.\n",
      "  state_dict = torch.load(path, map_location=device)\n",
      "/opt/conda/lib/python3.10/site-packages/speechbrain/processing/features.py:1529: FutureWarning: You are using `torch.load` with `weights_only=False` (the current default value), which uses the default pickle module implicitly. It is possible to construct malicious pickle data which will execute arbitrary code during unpickling (See https://github.com/pytorch/pytorch/blob/main/SECURITY.md#untrusted-models for more details). In a future release, the default value for `weights_only` will be flipped to `True`. This limits the functions that could be executed during unpickling. Arbitrary objects will no longer be allowed to be loaded via this mode unless they are explicitly allowlisted by the user via `torch.serialization.add_safe_globals`. We recommend you start setting `weights_only=True` for any use case where you don't have full control of the loaded file. Please open an issue on GitHub for any issues related to this experimental feature.\n",
      "  stats = torch.load(path, map_location=device)\n"
     ]
    }
   ],
   "source": [
    "vad_model = Model.from_pretrained(\"pyannote/segmentation\", use_auth_token=\"\")\n",
    "vad_pipeline = VoiceActivityDetection(segmentation=vad_model, device=torch.device(device))\n",
    "# Load speaker embedding model\n",
    "embedding_model = PretrainedSpeakerEmbedding(\"speechbrain/spkrec-ecapa-voxceleb\", device=torch.device(device))\n",
    "audio_processor = Audio()"
   ]
  },
  {
   "cell_type": "code",
   "execution_count": 13,
   "metadata": {
    "execution": {
     "iopub.execute_input": "2025-09-07T14:10:36.225658Z",
     "iopub.status.busy": "2025-09-07T14:10:36.225348Z",
     "iopub.status.idle": "2025-09-07T14:10:36.241594Z",
     "shell.execute_reply": "2025-09-07T14:10:36.240663Z",
     "shell.execute_reply.started": "2025-09-07T14:10:36.225628Z"
    },
    "trusted": true
   },
   "outputs": [],
   "source": [
    "def process_audio(input_path, num_speakers=2):\n",
    "    \"\"\"\n",
    "    This is the definitive, efficient, and correct function.\n",
    "    It uses the \"Organize -> Transcribe\" strategy and now includes a\n",
    "    robust check to ensure all audio chunks are mono.\n",
    "    \"\"\"\n",
    "    print(f\"--- Starting Diarization for: {os.path.basename(input_path)} ---\")\n",
    "\n",
    "    # =================================================================================\n",
    "    # SETUP\n",
    "    # =================================================================================\n",
    "    file_name = os.path.basename(input_path).split('.')[0]\n",
    "    parent_folder = os.path.dirname(input_path)\n",
    "    output_text_path = os.path.join(OUTPUT_FOLDER, f\"{file_name}.txt\")\n",
    "    wav_path = convert_to_wav(input_path, \"temp_processing_audio.wav\")\n",
    "    audio_duration = AudioSegment.from_wav(wav_path).duration_seconds\n",
    "\n",
    "    # =================================================================================\n",
    "    # STEP 1: Voice Activity Detection (VAD)\n",
    "    # =================================================================================\n",
    "    vad_pipeline.instantiate({\n",
    "        \"onset\": 0.5, \"offset\": 0.6, \"min_duration_on\": 0.1, \"min_duration_off\": 0.1\n",
    "    })\n",
    "    print(\"Step 1: Finding all speech segments using VAD...\")\n",
    "    vad_result = vad_pipeline(wav_path)\n",
    "    speech_timeline = vad_result.get_timeline().support()\n",
    "\n",
    "    # =================================================================================\n",
    "    # STEP 2: Speaker Embedding Extraction\n",
    "    # =================================================================================\n",
    "    print(\"Step 2: Creating a 'voiceprint' for each speech segment...\")\n",
    "    embeddings = []\n",
    "    segments_for_clustering = []\n",
    "\n",
    "    for segment in speech_timeline:\n",
    "        start = segment.start\n",
    "        end = segment.end\n",
    "\n",
    "        if (end - start) < 0.1:\n",
    "            continue\n",
    "\n",
    "        waveform, sample_rate = torchaudio.load(wav_path, frame_offset=int(start * 16000), num_frames=int((end - start) * 16000))\n",
    "\n",
    "        # ===================================================================\n",
    "        # THE FIX IS HERE: Force the tensor to be mono BEFORE reshaping.\n",
    "        # ===================================================================\n",
    "        # If the tensor has more than one channel (e.g., stereo with shape [2, 16000]),\n",
    "        # we average the channels to create a mono tensor (shape [1, 16000]).\n",
    "        if waveform.shape[0] > 1:\n",
    "            waveform = torch.mean(waveform, dim=0, keepdim=True)\n",
    "        # ===================================================================\n",
    "\n",
    "        # This is the CRITICAL TENSOR SHAPING LOGIC.\n",
    "        if waveform.dim() == 1:\n",
    "            waveform = waveform.unsqueeze(0)\n",
    "        waveform_batch = waveform.unsqueeze(0)\n",
    "\n",
    "        embedding = embedding_model(waveform_batch.to(device))\n",
    "\n",
    "        final_embedding = None\n",
    "        if isinstance(embedding, torch.Tensor):\n",
    "            # If the model returns a tensor, convert it to a numpy array.\n",
    "            final_embedding = embedding.squeeze().cpu().numpy()\n",
    "        elif isinstance(embedding, np.ndarray):\n",
    "            # If the model already returned a numpy array, just use it.\n",
    "            final_embedding = np.squeeze(embedding)\n",
    "        else:\n",
    "            raise TypeError(f\"The embedding model returned an unexpected type: {type(embedding)}\")\n",
    "\n",
    "        embeddings.append(final_embedding)\n",
    "        # ===================================================================\n",
    "\n",
    "        segments_for_clustering.append({'start': start, 'end': end})\n",
    "\n",
    "    if not embeddings:\n",
    "        print(\"Error: No speech detected in the audio file. Cannot proceed.\")\n",
    "        os.remove(wav_path)\n",
    "        return\n",
    "\n",
    "    # =================================================================================\n",
    "    # STEP 3: Speaker Clustering\n",
    "    # =================================================================================\n",
    "    print(\"Step 3: Grouping voiceprints to identify speakers...\")\n",
    "    clustering = AgglomerativeClustering(n_clusters=num_speakers).fit(np.array(embeddings))\n",
    "    labels = clustering.labels_\n",
    "    for i, segment in enumerate(segments_for_clustering):\n",
    "        segment['speaker'] = f\"Speaker {labels[i] + 1}\"\n",
    "\n",
    "    # =================================================================================\n",
    "    # STEP 4: Merging into Speaker Turns\n",
    "    # =================================================================================\n",
    "    print(\"Step 4: Reconstructing conversation turns from segments...\")\n",
    "    speaker_turns = []\n",
    "    if segments_for_clustering:\n",
    "        current_turn = segments_for_clustering[0].copy()\n",
    "        for i in range(1, len(segments_for_clustering)):\n",
    "            segment = segments_for_clustering[i]\n",
    "            if segment['speaker'] == current_turn['speaker'] and (segment['start'] - current_turn['end']) < 1.5:\n",
    "                current_turn['end'] = segment['end']\n",
    "            else:\n",
    "                speaker_turns.append(current_turn)\n",
    "                current_turn = segment.copy()\n",
    "        speaker_turns.append(current_turn)\n",
    "\n",
    "    # =================================================================================\n",
    "    # STEP 5: Transcription\n",
    "    # =================================================================================\n",
    "    print(\"Step 5: Transcribing each speaker turn...\")\n",
    "    full_transcription = []\n",
    "    audio_file = AudioSegment.from_wav(wav_path)\n",
    "\n",
    "    for i, turn in enumerate(speaker_turns):\n",
    "        start_ms = int(turn['start'] * 1000)\n",
    "        end_ms = int(turn['end'] * 1000)\n",
    "\n",
    "        turn_audio_segment = audio_file[start_ms:end_ms]\n",
    "        temp_turn_path = f\"temp_turn_{i}.wav\"\n",
    "        turn_audio_segment.export(temp_turn_path, format=\"wav\")\n",
    "\n",
    "        transcription_result = asr_pipeline(temp_turn_path)[\"text\"]\n",
    "        os.remove(temp_turn_path)\n",
    "\n",
    "        formatted_line = f\"[{turn['speaker']} | {turn['start']:.2f}-{turn['end']:.2f}] {transcription_result.strip()}\"\n",
    "        full_transcription.append(formatted_line)\n",
    "\n",
    "    # =================================================================================\n",
    "    # FINAL OUTPUT AND CLEANUP\n",
    "    # =================================================================================\n",
    "    print(\"\\n--- FINAL DIARIZED TRANSCRIPT ---\")\n",
    "    print(\"\\n\".join(full_transcription))\n",
    "\n",
    "    print(f\"\\nTranscription saved to: {output_text_path}\")\n",
    "    with open(output_text_path, \"w\", encoding=\"utf-8\") as f:\n",
    "        f.write(\"\\n\".join(full_transcription))\n",
    "\n",
    "    os.remove(wav_path)\n",
    "\n",
    "    return output_text_path\n"
   ]
  },
  {
   "cell_type": "code",
   "execution_count": 15,
   "metadata": {
    "execution": {
     "iopub.execute_input": "2025-09-07T14:10:36.265046Z",
     "iopub.status.busy": "2025-09-07T14:10:36.264742Z",
     "iopub.status.idle": "2025-09-07T14:10:36.281333Z",
     "shell.execute_reply": "2025-09-07T14:10:36.280506Z",
     "shell.execute_reply.started": "2025-09-07T14:10:36.265011Z"
    },
    "trusted": true
   },
   "outputs": [],
   "source": [
    "# === PASTE THIS ENTIRE FUNCTION INTO YOUR KAGGLE NOTEBOOK ===\n",
    "\n",
    "@app.route('/upload/v1/<fileName>', methods=['POST'], endpoint='upload_file')\n",
    "def upload_file(fileName):\n",
    "    try:\n",
    "        # --- 1. File Validation and Saving ---\n",
    "        if 'file' not in request.files:\n",
    "            return jsonify({'error': 'No file provided'}), 400\n",
    "        file = request.files['file']\n",
    "        if file.filename == '' or not file.filename.endswith('.wav'):\n",
    "            return jsonify({'error': 'Invalid file format. Please upload a .wav file'}), 400\n",
    "        if not fileName.endswith('.wav'):\n",
    "            return jsonify({'error': 'fileName must end with .wav'}), 400\n",
    "\n",
    "        wav_path = os.path.join(INPUT_FOLDER, fileName)\n",
    "        file.save(wav_path)\n",
    "        logging.info(f'Saved file: {wav_path}')\n",
    "\n",
    "        # --- 2. Run Whisper/Pyannote Diarization ---\n",
    "        logging.info(\"Running Process 1: Whisper + pyannote diarization...\")\n",
    "        transcript_file_path = process_audio(wav_path) \n",
    "        \n",
    "        whisper_diarized_output = \"\"\n",
    "        if transcript_file_path and os.path.exists(transcript_file_path):\n",
    "             with open(transcript_file_path, 'r', encoding='utf-8') as f:\n",
    "                whisper_diarized_output = f.read()\n",
    "        logging.info(\"Process 1 complete.\")\n",
    "\n",
    "\n",
    "        # --- 4. Update the Google Spreadsheet ---\n",
    "        logging.info(\"Updating Google Sheet with both diarized outputs...\")\n",
    "        SPREADSHEET_NAME = \"My Transcription Project\"\n",
    "        WORKSHEET_NAME = \"Sheet1\"\n",
    "        update_spreadsheet(\n",
    "            spreadsheet_name=SPREADSHEET_NAME,\n",
    "            worksheet_name=WORKSHEET_NAME,\n",
    "            file_name=fileName,\n",
    "            whisper_output=whisper_diarized_output\n",
    "        )\n",
    "\n",
    "        # --- 5. Clean Up ONLY the Original Audio File ---\n",
    "        os.remove(wav_path)\n",
    "        \n",
    "        # FIX #1: The transcript file path is now correctly added to the response.\n",
    "        # Your local client is looking for the key 'output_file'.\n",
    "        transcript_filename = os.path.basename(transcript_file_path) if transcript_file_path else None\n",
    "\n",
    "        # FIX #2: The premature deletion of the transcript file is REMOVED.\n",
    "        # The file will now persist so the /download endpoint can serve it.\n",
    "        # os.remove(transcript_file_path) # <-- THIS LINE IS DELETED\n",
    "\n",
    "        # --- 6. Send the Final, Correct Response ---\n",
    "        return jsonify({\n",
    "            'message': 'File processed by both systems and spreadsheet updated.',\n",
    "            'file_name': fileName,\n",
    "            'output_file': transcript_filename, # <-- THIS KEY IS NOW PRESENT\n",
    "            'whisper_plus_pyannote_output': whisper_diarized_output\n",
    "        }), 200\n",
    "\n",
    "    except Exception as e:\n",
    "        logging.error(f'Error processing file {fileName}: {e}', exc_info=True)\n",
    "        return jsonify({'error': str(e)}), 500"
   ]
  },
  {
   "cell_type": "code",
   "execution_count": 16,
   "metadata": {
    "execution": {
     "iopub.execute_input": "2025-09-07T14:10:36.282592Z",
     "iopub.status.busy": "2025-09-07T14:10:36.282331Z",
     "iopub.status.idle": "2025-09-07T14:10:36.296772Z",
     "shell.execute_reply": "2025-09-07T14:10:36.295946Z",
     "shell.execute_reply.started": "2025-09-07T14:10:36.282561Z"
    },
    "trusted": true
   },
   "outputs": [],
   "source": [
    "@app.route('/download/v1/<transcript_filename>', methods=['GET'])\n",
    "def download_transcript(transcript_filename):\n",
    "    \"\"\"\n",
    "    This endpoint allows the client to download a generated transcription file.\n",
    "    It looks for the file inside the OUTPUT_FOLDER.\n",
    "    \"\"\"\n",
    "    logging.info(f\"Received download request for: {transcript_filename}\")\n",
    "    try:\n",
    "        # Use Flask's secure send_from_directory function.\n",
    "        # It safely handles file paths and prevents directory traversal attacks.\n",
    "        # as_attachment=True tells the client to treat this as a file to be saved.\n",
    "        return send_from_directory(\n",
    "            directory=OUTPUT_FOLDER, \n",
    "            path=transcript_filename, \n",
    "            as_attachment=True\n",
    "        )\n",
    "    except FileNotFoundError:\n",
    "        # If the requested file doesn't exist, return a proper 404 error.\n",
    "        logging.error(f\"Download request failed: File not found at {os.path.join(OUTPUT_FOLDER, transcript_filename)}\")\n",
    "        return jsonify({\"error\": \"File not found\"}), 404\n",
    "    except Exception as e:\n",
    "        logging.error(f\"An unexpected error occurred during download: {e}\")\n",
    "        return jsonify({\"error\": \"An internal server error occurred\"}),500"
   ]
  },
  {
   "cell_type": "code",
   "execution_count": 17,
   "metadata": {
    "execution": {
     "iopub.execute_input": "2025-09-07T14:10:36.298198Z",
     "iopub.status.busy": "2025-09-07T14:10:36.297865Z",
     "iopub.status.idle": "2025-09-07T14:10:36.310821Z",
     "shell.execute_reply": "2025-09-07T14:10:36.310079Z",
     "shell.execute_reply.started": "2025-09-07T14:10:36.298144Z"
    },
    "trusted": true
   },
   "outputs": [],
   "source": [
    "# Start Flask app in a separate thread\n",
    "def run_flask():\n",
    "    app.run(host='0.0.0.0', port=6000)\n",
    "\n",
    "# Start ngrok tunnel\n",
    "def start_ngrok():\n",
    "    public_url = ngrok.connect(6000, domain=\"internal-polliwog-eagerly.ngrok-free.app\")\n",
    "    logging.info(f'Ngrok tunnel established at: {public_url}')\n",
    "    print(f'Ngrok public URL: {public_url}')\n",
    "    return public_url"
   ]
  },
  {
   "cell_type": "code",
   "execution_count": null,
   "metadata": {
    "execution": {
     "iopub.execute_input": "2025-09-07T14:10:36.312134Z",
     "iopub.status.busy": "2025-09-07T14:10:36.311869Z"
    },
    "trusted": true
   },
   "outputs": [
    {
     "name": "stdout",
     "output_type": "stream",
     "text": [
      "Requirement already satisfied: pydub in /opt/conda/lib/python3.10/site-packages (0.25.1)\n",
      "Requirement already satisfied: transformers==4.32.0 in /opt/conda/lib/python3.10/site-packages (4.32.0)\n",
      "Requirement already satisfied: filelock in /opt/conda/lib/python3.10/site-packages (from transformers==4.32.0) (3.15.1)\n",
      "Requirement already satisfied: huggingface-hub<1.0,>=0.15.1 in /opt/conda/lib/python3.10/site-packages (from transformers==4.32.0) (0.25.1)\n",
      "Requirement already satisfied: numpy>=1.17 in /opt/conda/lib/python3.10/site-packages (from transformers==4.32.0) (1.26.4)\n",
      "Requirement already satisfied: packaging>=20.0 in /opt/conda/lib/python3.10/site-packages (from transformers==4.32.0) (21.3)\n",
      "Requirement already satisfied: pyyaml>=5.1 in /opt/conda/lib/python3.10/site-packages (from transformers==4.32.0) (6.0.2)\n",
      "Requirement already satisfied: regex!=2019.12.17 in /opt/conda/lib/python3.10/site-packages (from transformers==4.32.0) (2024.5.15)\n",
      "Requirement already satisfied: requests in /opt/conda/lib/python3.10/site-packages (from transformers==4.32.0) (2.32.3)\n",
      "Requirement already satisfied: tokenizers!=0.11.3,<0.14,>=0.11.1 in /opt/conda/lib/python3.10/site-packages (from transformers==4.32.0) (0.13.3)\n",
      "Requirement already satisfied: safetensors>=0.3.1 in /opt/conda/lib/python3.10/site-packages (from transformers==4.32.0) (0.4.5)\n",
      "Requirement already satisfied: tqdm>=4.27 in /opt/conda/lib/python3.10/site-packages (from transformers==4.32.0) (4.66.4)\n",
      "Requirement already satisfied: fsspec>=2023.5.0 in /opt/conda/lib/python3.10/site-packages (from huggingface-hub<1.0,>=0.15.1->transformers==4.32.0) (2024.6.1)\n",
      "Requirement already satisfied: typing-extensions>=3.7.4.3 in /opt/conda/lib/python3.10/site-packages (from huggingface-hub<1.0,>=0.15.1->transformers==4.32.0) (4.12.2)\n",
      "Requirement already satisfied: pyparsing!=3.0.5,>=2.0.2 in /opt/conda/lib/python3.10/site-packages (from packaging>=20.0->transformers==4.32.0) (3.1.2)\n",
      "Requirement already satisfied: charset-normalizer<4,>=2 in /opt/conda/lib/python3.10/site-packages (from requests->transformers==4.32.0) (3.3.2)\n",
      "Requirement already satisfied: idna<4,>=2.5 in /opt/conda/lib/python3.10/site-packages (from requests->transformers==4.32.0) (3.7)\n",
      "Requirement already satisfied: urllib3<3,>=1.21.1 in /opt/conda/lib/python3.10/site-packages (from requests->transformers==4.32.0) (1.26.18)\n",
      "Requirement already satisfied: certifi>=2017.4.17 in /opt/conda/lib/python3.10/site-packages (from requests->transformers==4.32.0) (2024.8.30)\n",
      "Requirement already satisfied: denoiser in /opt/conda/lib/python3.10/site-packages (0.1.5)\n",
      "Requirement already satisfied: julius in /opt/conda/lib/python3.10/site-packages (from denoiser) (0.2.7)\n",
      "Requirement already satisfied: hydra-core<1.0 in /opt/conda/lib/python3.10/site-packages (from denoiser) (0.11.3)\n",
      "Requirement already satisfied: hydra-colorlog<1.0 in /opt/conda/lib/python3.10/site-packages (from denoiser) (0.1.4)\n",
      "Requirement already satisfied: numpy>=1.19 in /opt/conda/lib/python3.10/site-packages (from denoiser) (1.26.4)\n",
      "Requirement already satisfied: pystoi>=0.3.3 in /opt/conda/lib/python3.10/site-packages (from denoiser) (0.4.1)\n",
      "Requirement already satisfied: six in /opt/conda/lib/python3.10/site-packages (from denoiser) (1.16.0)\n",
      "Requirement already satisfied: sounddevice>=0.4 in /opt/conda/lib/python3.10/site-packages (from denoiser) (0.5.2)\n",
      "Requirement already satisfied: torch>=1.5 in /opt/conda/lib/python3.10/site-packages (from denoiser) (2.4.0)\n",
      "Requirement already satisfied: torchaudio>=0.5 in /opt/conda/lib/python3.10/site-packages (from denoiser) (2.4.0)\n",
      "Requirement already satisfied: colorlog in /opt/conda/lib/python3.10/site-packages (from hydra-colorlog<1.0->denoiser) (6.8.2)\n",
      "Collecting omegaconf<1.5,>=1.4 (from hydra-core<1.0->denoiser)\n",
      "  Using cached omegaconf-1.4.1-py3-none-any.whl.metadata (2.9 kB)\n",
      "Requirement already satisfied: scipy in /opt/conda/lib/python3.10/site-packages (from pystoi>=0.3.3->denoiser) (1.14.1)\n",
      "Requirement already satisfied: CFFI>=1.0 in /opt/conda/lib/python3.10/site-packages (from sounddevice>=0.4->denoiser) (1.16.0)\n",
      "Requirement already satisfied: filelock in /opt/conda/lib/python3.10/site-packages (from torch>=1.5->denoiser) (3.15.1)\n",
      "Requirement already satisfied: typing-extensions>=4.8.0 in /opt/conda/lib/python3.10/site-packages (from torch>=1.5->denoiser) (4.12.2)\n",
      "Requirement already satisfied: sympy in /opt/conda/lib/python3.10/site-packages (from torch>=1.5->denoiser) (1.13.3)\n",
      "Requirement already satisfied: networkx in /opt/conda/lib/python3.10/site-packages (from torch>=1.5->denoiser) (3.3)\n",
      "Requirement already satisfied: jinja2 in /opt/conda/lib/python3.10/site-packages (from torch>=1.5->denoiser) (3.1.4)\n",
      "Requirement already satisfied: fsspec in /opt/conda/lib/python3.10/site-packages (from torch>=1.5->denoiser) (2024.6.1)\n",
      "Requirement already satisfied: pycparser in /opt/conda/lib/python3.10/site-packages (from CFFI>=1.0->sounddevice>=0.4->denoiser) (2.22)\n",
      "Requirement already satisfied: PyYAML in /opt/conda/lib/python3.10/site-packages (from omegaconf<1.5,>=1.4->hydra-core<1.0->denoiser) (6.0.2)\n",
      "Requirement already satisfied: MarkupSafe>=2.0 in /opt/conda/lib/python3.10/site-packages (from jinja2->torch>=1.5->denoiser) (2.1.5)\n",
      "Requirement already satisfied: mpmath<1.4,>=1.1.0 in /opt/conda/lib/python3.10/site-packages (from sympy->torch>=1.5->denoiser) (1.3.0)\n",
      "Using cached omegaconf-1.4.1-py3-none-any.whl (14 kB)\n",
      "Installing collected packages: omegaconf\n",
      "  Attempting uninstall: omegaconf\n",
      "    Found existing installation: omegaconf 2.3.0\n",
      "    Uninstalling omegaconf-2.3.0:\n",
      "      Successfully uninstalled omegaconf-2.3.0\n",
      "Successfully installed omegaconf-1.4.1\n"
     ]
    },
    {
     "name": "stderr",
     "output_type": "stream",
     "text": [
      "\u001b[31mERROR: pip's dependency resolver does not currently take into account all the packages that are installed. This behaviour is the source of the following dependency conflicts.\n",
      "pyannote-audio 3.3.2 requires omegaconf<3.0,>=2.1, but you have omegaconf 1.4.1 which is incompatible.\u001b[0m\u001b[31m\n",
      "\u001b[0m"
     ]
    },
    {
     "name": "stdout",
     "output_type": "stream",
     "text": [
      "Requirement already satisfied: noisereduce in /opt/conda/lib/python3.10/site-packages (3.0.3)\n",
      "Requirement already satisfied: scipy in /opt/conda/lib/python3.10/site-packages (from noisereduce) (1.14.1)\n",
      "Requirement already satisfied: matplotlib in /opt/conda/lib/python3.10/site-packages (from noisereduce) (3.7.5)\n",
      "Requirement already satisfied: numpy in /opt/conda/lib/python3.10/site-packages (from noisereduce) (1.26.4)\n",
      "Requirement already satisfied: tqdm in /opt/conda/lib/python3.10/site-packages (from noisereduce) (4.66.4)\n",
      "Requirement already satisfied: joblib in /opt/conda/lib/python3.10/site-packages (from noisereduce) (1.4.2)\n",
      "Requirement already satisfied: contourpy>=1.0.1 in /opt/conda/lib/python3.10/site-packages (from matplotlib->noisereduce) (1.2.1)\n",
      "Requirement already satisfied: cycler>=0.10 in /opt/conda/lib/python3.10/site-packages (from matplotlib->noisereduce) (0.12.1)\n",
      "Requirement already satisfied: fonttools>=4.22.0 in /opt/conda/lib/python3.10/site-packages (from matplotlib->noisereduce) (4.53.0)\n",
      "Requirement already satisfied: kiwisolver>=1.0.1 in /opt/conda/lib/python3.10/site-packages (from matplotlib->noisereduce) (1.4.5)\n",
      "Requirement already satisfied: packaging>=20.0 in /opt/conda/lib/python3.10/site-packages (from matplotlib->noisereduce) (21.3)\n",
      "Requirement already satisfied: pillow>=6.2.0 in /opt/conda/lib/python3.10/site-packages (from matplotlib->noisereduce) (10.3.0)\n",
      "Requirement already satisfied: pyparsing>=2.3.1 in /opt/conda/lib/python3.10/site-packages (from matplotlib->noisereduce) (3.1.2)\n",
      "Requirement already satisfied: python-dateutil>=2.7 in /opt/conda/lib/python3.10/site-packages (from matplotlib->noisereduce) (2.9.0.post0)\n",
      "Requirement already satisfied: six>=1.5 in /opt/conda/lib/python3.10/site-packages (from python-dateutil>=2.7->matplotlib->noisereduce) (1.16.0)\n",
      "Requirement already satisfied: torchaudio in /opt/conda/lib/python3.10/site-packages (2.4.0)\n",
      "Requirement already satisfied: torch in /opt/conda/lib/python3.10/site-packages (from torchaudio) (2.4.0)\n",
      "Requirement already satisfied: filelock in /opt/conda/lib/python3.10/site-packages (from torch->torchaudio) (3.15.1)\n",
      "Requirement already satisfied: typing-extensions>=4.8.0 in /opt/conda/lib/python3.10/site-packages (from torch->torchaudio) (4.12.2)\n",
      "Requirement already satisfied: sympy in /opt/conda/lib/python3.10/site-packages (from torch->torchaudio) (1.13.3)\n",
      "Requirement already satisfied: networkx in /opt/conda/lib/python3.10/site-packages (from torch->torchaudio) (3.3)\n",
      "Requirement already satisfied: jinja2 in /opt/conda/lib/python3.10/site-packages (from torch->torchaudio) (3.1.4)\n",
      "Requirement already satisfied: fsspec in /opt/conda/lib/python3.10/site-packages (from torch->torchaudio) (2024.6.1)\n",
      "Requirement already satisfied: MarkupSafe>=2.0 in /opt/conda/lib/python3.10/site-packages (from jinja2->torch->torchaudio) (2.1.5)\n",
      "Requirement already satisfied: mpmath<1.4,>=1.1.0 in /opt/conda/lib/python3.10/site-packages (from sympy->torch->torchaudio) (1.3.0)\n",
      "Requirement already satisfied: librosa in /opt/conda/lib/python3.10/site-packages (0.10.2.post1)\n",
      "Requirement already satisfied: audioread>=2.1.9 in /opt/conda/lib/python3.10/site-packages (from librosa) (3.0.1)\n",
      "Requirement already satisfied: numpy!=1.22.0,!=1.22.1,!=1.22.2,>=1.20.3 in /opt/conda/lib/python3.10/site-packages (from librosa) (1.26.4)\n",
      "Requirement already satisfied: scipy>=1.2.0 in /opt/conda/lib/python3.10/site-packages (from librosa) (1.14.1)\n",
      "Requirement already satisfied: scikit-learn>=0.20.0 in /opt/conda/lib/python3.10/site-packages (from librosa) (1.2.2)\n",
      "Requirement already satisfied: joblib>=0.14 in /opt/conda/lib/python3.10/site-packages (from librosa) (1.4.2)\n",
      "Requirement already satisfied: decorator>=4.3.0 in /opt/conda/lib/python3.10/site-packages (from librosa) (5.1.1)\n",
      "Requirement already satisfied: numba>=0.51.0 in /opt/conda/lib/python3.10/site-packages (from librosa) (0.60.0)\n",
      "Requirement already satisfied: soundfile>=0.12.1 in /opt/conda/lib/python3.10/site-packages (from librosa) (0.12.1)\n",
      "Requirement already satisfied: pooch>=1.1 in /opt/conda/lib/python3.10/site-packages (from librosa) (1.8.2)\n",
      "Requirement already satisfied: soxr>=0.3.2 in /opt/conda/lib/python3.10/site-packages (from librosa) (0.5.0.post1)\n",
      "Requirement already satisfied: typing-extensions>=4.1.1 in /opt/conda/lib/python3.10/site-packages (from librosa) (4.12.2)\n",
      "Requirement already satisfied: lazy-loader>=0.1 in /opt/conda/lib/python3.10/site-packages (from librosa) (0.4)\n",
      "Requirement already satisfied: msgpack>=1.0 in /opt/conda/lib/python3.10/site-packages (from librosa) (1.0.8)\n",
      "Requirement already satisfied: packaging in /opt/conda/lib/python3.10/site-packages (from lazy-loader>=0.1->librosa) (21.3)\n",
      "Requirement already satisfied: llvmlite<0.44,>=0.43.0dev0 in /opt/conda/lib/python3.10/site-packages (from numba>=0.51.0->librosa) (0.43.0)\n",
      "Requirement already satisfied: platformdirs>=2.5.0 in /opt/conda/lib/python3.10/site-packages (from pooch>=1.1->librosa) (3.11.0)\n",
      "Requirement already satisfied: requests>=2.19.0 in /opt/conda/lib/python3.10/site-packages (from pooch>=1.1->librosa) (2.32.3)\n",
      "Requirement already satisfied: threadpoolctl>=2.0.0 in /opt/conda/lib/python3.10/site-packages (from scikit-learn>=0.20.0->librosa) (3.5.0)\n",
      "Requirement already satisfied: cffi>=1.0 in /opt/conda/lib/python3.10/site-packages (from soundfile>=0.12.1->librosa) (1.16.0)\n",
      "Requirement already satisfied: pycparser in /opt/conda/lib/python3.10/site-packages (from cffi>=1.0->soundfile>=0.12.1->librosa) (2.22)\n",
      "Requirement already satisfied: pyparsing!=3.0.5,>=2.0.2 in /opt/conda/lib/python3.10/site-packages (from packaging->lazy-loader>=0.1->librosa) (3.1.2)\n",
      "Requirement already satisfied: charset-normalizer<4,>=2 in /opt/conda/lib/python3.10/site-packages (from requests>=2.19.0->pooch>=1.1->librosa) (3.3.2)\n",
      "Requirement already satisfied: idna<4,>=2.5 in /opt/conda/lib/python3.10/site-packages (from requests>=2.19.0->pooch>=1.1->librosa) (3.7)\n",
      "Requirement already satisfied: urllib3<3,>=1.21.1 in /opt/conda/lib/python3.10/site-packages (from requests>=2.19.0->pooch>=1.1->librosa) (1.26.18)\n",
      "Requirement already satisfied: certifi>=2017.4.17 in /opt/conda/lib/python3.10/site-packages (from requests>=2.19.0->pooch>=1.1->librosa) (2024.8.30)\n",
      "Requirement already satisfied: pyannote.audio in /opt/conda/lib/python3.10/site-packages (3.3.2)\n",
      "Requirement already satisfied: asteroid-filterbanks>=0.4 in /opt/conda/lib/python3.10/site-packages (from pyannote.audio) (0.4.0)\n",
      "Requirement already satisfied: einops>=0.6.0 in /opt/conda/lib/python3.10/site-packages (from pyannote.audio) (0.8.1)\n",
      "Requirement already satisfied: huggingface-hub>=0.13.0 in /opt/conda/lib/python3.10/site-packages (from pyannote.audio) (0.25.1)\n",
      "Requirement already satisfied: lightning>=2.0.1 in /opt/conda/lib/python3.10/site-packages (from pyannote.audio) (2.5.5)\n",
      "Collecting omegaconf<3.0,>=2.1 (from pyannote.audio)\n",
      "  Using cached omegaconf-2.3.0-py3-none-any.whl.metadata (3.9 kB)\n",
      "Requirement already satisfied: pyannote.core>=5.0.0 in /opt/conda/lib/python3.10/site-packages (from pyannote.audio) (5.0.0)\n",
      "Requirement already satisfied: pyannote.database>=5.0.1 in /opt/conda/lib/python3.10/site-packages (from pyannote.audio) (5.1.3)\n",
      "Requirement already satisfied: pyannote.metrics>=3.2 in /opt/conda/lib/python3.10/site-packages (from pyannote.audio) (3.2.1)\n",
      "Requirement already satisfied: pyannote.pipeline>=3.0.1 in /opt/conda/lib/python3.10/site-packages (from pyannote.audio) (3.0.1)\n",
      "Requirement already satisfied: pytorch-metric-learning>=2.1.0 in /opt/conda/lib/python3.10/site-packages (from pyannote.audio) (2.9.0)\n",
      "Requirement already satisfied: rich>=12.0.0 in /opt/conda/lib/python3.10/site-packages (from pyannote.audio) (13.7.1)\n",
      "Requirement already satisfied: semver>=3.0.0 in /opt/conda/lib/python3.10/site-packages (from pyannote.audio) (3.0.2)\n",
      "Requirement already satisfied: soundfile>=0.12.1 in /opt/conda/lib/python3.10/site-packages (from pyannote.audio) (0.12.1)\n",
      "Requirement already satisfied: speechbrain>=1.0.0 in /opt/conda/lib/python3.10/site-packages (from pyannote.audio) (1.0.3)\n",
      "Requirement already satisfied: tensorboardX>=2.6 in /opt/conda/lib/python3.10/site-packages (from pyannote.audio) (2.6.2.2)\n",
      "Requirement already satisfied: torch>=2.0.0 in /opt/conda/lib/python3.10/site-packages (from pyannote.audio) (2.4.0)\n",
      "Requirement already satisfied: torch-audiomentations>=0.11.0 in /opt/conda/lib/python3.10/site-packages (from pyannote.audio) (0.12.0)\n",
      "Requirement already satisfied: torchaudio>=2.2.0 in /opt/conda/lib/python3.10/site-packages (from pyannote.audio) (2.4.0)\n",
      "Requirement already satisfied: torchmetrics>=0.11.0 in /opt/conda/lib/python3.10/site-packages (from pyannote.audio) (1.4.2)\n",
      "Requirement already satisfied: numpy in /opt/conda/lib/python3.10/site-packages (from asteroid-filterbanks>=0.4->pyannote.audio) (1.26.4)\n",
      "Requirement already satisfied: typing-extensions in /opt/conda/lib/python3.10/site-packages (from asteroid-filterbanks>=0.4->pyannote.audio) (4.12.2)\n",
      "Requirement already satisfied: filelock in /opt/conda/lib/python3.10/site-packages (from huggingface-hub>=0.13.0->pyannote.audio) (3.15.1)\n",
      "Requirement already satisfied: fsspec>=2023.5.0 in /opt/conda/lib/python3.10/site-packages (from huggingface-hub>=0.13.0->pyannote.audio) (2024.6.1)\n",
      "Requirement already satisfied: packaging>=20.9 in /opt/conda/lib/python3.10/site-packages (from huggingface-hub>=0.13.0->pyannote.audio) (21.3)\n",
      "Requirement already satisfied: pyyaml>=5.1 in /opt/conda/lib/python3.10/site-packages (from huggingface-hub>=0.13.0->pyannote.audio) (6.0.2)\n",
      "Requirement already satisfied: requests in /opt/conda/lib/python3.10/site-packages (from huggingface-hub>=0.13.0->pyannote.audio) (2.32.3)\n",
      "Requirement already satisfied: tqdm>=4.42.1 in /opt/conda/lib/python3.10/site-packages (from huggingface-hub>=0.13.0->pyannote.audio) (4.66.4)\n",
      "Requirement already satisfied: lightning-utilities<2.0,>=0.10.0 in /opt/conda/lib/python3.10/site-packages (from lightning>=2.0.1->pyannote.audio) (0.11.7)\n",
      "Requirement already satisfied: pytorch-lightning in /opt/conda/lib/python3.10/site-packages (from lightning>=2.0.1->pyannote.audio) (2.4.0)\n",
      "Requirement already satisfied: antlr4-python3-runtime==4.9.* in /opt/conda/lib/python3.10/site-packages (from omegaconf<3.0,>=2.1->pyannote.audio) (4.9.3)\n",
      "Requirement already satisfied: sortedcontainers>=2.0.4 in /opt/conda/lib/python3.10/site-packages (from pyannote.core>=5.0.0->pyannote.audio) (2.4.0)\n",
      "Requirement already satisfied: scipy>=1.1 in /opt/conda/lib/python3.10/site-packages (from pyannote.core>=5.0.0->pyannote.audio) (1.14.1)\n",
      "Requirement already satisfied: pandas>=0.19 in /opt/conda/lib/python3.10/site-packages (from pyannote.database>=5.0.1->pyannote.audio) (2.2.2)\n",
      "Requirement already satisfied: typer>=0.12.1 in /opt/conda/lib/python3.10/site-packages (from pyannote.database>=5.0.1->pyannote.audio) (0.12.3)\n",
      "Requirement already satisfied: scikit-learn>=0.17.1 in /opt/conda/lib/python3.10/site-packages (from pyannote.metrics>=3.2->pyannote.audio) (1.2.2)\n",
      "Requirement already satisfied: docopt>=0.6.2 in /opt/conda/lib/python3.10/site-packages (from pyannote.metrics>=3.2->pyannote.audio) (0.6.2)\n",
      "Requirement already satisfied: tabulate>=0.7.7 in /opt/conda/lib/python3.10/site-packages (from pyannote.metrics>=3.2->pyannote.audio) (0.9.0)\n",
      "Requirement already satisfied: matplotlib>=2.0.0 in /opt/conda/lib/python3.10/site-packages (from pyannote.metrics>=3.2->pyannote.audio) (3.7.5)\n",
      "Requirement already satisfied: sympy>=1.1 in /opt/conda/lib/python3.10/site-packages (from pyannote.metrics>=3.2->pyannote.audio) (1.13.3)\n",
      "Requirement already satisfied: optuna>=3.1 in /opt/conda/lib/python3.10/site-packages (from pyannote.pipeline>=3.0.1->pyannote.audio) (4.0.0)\n",
      "Requirement already satisfied: markdown-it-py>=2.2.0 in /opt/conda/lib/python3.10/site-packages (from rich>=12.0.0->pyannote.audio) (3.0.0)\n",
      "Requirement already satisfied: pygments<3.0.0,>=2.13.0 in /opt/conda/lib/python3.10/site-packages (from rich>=12.0.0->pyannote.audio) (2.18.0)\n",
      "Requirement already satisfied: cffi>=1.0 in /opt/conda/lib/python3.10/site-packages (from soundfile>=0.12.1->pyannote.audio) (1.16.0)\n",
      "Requirement already satisfied: hyperpyyaml in /opt/conda/lib/python3.10/site-packages (from speechbrain>=1.0.0->pyannote.audio) (1.2.2)\n",
      "Requirement already satisfied: joblib in /opt/conda/lib/python3.10/site-packages (from speechbrain>=1.0.0->pyannote.audio) (1.4.2)\n",
      "Requirement already satisfied: sentencepiece in /opt/conda/lib/python3.10/site-packages (from speechbrain>=1.0.0->pyannote.audio) (0.2.0)\n",
      "Requirement already satisfied: protobuf>=3.20 in /opt/conda/lib/python3.10/site-packages (from tensorboardX>=2.6->pyannote.audio) (3.20.3)\n",
      "Requirement already satisfied: networkx in /opt/conda/lib/python3.10/site-packages (from torch>=2.0.0->pyannote.audio) (3.3)\n",
      "Requirement already satisfied: jinja2 in /opt/conda/lib/python3.10/site-packages (from torch>=2.0.0->pyannote.audio) (3.1.4)\n",
      "Requirement already satisfied: julius<0.3,>=0.2.3 in /opt/conda/lib/python3.10/site-packages (from torch-audiomentations>=0.11.0->pyannote.audio) (0.2.7)\n",
      "Requirement already satisfied: torch-pitch-shift>=1.2.2 in /opt/conda/lib/python3.10/site-packages (from torch-audiomentations>=0.11.0->pyannote.audio) (1.2.5)\n",
      "Requirement already satisfied: pycparser in /opt/conda/lib/python3.10/site-packages (from cffi>=1.0->soundfile>=0.12.1->pyannote.audio) (2.22)\n",
      "Requirement already satisfied: aiohttp!=4.0.0a0,!=4.0.0a1 in /opt/conda/lib/python3.10/site-packages (from fsspec[http]<2027.0,>=2022.5.0->lightning>=2.0.1->pyannote.audio) (3.9.5)\n",
      "Requirement already satisfied: setuptools in /opt/conda/lib/python3.10/site-packages (from lightning-utilities<2.0,>=0.10.0->lightning>=2.0.1->pyannote.audio) (70.0.0)\n",
      "Requirement already satisfied: mdurl~=0.1 in /opt/conda/lib/python3.10/site-packages (from markdown-it-py>=2.2.0->rich>=12.0.0->pyannote.audio) (0.1.2)\n",
      "Requirement already satisfied: contourpy>=1.0.1 in /opt/conda/lib/python3.10/site-packages (from matplotlib>=2.0.0->pyannote.metrics>=3.2->pyannote.audio) (1.2.1)\n",
      "Requirement already satisfied: cycler>=0.10 in /opt/conda/lib/python3.10/site-packages (from matplotlib>=2.0.0->pyannote.metrics>=3.2->pyannote.audio) (0.12.1)\n",
      "Requirement already satisfied: fonttools>=4.22.0 in /opt/conda/lib/python3.10/site-packages (from matplotlib>=2.0.0->pyannote.metrics>=3.2->pyannote.audio) (4.53.0)\n",
      "Requirement already satisfied: kiwisolver>=1.0.1 in /opt/conda/lib/python3.10/site-packages (from matplotlib>=2.0.0->pyannote.metrics>=3.2->pyannote.audio) (1.4.5)\n",
      "Requirement already satisfied: pillow>=6.2.0 in /opt/conda/lib/python3.10/site-packages (from matplotlib>=2.0.0->pyannote.metrics>=3.2->pyannote.audio) (10.3.0)\n",
      "Requirement already satisfied: pyparsing>=2.3.1 in /opt/conda/lib/python3.10/site-packages (from matplotlib>=2.0.0->pyannote.metrics>=3.2->pyannote.audio) (3.1.2)\n",
      "Requirement already satisfied: python-dateutil>=2.7 in /opt/conda/lib/python3.10/site-packages (from matplotlib>=2.0.0->pyannote.metrics>=3.2->pyannote.audio) (2.9.0.post0)\n",
      "Requirement already satisfied: alembic>=1.5.0 in /opt/conda/lib/python3.10/site-packages (from optuna>=3.1->pyannote.pipeline>=3.0.1->pyannote.audio) (1.13.3)\n",
      "Requirement already satisfied: colorlog in /opt/conda/lib/python3.10/site-packages (from optuna>=3.1->pyannote.pipeline>=3.0.1->pyannote.audio) (6.8.2)\n",
      "Requirement already satisfied: sqlalchemy>=1.3.0 in /opt/conda/lib/python3.10/site-packages (from optuna>=3.1->pyannote.pipeline>=3.0.1->pyannote.audio) (2.0.30)\n",
      "Requirement already satisfied: pytz>=2020.1 in /opt/conda/lib/python3.10/site-packages (from pandas>=0.19->pyannote.database>=5.0.1->pyannote.audio) (2024.1)\n",
      "Requirement already satisfied: tzdata>=2022.7 in /opt/conda/lib/python3.10/site-packages (from pandas>=0.19->pyannote.database>=5.0.1->pyannote.audio) (2024.1)\n",
      "Requirement already satisfied: threadpoolctl>=2.0.0 in /opt/conda/lib/python3.10/site-packages (from scikit-learn>=0.17.1->pyannote.metrics>=3.2->pyannote.audio) (3.5.0)\n",
      "Requirement already satisfied: mpmath<1.4,>=1.1.0 in /opt/conda/lib/python3.10/site-packages (from sympy>=1.1->pyannote.metrics>=3.2->pyannote.audio) (1.3.0)\n",
      "Requirement already satisfied: primePy>=1.3 in /opt/conda/lib/python3.10/site-packages (from torch-pitch-shift>=1.2.2->torch-audiomentations>=0.11.0->pyannote.audio) (1.3)\n",
      "Requirement already satisfied: click>=8.0.0 in /opt/conda/lib/python3.10/site-packages (from typer>=0.12.1->pyannote.database>=5.0.1->pyannote.audio) (8.1.7)\n",
      "Requirement already satisfied: shellingham>=1.3.0 in /opt/conda/lib/python3.10/site-packages (from typer>=0.12.1->pyannote.database>=5.0.1->pyannote.audio) (1.5.4)\n",
      "Requirement already satisfied: ruamel.yaml>=0.17.28 in /opt/conda/lib/python3.10/site-packages (from hyperpyyaml->speechbrain>=1.0.0->pyannote.audio) (0.18.6)\n",
      "Requirement already satisfied: MarkupSafe>=2.0 in /opt/conda/lib/python3.10/site-packages (from jinja2->torch>=2.0.0->pyannote.audio) (2.1.5)\n",
      "Requirement already satisfied: charset-normalizer<4,>=2 in /opt/conda/lib/python3.10/site-packages (from requests->huggingface-hub>=0.13.0->pyannote.audio) (3.3.2)\n",
      "Requirement already satisfied: idna<4,>=2.5 in /opt/conda/lib/python3.10/site-packages (from requests->huggingface-hub>=0.13.0->pyannote.audio) (3.7)\n",
      "Requirement already satisfied: urllib3<3,>=1.21.1 in /opt/conda/lib/python3.10/site-packages (from requests->huggingface-hub>=0.13.0->pyannote.audio) (1.26.18)\n",
      "Requirement already satisfied: certifi>=2017.4.17 in /opt/conda/lib/python3.10/site-packages (from requests->huggingface-hub>=0.13.0->pyannote.audio) (2024.8.30)\n",
      "Requirement already satisfied: aiosignal>=1.1.2 in /opt/conda/lib/python3.10/site-packages (from aiohttp!=4.0.0a0,!=4.0.0a1->fsspec[http]<2027.0,>=2022.5.0->lightning>=2.0.1->pyannote.audio) (1.3.1)\n",
      "Requirement already satisfied: attrs>=17.3.0 in /opt/conda/lib/python3.10/site-packages (from aiohttp!=4.0.0a0,!=4.0.0a1->fsspec[http]<2027.0,>=2022.5.0->lightning>=2.0.1->pyannote.audio) (23.2.0)\n",
      "Requirement already satisfied: frozenlist>=1.1.1 in /opt/conda/lib/python3.10/site-packages (from aiohttp!=4.0.0a0,!=4.0.0a1->fsspec[http]<2027.0,>=2022.5.0->lightning>=2.0.1->pyannote.audio) (1.4.1)\n",
      "Requirement already satisfied: multidict<7.0,>=4.5 in /opt/conda/lib/python3.10/site-packages (from aiohttp!=4.0.0a0,!=4.0.0a1->fsspec[http]<2027.0,>=2022.5.0->lightning>=2.0.1->pyannote.audio) (6.0.5)\n",
      "Requirement already satisfied: yarl<2.0,>=1.0 in /opt/conda/lib/python3.10/site-packages (from aiohttp!=4.0.0a0,!=4.0.0a1->fsspec[http]<2027.0,>=2022.5.0->lightning>=2.0.1->pyannote.audio) (1.9.4)\n",
      "Requirement already satisfied: async-timeout<5.0,>=4.0 in /opt/conda/lib/python3.10/site-packages (from aiohttp!=4.0.0a0,!=4.0.0a1->fsspec[http]<2027.0,>=2022.5.0->lightning>=2.0.1->pyannote.audio) (4.0.3)\n",
      "Requirement already satisfied: Mako in /opt/conda/lib/python3.10/site-packages (from alembic>=1.5.0->optuna>=3.1->pyannote.pipeline>=3.0.1->pyannote.audio) (1.3.5)\n",
      "Requirement already satisfied: six>=1.5 in /opt/conda/lib/python3.10/site-packages (from python-dateutil>=2.7->matplotlib>=2.0.0->pyannote.metrics>=3.2->pyannote.audio) (1.16.0)\n",
      "Requirement already satisfied: ruamel.yaml.clib>=0.2.7 in /opt/conda/lib/python3.10/site-packages (from ruamel.yaml>=0.17.28->hyperpyyaml->speechbrain>=1.0.0->pyannote.audio) (0.2.8)\n",
      "Requirement already satisfied: greenlet!=0.4.17 in /opt/conda/lib/python3.10/site-packages (from sqlalchemy>=1.3.0->optuna>=3.1->pyannote.pipeline>=3.0.1->pyannote.audio) (3.0.3)\n",
      "Using cached omegaconf-2.3.0-py3-none-any.whl (79 kB)\n",
      "Installing collected packages: omegaconf\n",
      "  Attempting uninstall: omegaconf\n",
      "    Found existing installation: omegaconf 1.4.1\n",
      "    Uninstalling omegaconf-1.4.1:\n",
      "      Successfully uninstalled omegaconf-1.4.1\n"
     ]
    },
    {
     "name": "stderr",
     "output_type": "stream",
     "text": [
      "\u001b[31mERROR: pip's dependency resolver does not currently take into account all the packages that are installed. This behaviour is the source of the following dependency conflicts.\n",
      "hydra-core 0.11.3 requires omegaconf<1.5,>=1.4, but you have omegaconf 2.3.0 which is incompatible.\u001b[0m\u001b[31m\n",
      "\u001b[0m"
     ]
    },
    {
     "name": "stdout",
     "output_type": "stream",
     "text": [
      "Successfully installed omegaconf-2.3.0\n",
      "Requirement already satisfied: flask in /opt/conda/lib/python3.10/site-packages (3.0.3)\n",
      "Requirement already satisfied: Werkzeug>=3.0.0 in /opt/conda/lib/python3.10/site-packages (from flask) (3.0.4)\n",
      "Requirement already satisfied: Jinja2>=3.1.2 in /opt/conda/lib/python3.10/site-packages (from flask) (3.1.4)\n",
      "Requirement already satisfied: itsdangerous>=2.1.2 in /opt/conda/lib/python3.10/site-packages (from flask) (2.2.0)\n",
      "Requirement already satisfied: click>=8.1.3 in /opt/conda/lib/python3.10/site-packages (from flask) (8.1.7)\n",
      "Requirement already satisfied: blinker>=1.6.2 in /opt/conda/lib/python3.10/site-packages (from flask) (1.8.2)\n",
      "Requirement already satisfied: MarkupSafe>=2.0 in /opt/conda/lib/python3.10/site-packages (from Jinja2>=3.1.2->flask) (2.1.5)\n",
      "Requirement already satisfied: pyngrok in /opt/conda/lib/python3.10/site-packages (7.3.0)\n",
      "Requirement already satisfied: PyYAML>=5.1 in /opt/conda/lib/python3.10/site-packages (from pyngrok) (6.0.2)\n",
      " * Serving Flask app '__main__'\n",
      " * Debug mode: off\n",
      "Ngrok public URL: NgrokTunnel: \"https://internal-polliwog-eagerly.ngrok-free.app\" -> \"http://localhost:6000\"\n",
      "--- Starting Diarization for: 4_Sakib_UIUHUB_17_16_17_22_2025_06_22.wav ---\n",
      "Step 1: Finding all speech segments using VAD...\n"
     ]
    },
    {
     "name": "stderr",
     "output_type": "stream",
     "text": [
      "/opt/conda/lib/python3.10/site-packages/pyannote/audio/utils/reproducibility.py:74: ReproducibilityWarning: TensorFloat-32 (TF32) has been disabled as it might lead to reproducibility issues and lower accuracy.\n",
      "It can be re-enabled by calling\n",
      "   >>> import torch\n",
      "   >>> torch.backends.cuda.matmul.allow_tf32 = True\n",
      "   >>> torch.backends.cudnn.allow_tf32 = True\n",
      "See https://github.com/pyannote/pyannote-audio/issues/1370 for more details.\n",
      "\n",
      "  warnings.warn(\n"
     ]
    },
    {
     "name": "stdout",
     "output_type": "stream",
     "text": [
      "Step 2: Creating a 'voiceprint' for each speech segment...\n",
      "Step 3: Grouping voiceprints to identify speakers...\n",
      "Step 4: Reconstructing conversation turns from segments...\n",
      "Step 5: Transcribing each speaker turn...\n"
     ]
    },
    {
     "name": "stderr",
     "output_type": "stream",
     "text": [
      "/opt/conda/lib/python3.10/site-packages/transformers/pipelines/base.py:1090: UserWarning: You seem to be using the pipelines sequentially on GPU. In order to maximize efficiency please use a dataset\n",
      "  warnings.warn(\n",
      "/opt/conda/lib/python3.10/site-packages/transformers/pipelines/base.py:1090: UserWarning: You seem to be using the pipelines sequentially on GPU. In order to maximize efficiency please use a dataset\n",
      "  warnings.warn(\n",
      "/opt/conda/lib/python3.10/site-packages/transformers/pipelines/base.py:1090: UserWarning: You seem to be using the pipelines sequentially on GPU. In order to maximize efficiency please use a dataset\n",
      "  warnings.warn(\n",
      "/opt/conda/lib/python3.10/site-packages/transformers/pipelines/base.py:1090: UserWarning: You seem to be using the pipelines sequentially on GPU. In order to maximize efficiency please use a dataset\n",
      "  warnings.warn(\n",
      "/opt/conda/lib/python3.10/site-packages/transformers/pipelines/base.py:1090: UserWarning: You seem to be using the pipelines sequentially on GPU. In order to maximize efficiency please use a dataset\n",
      "  warnings.warn(\n",
      "/opt/conda/lib/python3.10/site-packages/transformers/pipelines/base.py:1090: UserWarning: You seem to be using the pipelines sequentially on GPU. In order to maximize efficiency please use a dataset\n",
      "  warnings.warn(\n",
      "/opt/conda/lib/python3.10/site-packages/transformers/pipelines/base.py:1090: UserWarning: You seem to be using the pipelines sequentially on GPU. In order to maximize efficiency please use a dataset\n",
      "  warnings.warn(\n",
      "/opt/conda/lib/python3.10/site-packages/transformers/pipelines/base.py:1090: UserWarning: You seem to be using the pipelines sequentially on GPU. In order to maximize efficiency please use a dataset\n",
      "  warnings.warn(\n",
      "/opt/conda/lib/python3.10/site-packages/transformers/pipelines/base.py:1090: UserWarning: You seem to be using the pipelines sequentially on GPU. In order to maximize efficiency please use a dataset\n",
      "  warnings.warn(\n",
      "/opt/conda/lib/python3.10/site-packages/transformers/pipelines/base.py:1090: UserWarning: You seem to be using the pipelines sequentially on GPU. In order to maximize efficiency please use a dataset\n",
      "  warnings.warn(\n",
      "/opt/conda/lib/python3.10/site-packages/transformers/pipelines/base.py:1090: UserWarning: You seem to be using the pipelines sequentially on GPU. In order to maximize efficiency please use a dataset\n",
      "  warnings.warn(\n",
      "/opt/conda/lib/python3.10/site-packages/transformers/pipelines/base.py:1090: UserWarning: You seem to be using the pipelines sequentially on GPU. In order to maximize efficiency please use a dataset\n",
      "  warnings.warn(\n",
      "/opt/conda/lib/python3.10/site-packages/transformers/pipelines/base.py:1090: UserWarning: You seem to be using the pipelines sequentially on GPU. In order to maximize efficiency please use a dataset\n",
      "  warnings.warn(\n",
      "/opt/conda/lib/python3.10/site-packages/transformers/pipelines/base.py:1090: UserWarning: You seem to be using the pipelines sequentially on GPU. In order to maximize efficiency please use a dataset\n",
      "  warnings.warn(\n",
      "/opt/conda/lib/python3.10/site-packages/transformers/pipelines/base.py:1090: UserWarning: You seem to be using the pipelines sequentially on GPU. In order to maximize efficiency please use a dataset\n",
      "  warnings.warn(\n",
      "/opt/conda/lib/python3.10/site-packages/transformers/pipelines/base.py:1090: UserWarning: You seem to be using the pipelines sequentially on GPU. In order to maximize efficiency please use a dataset\n",
      "  warnings.warn(\n",
      "/opt/conda/lib/python3.10/site-packages/transformers/pipelines/base.py:1090: UserWarning: You seem to be using the pipelines sequentially on GPU. In order to maximize efficiency please use a dataset\n",
      "  warnings.warn(\n",
      "/opt/conda/lib/python3.10/site-packages/transformers/pipelines/base.py:1090: UserWarning: You seem to be using the pipelines sequentially on GPU. In order to maximize efficiency please use a dataset\n",
      "  warnings.warn(\n",
      "/opt/conda/lib/python3.10/site-packages/transformers/pipelines/base.py:1090: UserWarning: You seem to be using the pipelines sequentially on GPU. In order to maximize efficiency please use a dataset\n",
      "  warnings.warn(\n",
      "/opt/conda/lib/python3.10/site-packages/transformers/pipelines/base.py:1090: UserWarning: You seem to be using the pipelines sequentially on GPU. In order to maximize efficiency please use a dataset\n",
      "  warnings.warn(\n",
      "/opt/conda/lib/python3.10/site-packages/transformers/pipelines/base.py:1090: UserWarning: You seem to be using the pipelines sequentially on GPU. In order to maximize efficiency please use a dataset\n",
      "  warnings.warn(\n",
      "/opt/conda/lib/python3.10/site-packages/transformers/pipelines/base.py:1090: UserWarning: You seem to be using the pipelines sequentially on GPU. In order to maximize efficiency please use a dataset\n",
      "  warnings.warn(\n",
      "/opt/conda/lib/python3.10/site-packages/transformers/pipelines/base.py:1090: UserWarning: You seem to be using the pipelines sequentially on GPU. In order to maximize efficiency please use a dataset\n",
      "  warnings.warn(\n",
      "/opt/conda/lib/python3.10/site-packages/transformers/pipelines/base.py:1090: UserWarning: You seem to be using the pipelines sequentially on GPU. In order to maximize efficiency please use a dataset\n",
      "  warnings.warn(\n",
      "/opt/conda/lib/python3.10/site-packages/transformers/pipelines/base.py:1090: UserWarning: You seem to be using the pipelines sequentially on GPU. In order to maximize efficiency please use a dataset\n",
      "  warnings.warn(\n",
      "/opt/conda/lib/python3.10/site-packages/transformers/pipelines/base.py:1090: UserWarning: You seem to be using the pipelines sequentially on GPU. In order to maximize efficiency please use a dataset\n",
      "  warnings.warn(\n",
      "/opt/conda/lib/python3.10/site-packages/transformers/pipelines/base.py:1090: UserWarning: You seem to be using the pipelines sequentially on GPU. In order to maximize efficiency please use a dataset\n",
      "  warnings.warn(\n",
      "/opt/conda/lib/python3.10/site-packages/transformers/pipelines/base.py:1090: UserWarning: You seem to be using the pipelines sequentially on GPU. In order to maximize efficiency please use a dataset\n",
      "  warnings.warn(\n",
      "/opt/conda/lib/python3.10/site-packages/transformers/pipelines/base.py:1090: UserWarning: You seem to be using the pipelines sequentially on GPU. In order to maximize efficiency please use a dataset\n",
      "  warnings.warn(\n"
     ]
    },
    {
     "name": "stdout",
     "output_type": "stream",
     "text": [
      "\n",
      "--- FINAL DIARIZED TRANSCRIPT ---\n",
      "[Speaker 2 | 2.12-7.88] দেখেন আমি অনেক দূর থেকে কথা বলছি কিন্তু হ্যাঁ তোমার হচ্ছে পরে হচ্ছে ইয়াপ ভালো আছে\n",
      "[Speaker 1 | 9.90-13.83] আমি কিন্তু সাধ্য ঝুঁকি নাই আমি এরকম করি না\n",
      "[Speaker 2 | 31.33-61.54] ডাক্তার রাফির কী অবস্ আপনার জিনিস পাতিয়ে রোগী পেছে ওদিকে হচ্ছ্কাসের সাথে দিয়ে নিয়ে যে বলতে হবে ভাই তুমি তো অতসী\n",
      "[Speaker 1 | 61.68-66.27] খাইতে চাও তো তোমার জিনিসই দিবা না এবার কোম্পিট না করলে তো হচ্ছে শুভ হবার জিও হবে\n",
      "[Speaker 2 | 67.43-70.89] আমাকে বার্তা নির্বাচন করতে দাও অথবা বার্তা কম্পিট হলেই অতসী পাবে\n",
      "[Speaker 1 | 71.51-72.91] ওহ বান্ধবী অনুযায়ী\n",
      "[Speaker 2 | 75.01-79.48] কী অবস্থা এখান থেকে কি সাউন্ড থেকে কি টেক্সটার থাকার কারণ এখন\n",
      "[Speaker 1 | 79.71-81.59] করতেছি তো\n",
      "[Speaker 2 | 85.35-96.24] আপনাকে ডেভিড সিটি চলতেছে ভাই হ্যাঁ ওকে পালাতে হতে পারি ও ডক্টর খান আমার এই ব্যাংক হবে আর কি মানে এই ক্রমের বাধাটা একটু খান হবে\n",
      "[Speaker 2 | 99.91-103.12] স্বামীকে রেগুলি না খুব মনে লাগবে\n",
      "[Speaker 1 | 105.48-109.30] বা এটা সাদেকে নিতে বলেন আপনাদের\n",
      "[Speaker 2 | 109.57-116.45] আমরা সিটিতে প্রত্যাগ্রামের বিরুদ্ধে লাভ নেই মানে কেবল ভূতের এটার ভেতর কি মানে গোলাপ সাভার্টিয়াল কম্পানির\n",
      "[Speaker 1 | 117.08-122.27] কোথায় সার্ভার হিসেবে কাম করে না\n",
      "[Speaker 1 | 124.28-125.48] স্যার মিস চালু করিস\n",
      "[Speaker 2 | 129.72-133.33] কিন্তু কোলাভিজিয়াল হ্যান্ডেল করা তাকাল থেকে\n",
      "[Speaker 1 | 134.27-138.07] অল্যাণ্ড কোদার বোঝার বিএস করে একটু সফলভাবে মোটামুটি\n",
      "[Speaker 2 | 138.20-158.42] ক্যাবেলটা একটু মনে হয় আলাপ আছে একটু লাগছে দেখো কেন আমি চাচ্ছিলাম যে তোমার যে ফাইলটি পাঠাচ্ছি কেবলে ওটা যেন হচ্ছে কেবলে এটা কাটছে ডিভোর এটা তোমার নিওয়েল ক্যাটার্সের জীবন ক্যাটার্সের মধ্যে যে এই লক্ষণ থাকে টিপস অ্যান্ডার্সেল ক্যাশন ডেটাবে যে আমাকে ফার্ট পারবে হ্যাঁ প্রতিকূলটা হবে আমাদের বিকেলে\n",
      "[Speaker 2 | 160.12-175.87] তাই আমাদের যে খেলার ক্ষেত্রে যে ফাইলগুলো যাচ্ছে কেবল সেটা ব্যথা রি যে দলের বিশ্বাস মারো অক্টোগ্রাভেরকে ইয়াতিসিদের নামে যে বুদ্ধির দিশানা যখন আমি এরকম একটা জিনিস পাই যাতে হবে\n",
      "[Speaker 1 | 176.07-186.94] আমি সুর করছিলাম আচ্ছা দিয়ে দিয়ে কট খালি না হয়েছে\n",
      "[Speaker 2 | 192.46-195.87] কতক্ষণ যে দুই মিনিট পাড়ায় যেতে পারছে\n",
      "[Speaker 2 | 198.09-220.69] আপনার হাতে এখানে কি টেকসই চলে আসবে কিন্তু আপনার কথা আমার কথা ভালো লাগবে দুইটাকে তো হচ্ছে স্টেডিও পরে বিভাগ করে দেওয়া ম্যান্ড কাপ্টাকে না বলে অ্যাফিস এখন তো কথা আসবে পুরো ন্যাচার টেের চারা টেস্টে যে যতগুলো মানুষ সব এক খাত চায় একভাবে এক গেটে লেখা আসবে\n",
      "[Speaker 1 | 221.23-229.97] ও তাই তাই আপনি তো এই সিগমেট করতেো ভালো জানা চাই যে যেমন হচ্ছে যে কী হবে দেরি হয়েছে\n",
      "[Speaker 1 | 234.91-238.73] ক্যান্ডিয়ারটা করেছে মোশাহবাদকে যা ভোটটা করছে না\n",
      "[Speaker 2 | 238.95-250.66] আবোট্টা কিন্তু বেশ ভালো হয়েছে হ্যাঁ অনেক দুইটা কনভার্সের সঙ্গে তো দুইটা রকম প্রবেশ নেবে মানে আমরা দুই ধরনের ইয়ার হইতে ভালো হয় না হুম যেমন আছে তোমাদের যেইটা আমার ভক্তের সুন্দর করে দিতে পারে\n",
      "[Speaker 2 | 263.28-267.65] এটা কি দেখতে পারেনি অ্যান্টিবায়োটিক এটা কিন্তু আমার কথা সম্ভব\n",
      "[Speaker 1 | 269.95-275.09] এই যে সামান্য পেটে এটাতে একই অ্যালেন্স\n",
      "[Speaker 2 | 275.92-278.52] এটা কি তোর নেই এত ভালো লাভ করতে হবে\n",
      "[Speaker 1 | 279.09-283.45] ওই ভাইকে নাই যে রিস্টারি অনুরোধ করতে পারা হয়েছে তাহলে পুলিশের রিয়ার্জিংয়ে\n",
      "[Speaker 2 | 284.00-292.42] এত মনোমিক্সিক হয়ে হা পেলেছ বেকারাবির দুজনের রেলিস্ট\n",
      "[Speaker 1 | 292.68-293.27] কোথায় আছে\n",
      "[Speaker 1 | 295.87-301.40] আপনারা তো খানিক এই জিনিসটি স্কোর করতেছেন যে মানে যাতে\n",
      "[Speaker 2 | 302.01-305.37] পেশেন্ট যাতে একটা তো হচ্ছে আন্ৎকারেরও ফিল্ডার হয়\n",
      "[Speaker 1 | 306.82-312.44] বার কোনো আর কখনো কিন্তু লাগবাছে আপনার ডেটা\n",
      "[Speaker 2 | 316.10-321.20] আপুদের আশ্চর্য গেল ভাইয়ের ফোন দিয়ে তো\n",
      "[Speaker 2 | 332.89-339.83] ভুল মনে হয় যে একই সিপার পার্টে বিশ্বব্যাপী লীগের সাথে সুষ্ঠুকার স্ক্রিপ্ত\n",
      "[Speaker 1 | 344.26-350.25] কেন তারা শুনেছে\n",
      "[Speaker 2 | 356.19-356.52] রাতে বেরোয়া নেওয়ার সময় তিনি\n",
      "[Speaker 1 | 357.16-359.82] এর যে পাপী\n",
      "[Speaker 2 | 360.04-361.26] ঘুরায় এসেছিলাম\n",
      "\n",
      "Transcription saved to: /kaggle/working/output_text_files/4_Sakib_UIUHUB_17_16_17_22_2025_06_22.txt\n"
     ]
    }
   ],
   "source": [
    "if __name__ == '__main__':\n",
    "    # Install required packages\n",
    "    os.system('pip install pydub')\n",
    "    os.system('pip install transformers==4.32.0')\n",
    "    os.system('pip install -U denoiser')\n",
    "    os.system('pip install noisereduce')\n",
    "    os.system('pip install torchaudio')\n",
    "    os.system('pip install librosa')\n",
    "    os.system('pip install pyannote.audio')\n",
    "    os.system('pip install flask')\n",
    "    os.system('pip install pyngrok')\n",
    "\n",
    "    # Run Flask and ngrok\n",
    "    flask_thread = threading.Thread(target=run_flask)\n",
    "    flask_thread.daemon = True\n",
    "    flask_thread.start()\n",
    "\n",
    "    ngrok_url = start_ngrok()\n",
    "\n",
    "    # Keep the script running\n",
    "    try:\n",
    "        while True:\n",
    "            time.sleep(10)\n",
    "    except KeyboardInterrupt:\n",
    "        ngrok.disconnect(ngrok_url)\n",
    "        logging.info('Ngrok tunnel disconnected')\n",
    "        exit(0)"
   ]
  }
 ],
 "metadata": {
  "kaggle": {
   "accelerator": "nvidiaTeslaT4",
   "dataSources": [],
   "dockerImageVersionId": 30787,
   "isGpuEnabled": true,
   "isInternetEnabled": true,
   "language": "python",
   "sourceType": "notebook"
  },
  "kernelspec": {
   "display_name": "Python 3",
   "language": "python",
   "name": "python3"
  },
  "language_info": {
   "codemirror_mode": {
    "name": "ipython",
    "version": 3
   },
   "file_extension": ".py",
   "mimetype": "text/x-python",
   "name": "python",
   "nbconvert_exporter": "python",
   "pygments_lexer": "ipython3",
   "version": "3.10.14"
  }
 },
 "nbformat": 4,
 "nbformat_minor": 4
}
