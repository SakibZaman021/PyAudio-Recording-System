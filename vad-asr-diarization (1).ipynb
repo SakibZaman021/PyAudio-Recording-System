{
 "cells": [
  {
   "cell_type": "code",
   "execution_count": 1,
   "metadata": {
    "colab": {
     "base_uri": "https://localhost:8080/"
    },
    "execution": {
     "iopub.execute_input": "2024-12-07T10:44:32.335252Z",
     "iopub.status.busy": "2024-12-07T10:44:32.334616Z",
     "iopub.status.idle": "2024-12-07T10:44:35.716481Z",
     "shell.execute_reply": "2024-12-07T10:44:35.715617Z",
     "shell.execute_reply.started": "2024-12-07T10:44:32.335219Z"
    },
    "executionInfo": {
     "elapsed": 24608,
     "status": "ok",
     "timestamp": 1732717357972,
     "user": {
      "displayName": "sakib zaman",
      "userId": "11660463814760201146"
     },
     "user_tz": -360
    },
    "id": "uMmzNk166HiC",
    "outputId": "b9e7a7c1-9c71-4bd3-d409-fe2d2faa026b",
    "trusted": true
   },
   "outputs": [
    {
     "ename": "FileNotFoundError",
     "evalue": "[WinError 3] The system cannot find the path specified: '/kaggle/input/wav-file/'",
     "output_type": "error",
     "traceback": [
      "\u001b[1;31m---------------------------------------------------------------------------\u001b[0m",
      "\u001b[1;31mFileNotFoundError\u001b[0m                         Traceback (most recent call last)",
      "Cell \u001b[1;32mIn[1], line 7\u001b[0m\n\u001b[0;32m      4\u001b[0m drive_folder_path \u001b[38;5;241m=\u001b[39m \u001b[38;5;124m'\u001b[39m\u001b[38;5;124m/kaggle/input/wav-file/\u001b[39m\u001b[38;5;124m'\u001b[39m  \u001b[38;5;66;03m# Update with your actual folder name\u001b[39;00m\n\u001b[0;32m      6\u001b[0m \u001b[38;5;66;03m# List available files in the folder\u001b[39;00m\n\u001b[1;32m----> 7\u001b[0m audio_files \u001b[38;5;241m=\u001b[39m [f \u001b[38;5;28;01mfor\u001b[39;00m f \u001b[38;5;129;01min\u001b[39;00m \u001b[43mos\u001b[49m\u001b[38;5;241;43m.\u001b[39;49m\u001b[43mlistdir\u001b[49m\u001b[43m(\u001b[49m\u001b[43mdrive_folder_path\u001b[49m\u001b[43m)\u001b[49m \u001b[38;5;28;01mif\u001b[39;00m f\u001b[38;5;241m.\u001b[39mendswith(\u001b[38;5;124m'\u001b[39m\u001b[38;5;124m.wav\u001b[39m\u001b[38;5;124m'\u001b[39m)]\n\u001b[0;32m      9\u001b[0m \u001b[38;5;28;01mif\u001b[39;00m \u001b[38;5;129;01mnot\u001b[39;00m audio_files:\n\u001b[0;32m     10\u001b[0m     \u001b[38;5;28;01mraise\u001b[39;00m \u001b[38;5;167;01mValueError\u001b[39;00m(\u001b[38;5;124m\"\u001b[39m\u001b[38;5;124mNo .wav files found in the folder.\u001b[39m\u001b[38;5;124m\"\u001b[39m)\n",
      "\u001b[1;31mFileNotFoundError\u001b[0m: [WinError 3] The system cannot find the path specified: '/kaggle/input/wav-file/'"
     ]
    }
   ],
   "source": [
    "import os\n",
    "\n",
    "# Set the folder path in Kaggle input directory\n",
    "drive_folder_path = '/kaggle/input/wav-file/'  # Update with your actual folder name\n",
    "\n",
    "# List available files in the folder\n",
    "audio_files = [f for f in os.listdir(drive_folder_path) if f.endswith('.wav')]\n",
    "\n",
    "if not audio_files:\n",
    "    raise ValueError(\"No .wav files found in the folder.\")\n",
    "\n",
    "# Display files to the user for selection\n",
    "print(\"Available audio files in the folder:\")\n",
    "for idx, file_name in enumerate(audio_files, start=1):\n",
    "    print(f\"{idx}. {file_name}\")\n",
    "\n",
    "# Let the user select the file (this part needs to be adapted for batch processing or direct selection)\n",
    "selected_index = int(input(\"Enter the number corresponding to the file you want to process: \")) - 1\n",
    "\n",
    "if selected_index < 0 or selected_index >= len(audio_files):\n",
    "    raise ValueError(\"Invalid selection.\")\n",
    "\n",
    "# Set the selected file path\n",
    "path = os.path.join(drive_folder_path, audio_files[selected_index])\n",
    "print(f\"Selected file: {path}\")\n",
    "\n",
    "# Output folder for results (set to a folder within the Kaggle environment)\n",
    "output_folder_path = '/kaggle/working/'  # You can set a custom folder if needed\n"
   ]
  },
  {
   "cell_type": "code",
   "execution_count": 235,
   "metadata": {
    "execution": {
     "iopub.execute_input": "2024-12-07T10:38:33.767700Z",
     "iopub.status.busy": "2024-12-07T10:38:33.767056Z",
     "iopub.status.idle": "2024-12-07T10:38:33.771717Z",
     "shell.execute_reply": "2024-12-07T10:38:33.770827Z",
     "shell.execute_reply.started": "2024-12-07T10:38:33.767641Z"
    },
    "executionInfo": {
     "elapsed": 399,
     "status": "ok",
     "timestamp": 1732717362703,
     "user": {
      "displayName": "sakib zaman",
      "userId": "11660463814760201146"
     },
     "user_tz": -360
    },
    "id": "NXRSNjvIVMqm",
    "trusted": true
   },
   "outputs": [],
   "source": [
    "# Directory to save segmented audio files in Google Drive\n",
    "\n",
    "segmented_audio_folder = os.path.join(output_folder_path, \"segmented_audio\")\n",
    "\n",
    "os.makedirs(segmented_audio_folder, exist_ok=True)  # Create the folder if it doesn't exist"
   ]
  },
  {
   "cell_type": "code",
   "execution_count": 3,
   "metadata": {
    "execution": {
     "iopub.execute_input": "2024-12-01T18:49:03.590640Z",
     "iopub.status.busy": "2024-12-01T18:49:03.590289Z",
     "iopub.status.idle": "2024-12-01T18:49:03.594369Z",
     "shell.execute_reply": "2024-12-01T18:49:03.593514Z",
     "shell.execute_reply.started": "2024-12-01T18:49:03.590612Z"
    },
    "executionInfo": {
     "elapsed": 411,
     "status": "ok",
     "timestamp": 1732713579674,
     "user": {
      "displayName": "sakib zaman",
      "userId": "11660463814760201146"
     },
     "user_tz": -360
    },
    "id": "-VN75Hda6ewS",
    "trusted": true
   },
   "outputs": [],
   "source": [
    "# # Parameters\n",
    "\n",
    "# num_speakers = 2  #@param {type:\"integer\"}\n",
    "\n",
    "# language = 'any'  #@param ['any', 'bengali']\n",
    "\n",
    "# model_size = 'large'  #@param ['tiny', 'base', 'small', 'medium', 'large', 'bengali']"
   ]
  },
  {
   "cell_type": "code",
   "execution_count": 7,
   "metadata": {
    "execution": {
     "iopub.execute_input": "2024-12-07T08:47:49.111059Z",
     "iopub.status.busy": "2024-12-07T08:47:49.110740Z",
     "iopub.status.idle": "2024-12-07T08:47:49.114897Z",
     "shell.execute_reply": "2024-12-07T08:47:49.114057Z",
     "shell.execute_reply.started": "2024-12-07T08:47:49.111033Z"
    },
    "executionInfo": {
     "elapsed": 635,
     "status": "ok",
     "timestamp": 1732717364975,
     "user": {
      "displayName": "sakib zaman",
      "userId": "11660463814760201146"
     },
     "user_tz": -360
    },
    "id": "fVpgmRS-6oy_",
    "trusted": true
   },
   "outputs": [],
   "source": [
    "threshold = 10"
   ]
  },
  {
   "cell_type": "code",
   "execution_count": 5,
   "metadata": {
    "colab": {
     "base_uri": "https://localhost:8080/"
    },
    "execution": {
     "iopub.execute_input": "2024-12-07T08:47:50.271232Z",
     "iopub.status.busy": "2024-12-07T08:47:50.270923Z",
     "iopub.status.idle": "2024-12-07T08:48:08.499266Z",
     "shell.execute_reply": "2024-12-07T08:48:08.498195Z",
     "shell.execute_reply.started": "2024-12-07T08:47:50.271203Z"
    },
    "executionInfo": {
     "elapsed": 4267,
     "status": "ok",
     "timestamp": 1732717369814,
     "user": {
      "displayName": "sakib zaman",
      "userId": "11660463814760201146"
     },
     "user_tz": -360
    },
    "id": "uGMwsg3Ax-28",
    "outputId": "3ded14a3-9927-4f1c-cbc6-7e7597293227",
    "trusted": true
   },
   "outputs": [],
   "source": [
    "!pip install transformers==4.32.0"
   ]
  },
  {
   "cell_type": "code",
   "execution_count": null,
   "metadata": {
    "execution": {
     "iopub.status.busy": "2024-11-30T20:09:05.435573Z",
     "iopub.status.idle": "2024-11-30T20:09:05.435882Z",
     "shell.execute_reply": "2024-11-30T20:09:05.435756Z",
     "shell.execute_reply.started": "2024-11-30T20:09:05.435741Z"
    },
    "id": "A0GhRVjF6qJD",
    "trusted": true
   },
   "outputs": [],
   "source": [
    "# model_name = model_size\n",
    "\n",
    "# if language == 'bengali' and model_size != 'medium':\n",
    "\n",
    "#     model_name += '.bn'"
   ]
  },
  {
   "cell_type": "code",
   "execution_count": 4,
   "metadata": {
    "execution": {
     "iopub.execute_input": "2024-12-07T08:49:13.560583Z",
     "iopub.status.busy": "2024-12-07T08:49:13.559872Z",
     "iopub.status.idle": "2024-12-07T08:49:43.210800Z",
     "shell.execute_reply": "2024-12-07T08:49:43.209740Z",
     "shell.execute_reply.started": "2024-12-07T08:49:13.560549Z"
    },
    "executionInfo": {
     "elapsed": 27607,
     "status": "ok",
     "timestamp": 1732717397416,
     "user": {
      "displayName": "sakib zaman",
      "userId": "11660463814760201146"
     },
     "user_tz": -360
    },
    "id": "zK2PrwIp6sKX",
    "trusted": true
   },
   "outputs": [
    {
     "name": "stderr",
     "output_type": "stream",
     "text": [
      "The system cannot find the path specified.\n"
     ]
    }
   ],
   "source": [
    "!pip install -q git+https://github.com/pyannote/pyannote-audio > /dev/null"
   ]
  },
  {
   "cell_type": "code",
   "execution_count": 12,
   "metadata": {
    "colab": {
     "base_uri": "https://localhost:8080/"
    },
    "execution": {
     "iopub.execute_input": "2024-12-07T08:51:28.477213Z",
     "iopub.status.busy": "2024-12-07T08:51:28.476650Z",
     "iopub.status.idle": "2024-12-07T08:51:38.950225Z",
     "shell.execute_reply": "2024-12-07T08:51:38.949524Z",
     "shell.execute_reply.started": "2024-12-07T08:51:28.477184Z"
    },
    "executionInfo": {
     "elapsed": 33467,
     "status": "ok",
     "timestamp": 1732717432377,
     "user": {
      "displayName": "sakib zaman",
      "userId": "11660463814760201146"
     },
     "user_tz": -360
    },
    "id": "K5QPopC2wLTs",
    "outputId": "e9d720b8-8271-4f64-835e-a5ae11411236",
    "trusted": true
   },
   "outputs": [],
   "source": [
    "from pydub import AudioSegment\n",
    "\n",
    "from io import BytesIO\n",
    "\n",
    "import glob\n",
    "\n",
    "import uuid\n",
    "\n",
    "import asyncio\n",
    "\n",
    "from transformers import pipeline\n",
    "\n",
    "\n",
    "\n",
    "import torch,os\n",
    "\n",
    "torch.cuda.empty_cache()\n",
    "\n",
    "CHUNK_LENGTH_S = 8\n",
    "\n",
    "DATASET_PATH = os.getcwd()+\"/audios\"\n",
    "\n",
    "unique_name = str(uuid.uuid4())\n",
    "\n",
    "os.makedirs(DATASET_PATH, exist_ok=True)\n",
    "\n",
    "device = \"cuda\" if torch.cuda.is_available() else \"cpu\"\n",
    "\n",
    "pipe = None\n",
    "\n",
    "model_name = \"maddi99/whisper_bn\"\n",
    "\n",
    "pipe = pipeline(task=\"automatic-speech-recognition\",\n",
    "\n",
    "                model=model_name,\n",
    "\n",
    "                tokenizer=model_name,\n",
    "\n",
    "                chunk_length_s=CHUNK_LENGTH_S, device=0)\n",
    "\n",
    "pipe.model.config.forced_decoder_ids = pipe.tokenizer.get_decoder_prompt_ids(language=\"bn\",\n",
    "\n",
    "                                                                                 task=\"transcribe\")"
   ]
  },
  {
   "cell_type": "code",
   "execution_count": 16,
   "metadata": {
    "execution": {
     "iopub.execute_input": "2024-12-07T08:51:44.231282Z",
     "iopub.status.busy": "2024-12-07T08:51:44.231035Z",
     "iopub.status.idle": "2024-12-07T08:51:44.238793Z",
     "shell.execute_reply": "2024-12-07T08:51:44.237912Z",
     "shell.execute_reply.started": "2024-12-07T08:51:44.231258Z"
    },
    "executionInfo": {
     "elapsed": 399,
     "status": "ok",
     "timestamp": 1732717457333,
     "user": {
      "displayName": "sakib zaman",
      "userId": "11660463814760201146"
     },
     "user_tz": -360
    },
    "id": "9Jx7tPKZ6uXy",
    "trusted": true
   },
   "outputs": [],
   "source": [
    "# # import libraries\n",
    "\n",
    "# import os\n",
    "\n",
    "# # import whisper\n",
    "\n",
    "# import torch\n",
    "\n",
    "from pydub import AudioSegment\n",
    "\n",
    "from pyannote.audio.pipelines import VoiceActivityDetection as VoiceActivitySegmentation\n",
    "\n",
    "from pyannote.audio import Model\n",
    "\n",
    "from pyannote.core import Segment, Annotation, Timeline\n",
    "\n",
    "from sklearn.cluster import AgglomerativeClustering\n",
    "\n",
    "import numpy as np\n",
    "\n",
    "from tqdm import tqdm\n",
    "\n",
    "import urllib.request\n",
    "\n",
    "from pyannote.audio.core.io import AudioFile\n",
    "\n",
    "from pydub.silence import detect_nonsilent\n",
    "\n",
    "from pyannote.audio import Model\n",
    "\n",
    "from pyannote.audio import Audio\n",
    "\n",
    "from pyannote.audio.pipelines import VoiceActivityDetection as VoiceActivitySegmentation"
   ]
  },
  {
   "cell_type": "code",
   "execution_count": 220,
   "metadata": {
    "execution": {
     "iopub.execute_input": "2024-12-07T10:32:18.618940Z",
     "iopub.status.busy": "2024-12-07T10:32:18.618251Z",
     "iopub.status.idle": "2024-12-07T10:32:18.626057Z",
     "shell.execute_reply": "2024-12-07T10:32:18.625066Z",
     "shell.execute_reply.started": "2024-12-07T10:32:18.618903Z"
    },
    "executionInfo": {
     "elapsed": 621,
     "status": "ok",
     "timestamp": 1732717459655,
     "user": {
      "displayName": "sakib zaman",
      "userId": "11660463814760201146"
     },
     "user_tz": -360
    },
    "id": "iMQXqQhc6u5u",
    "trusted": true
   },
   "outputs": [],
   "source": [
    "# Define VAD segmentation model URL\n",
    "\n",
    "VAD_SEGMENTATION_URL = \"https://whisperx.s3.eu-west-2.amazonaws.com/model_weights/segmentation/0b5b3216d60a2d32fc086b47ea8c67589aaeb26b7e07fcbe620d6d0b83e209ea/pytorch_model.bin\"\n",
    "\n",
    "\n",
    "\n",
    "# Function to load VAD model with optimized hyperparameters\n",
    "\n",
    "def load_vad_model(device, vad_onset=0.5, vad_offset=0.3, model_fp=None):\n",
    "\n",
    "    model_dir = torch.hub._get_torch_home()\n",
    "\n",
    "    os.makedirs(model_dir, exist_ok=True)\n",
    "\n",
    "    if model_fp is None:\n",
    "\n",
    "        model_fp = os.path.join(model_dir, \"whisperx-vad-segmentation.bin\")\n",
    "\n",
    "    if not os.path.isfile(model_fp):\n",
    "\n",
    "        with urllib.request.urlopen(VAD_SEGMENTATION_URL) as source, open(model_fp, \"wb\") as output:\n",
    "\n",
    "            with tqdm(total=int(source.info().get(\"Content-Length\")), ncols=80, unit=\"iB\", unit_scale=True, unit_divisor=1024) as loop:\n",
    "\n",
    "                while True:\n",
    "\n",
    "                    buffer = source.read(8192)\n",
    "\n",
    "                    if not buffer:\n",
    "\n",
    "                        break\n",
    "\n",
    "                    output.write(buffer)\n",
    "\n",
    "                    loop.update(len(buffer))\n",
    "\n",
    "\n",
    "\n",
    "    vad_model = Model.from_pretrained(model_fp)\n",
    "\n",
    "    vad_pipeline = VoiceActivitySegmentation(segmentation=vad_model, device=torch.device(device))\n",
    "\n",
    "    vad_pipeline.instantiate({\n",
    "\n",
    "        \"onset\": vad_onset,\n",
    "\n",
    "        \"offset\": vad_offset,\n",
    "\n",
    "        \"min_duration_on\": 0.5,  # Discard segments shorter than 1 second\n",
    "\n",
    "        \"min_duration_off\": 0.3  # Merge gaps shorter than 0.5 seconds\n",
    "\n",
    "    })\n",
    "\n",
    "    return vad_pipeline\n"
   ]
  },
  {
   "cell_type": "code",
   "execution_count": 236,
   "metadata": {
    "colab": {
     "base_uri": "https://localhost:8080/"
    },
    "execution": {
     "iopub.execute_input": "2024-12-07T10:38:39.050479Z",
     "iopub.status.busy": "2024-12-07T10:38:39.049977Z",
     "iopub.status.idle": "2024-12-07T10:38:39.172799Z",
     "shell.execute_reply": "2024-12-07T10:38:39.172026Z",
     "shell.execute_reply.started": "2024-12-07T10:38:39.050414Z"
    },
    "executionInfo": {
     "elapsed": 437,
     "status": "ok",
     "timestamp": 1732717461942,
     "user": {
      "displayName": "sakib zaman",
      "userId": "11660463814760201146"
     },
     "user_tz": -360
    },
    "id": "54qoKxQe6xft",
    "outputId": "da64c388-b182-4f67-f092-2d19c063b5d8",
    "trusted": true
   },
   "outputs": [
    {
     "name": "stdout",
     "output_type": "stream",
     "text": [
      "Model was trained with pyannote.audio 0.0.1, yours is 3.3.2. Bad things might happen unless you revert pyannote.audio to 0.x.\n",
      "Model was trained with torch 1.10.0+cu102, yours is 2.4.0. Bad things might happen unless you revert torch to 1.x.\n"
     ]
    }
   ],
   "source": [
    "# Load VAD model\n",
    "\n",
    "device = \"cuda\" if torch.cuda.is_available() else \"cpu\"\n",
    "\n",
    "vad_pipeline = load_vad_model(device)"
   ]
  },
  {
   "cell_type": "code",
   "execution_count": 237,
   "metadata": {
    "execution": {
     "iopub.execute_input": "2024-12-07T10:38:40.727368Z",
     "iopub.status.busy": "2024-12-07T10:38:40.726805Z",
     "iopub.status.idle": "2024-12-07T10:38:40.731441Z",
     "shell.execute_reply": "2024-12-07T10:38:40.730454Z",
     "shell.execute_reply.started": "2024-12-07T10:38:40.727339Z"
    },
    "executionInfo": {
     "elapsed": 444,
     "status": "ok",
     "timestamp": 1732717463978,
     "user": {
      "displayName": "sakib zaman",
      "userId": "11660463814760201146"
     },
     "user_tz": -360
    },
    "id": "uwhMZu846zZa",
    "trusted": true
   },
   "outputs": [],
   "source": [
    "# Convert non-WAV files to WAV\n",
    "\n",
    "if path[-3:] != 'wav':\n",
    "\n",
    "    subprocess.call(['ffmpeg', '-i', path, 'audio.wav', '-y'])\n",
    "\n",
    "    path = 'audio.wav'\n"
   ]
  },
  {
   "cell_type": "code",
   "execution_count": 238,
   "metadata": {
    "colab": {
     "base_uri": "https://localhost:8080/"
    },
    "execution": {
     "iopub.execute_input": "2024-12-07T10:38:42.345267Z",
     "iopub.status.busy": "2024-12-07T10:38:42.344443Z",
     "iopub.status.idle": "2024-12-07T10:38:42.349568Z",
     "shell.execute_reply": "2024-12-07T10:38:42.348645Z",
     "shell.execute_reply.started": "2024-12-07T10:38:42.345232Z"
    },
    "executionInfo": {
     "elapsed": 380,
     "status": "ok",
     "timestamp": 1732717466076,
     "user": {
      "displayName": "sakib zaman",
      "userId": "11660463814760201146"
     },
     "user_tz": -360
    },
    "id": "ThD0QzylCRBX",
    "outputId": "ac88160b-7f97-4013-e5f7-afbdedde8758",
    "trusted": true
   },
   "outputs": [
    {
     "name": "stdout",
     "output_type": "stream",
     "text": [
      "/kaggle/input/wav-file/20241102_105316_CMEDHLTD_dr_aamasud_01732928315.wav\n"
     ]
    }
   ],
   "source": [
    "print(path)"
   ]
  },
  {
   "cell_type": "code",
   "execution_count": 250,
   "metadata": {
    "execution": {
     "iopub.execute_input": "2024-12-07T10:44:46.399939Z",
     "iopub.status.busy": "2024-12-07T10:44:46.399195Z",
     "iopub.status.idle": "2024-12-07T10:44:46.709670Z",
     "shell.execute_reply": "2024-12-07T10:44:46.708902Z",
     "shell.execute_reply.started": "2024-12-07T10:44:46.399904Z"
    },
    "executionInfo": {
     "elapsed": 1635,
     "status": "ok",
     "timestamp": 1732717469165,
     "user": {
      "displayName": "sakib zaman",
      "userId": "11660463814760201146"
     },
     "user_tz": -360
    },
    "id": "FFgmTxjd6zYb",
    "trusted": true
   },
   "outputs": [],
   "source": [
    "# Apply VAD to detect speech segments\n",
    "\n",
    "vad_segments = vad_pipeline.apply({\"audio\": path})"
   ]
  },
  {
   "cell_type": "code",
   "execution_count": 251,
   "metadata": {
    "colab": {
     "base_uri": "https://localhost:8080/"
    },
    "execution": {
     "iopub.execute_input": "2024-12-07T10:44:48.974228Z",
     "iopub.status.busy": "2024-12-07T10:44:48.973559Z",
     "iopub.status.idle": "2024-12-07T10:44:48.978896Z",
     "shell.execute_reply": "2024-12-07T10:44:48.977974Z",
     "shell.execute_reply.started": "2024-12-07T10:44:48.974192Z"
    },
    "executionInfo": {
     "elapsed": 403,
     "status": "ok",
     "timestamp": 1732717473376,
     "user": {
      "displayName": "sakib zaman",
      "userId": "11660463814760201146"
     },
     "user_tz": -360
    },
    "id": "MgjpaZVURFdP",
    "outputId": "5017a5e0-0ac7-4c4d-87d6-639569616ac2",
    "trusted": true
   },
   "outputs": [
    {
     "name": "stdout",
     "output_type": "stream",
     "text": [
      "[ 00:00:12.872 -->  00:00:16.939] A SPEECH\n",
      "[ 00:00:17.395 -->  00:00:17.969] B SPEECH\n",
      "[ 00:00:20.297 -->  00:00:22.727] D SPEECH\n",
      "[ 00:00:23.605 -->  00:00:28.448] E SPEECH\n",
      "[ 00:00:28.752 -->  00:00:35.569] F SPEECH\n",
      "[ 00:00:36.261 -->  00:00:38.978] G SPEECH\n",
      "[ 00:00:39.653 -->  00:00:51.212] H SPEECH\n",
      "[ 00:00:51.634 -->  00:00:54.807] I SPEECH\n",
      "[ 00:00:55.380 -->  00:00:56.393] J SPEECH\n",
      "[ 00:00:57.085 -->  00:01:05.084] K SPEECH\n",
      "[ 00:01:05.894 -->  00:01:08.459] L SPEECH\n",
      "[ 00:01:08.864 -->  00:01:21.115] M SPEECH\n",
      "[ 00:01:22.583 -->  00:01:26.616] N SPEECH\n",
      "[ 00:01:27.696 -->  00:01:32.792] O SPEECH\n",
      "[ 00:01:34.075 -->  00:01:36.319] P SPEECH\n",
      "[ 00:01:36.944 -->  00:01:42.749] Q SPEECH\n",
      "[ 00:01:43.457 -->  00:01:58.780] R SPEECH\n",
      "[ 00:02:00.450 -->  00:02:05.462] S SPEECH\n",
      "[ 00:02:06.104 -->  00:02:09.732] T SPEECH\n"
     ]
    }
   ],
   "source": [
    "print(vad_segments)"
   ]
  },
  {
   "cell_type": "code",
   "execution_count": null,
   "metadata": {
    "colab": {
     "base_uri": "https://localhost:8080/"
    },
    "execution": {
     "iopub.status.busy": "2024-11-30T20:09:05.451282Z",
     "iopub.status.idle": "2024-11-30T20:09:05.451582Z",
     "shell.execute_reply": "2024-11-30T20:09:05.451451Z",
     "shell.execute_reply.started": "2024-11-30T20:09:05.451436Z"
    },
    "executionInfo": {
     "elapsed": 362,
     "status": "ok",
     "timestamp": 1732619373338,
     "user": {
      "displayName": "sakib zaman",
      "userId": "11660463814760201146"
     },
     "user_tz": -360
    },
    "id": "p9eGbIxOzaTM",
    "outputId": "ac7b48ee-feb6-4ed1-dac1-2fa39792db62",
    "trusted": true
   },
   "outputs": [],
   "source": [
    "# print(merged_segments)"
   ]
  },
  {
   "cell_type": "code",
   "execution_count": 252,
   "metadata": {
    "colab": {
     "base_uri": "https://localhost:8080/"
    },
    "execution": {
     "iopub.execute_input": "2024-12-07T10:44:57.695108Z",
     "iopub.status.busy": "2024-12-07T10:44:57.694482Z",
     "iopub.status.idle": "2024-12-07T10:44:57.699652Z",
     "shell.execute_reply": "2024-12-07T10:44:57.698825Z",
     "shell.execute_reply.started": "2024-12-07T10:44:57.695073Z"
    },
    "executionInfo": {
     "elapsed": 405,
     "status": "ok",
     "timestamp": 1732717482186,
     "user": {
      "displayName": "sakib zaman",
      "userId": "11660463814760201146"
     },
     "user_tz": -360
    },
    "id": "fMQy9kKNXBab",
    "outputId": "eec31ccf-70fe-4113-da20-df86ee628487",
    "trusted": true
   },
   "outputs": [
    {
     "name": "stdout",
     "output_type": "stream",
     "text": [
      "[[ 00:00:12.872 -->  00:00:16.939]\n",
      " [ 00:00:17.395 -->  00:00:17.969]\n",
      " [ 00:00:20.297 -->  00:00:22.727]\n",
      " [ 00:00:23.605 -->  00:00:28.448]\n",
      " [ 00:00:28.752 -->  00:00:35.569]\n",
      " [ 00:00:36.261 -->  00:00:38.978]\n",
      " [ 00:00:39.653 -->  00:00:51.212]\n",
      " [ 00:00:51.634 -->  00:00:54.807]\n",
      " [ 00:00:55.380 -->  00:00:56.393]\n",
      " [ 00:00:57.085 -->  00:01:05.084]\n",
      " [ 00:01:05.894 -->  00:01:08.459]\n",
      " [ 00:01:08.864 -->  00:01:21.115]\n",
      " [ 00:01:22.583 -->  00:01:26.616]\n",
      " [ 00:01:27.696 -->  00:01:32.792]\n",
      " [ 00:01:34.075 -->  00:01:36.319]\n",
      " [ 00:01:36.944 -->  00:01:42.749]\n",
      " [ 00:01:43.457 -->  00:01:58.780]\n",
      " [ 00:02:00.450 -->  00:02:05.462]\n",
      " [ 00:02:06.104 -->  00:02:09.732]]\n"
     ]
    }
   ],
   "source": [
    "timeline = vad_segments.get_timeline()\n",
    "\n",
    "print(timeline)"
   ]
  },
  {
   "cell_type": "code",
   "execution_count": 253,
   "metadata": {
    "execution": {
     "iopub.execute_input": "2024-12-07T10:45:00.633633Z",
     "iopub.status.busy": "2024-12-07T10:45:00.633293Z",
     "iopub.status.idle": "2024-12-07T10:45:00.639773Z",
     "shell.execute_reply": "2024-12-07T10:45:00.638808Z",
     "shell.execute_reply.started": "2024-12-07T10:45:00.633601Z"
    },
    "executionInfo": {
     "elapsed": 381,
     "status": "ok",
     "timestamp": 1732717485244,
     "user": {
      "displayName": "sakib zaman",
      "userId": "11660463814760201146"
     },
     "user_tz": -360
    },
    "id": "GsIpPWZO63NX",
    "trusted": true
   },
   "outputs": [],
   "source": [
    "# Function to transcribe with optional chunking\n",
    "\n",
    "def transcribe_with_chunking(segment_path, max_chunk_duration=threshold):\n",
    "\n",
    "    audio = AudioSegment.from_file(segment_path)\n",
    "\n",
    "    duration = len(audio) / 1000  # Duration in seconds\n",
    "\n",
    "\n",
    "\n",
    "    if duration <= max_chunk_duration:\n",
    "\n",
    "        # Short segment, transcribe directly\n",
    "\n",
    "        result = pipe(segment_path)\n",
    "\n",
    "        return result[\"text\"]\n",
    "\n",
    "    else:\n",
    "\n",
    "        # Long segment, manually chunk the audio\n",
    "\n",
    "        chunks = []\n",
    "\n",
    "        for start in range(0, int(duration), max_chunk_duration):\n",
    "\n",
    "            end = min(start + max_chunk_duration, duration)\n",
    "\n",
    "            chunk_audio = audio[start * 1000:end * 1000]\n",
    "\n",
    "            chunk_path = f\"temp_chunk_{start}_{end}.wav\"\n",
    "\n",
    "            chunk_audio.export(chunk_path, format=\"wav\")\n",
    "\n",
    "\n",
    "\n",
    "            # Transcribe each chunk\n",
    "\n",
    "            chunk_result = pipe(chunk_path)\n",
    "\n",
    "            chunks.append(chunk_result[\"text\"])\n",
    "\n",
    "\n",
    "\n",
    "        # Combine transcriptions from all chunks\n",
    "\n",
    "        return \" \".join(chunks)"
   ]
  },
  {
   "cell_type": "code",
   "execution_count": 243,
   "metadata": {
    "execution": {
     "iopub.execute_input": "2024-12-07T10:39:10.766564Z",
     "iopub.status.busy": "2024-12-07T10:39:10.765754Z",
     "iopub.status.idle": "2024-12-07T10:39:10.770619Z",
     "shell.execute_reply": "2024-12-07T10:39:10.769800Z",
     "shell.execute_reply.started": "2024-12-07T10:39:10.766515Z"
    },
    "executionInfo": {
     "elapsed": 392,
     "status": "ok",
     "timestamp": 1732717487923,
     "user": {
      "displayName": "sakib zaman",
      "userId": "11660463814760201146"
     },
     "user_tz": -360
    },
    "id": "AH3ntPXg65-J",
    "trusted": true
   },
   "outputs": [],
   "source": [
    "# Load Whisper model\n",
    "\n",
    "# whisper_model = whisper.load_model(model_name)\n",
    "\n",
    "model = model_name"
   ]
  },
  {
   "cell_type": "code",
   "execution_count": 254,
   "metadata": {
    "execution": {
     "iopub.execute_input": "2024-12-07T10:45:03.339476Z",
     "iopub.status.busy": "2024-12-07T10:45:03.339142Z",
     "iopub.status.idle": "2024-12-07T10:45:03.345532Z",
     "shell.execute_reply": "2024-12-07T10:45:03.344689Z",
     "shell.execute_reply.started": "2024-12-07T10:45:03.339446Z"
    },
    "executionInfo": {
     "elapsed": 654,
     "status": "ok",
     "timestamp": 1732717490630,
     "user": {
      "displayName": "sakib zaman",
      "userId": "11660463814760201146"
     },
     "user_tz": -360
    },
    "id": "iRfFhSAORJUt",
    "trusted": true
   },
   "outputs": [],
   "source": [
    "\n",
    "\n",
    "# Transcribe segments with chunking\n",
    "\n",
    "def transcribe_with_chunking(segment_path, max_chunk_duration=threshold):\n",
    "\n",
    "    audio = AudioSegment.from_file(segment_path)\n",
    "\n",
    "    duration = len(audio) / 1000  # Duration in seconds\n",
    "\n",
    "\n",
    "\n",
    "    if duration <= max_chunk_duration:\n",
    "\n",
    "        result = pipe(segment_path)\n",
    "\n",
    "        return result[\"text\"]\n",
    "\n",
    "    else:\n",
    "\n",
    "        chunks = []\n",
    "\n",
    "        for start in range(0, int(duration), max_chunk_duration):\n",
    "\n",
    "            end = min(start + max_chunk_duration, duration)\n",
    "\n",
    "            chunk_audio = audio[start * 1000:end * 1000]\n",
    "\n",
    "            chunk_path = f\"temp_chunk_{start}_{end}.wav\"\n",
    "\n",
    "            chunk_audio.export(chunk_path, format=\"wav\")\n",
    "\n",
    "            chunk_result = pipe(chunk_path)\n",
    "\n",
    "            chunks.append(chunk_result[\"text\"])\n",
    "\n",
    "        return \" \".join(chunks)"
   ]
  },
  {
   "cell_type": "code",
   "execution_count": null,
   "metadata": {
    "execution": {
     "iopub.status.busy": "2024-11-30T20:09:05.460555Z",
     "iopub.status.idle": "2024-11-30T20:09:05.461006Z",
     "shell.execute_reply": "2024-11-30T20:09:05.460806Z",
     "shell.execute_reply.started": "2024-11-30T20:09:05.460783Z"
    },
    "id": "immA8bxfQeIU",
    "trusted": true
   },
   "outputs": [],
   "source": [
    "# # Function to merge short segments\n",
    "\n",
    "# def merge_segments(vad_segments, min_length=3.0, max_gap=1.0):\n",
    "\n",
    "#     timeline = vad_segments.get_timeline().support(collar=max_gap)\n",
    "\n",
    "#     merged_timeline = Timeline()\n",
    "\n",
    "#     for segment in timeline:\n",
    "\n",
    "#         if segment.duration >= min_length:\n",
    "\n",
    "#             merged_timeline.add(segment)\n",
    "\n",
    "#     return merged_timeline\n",
    "\n",
    "\n",
    "\n",
    "# # Merge VAD segments\n",
    "\n",
    "# merged_segments = merge_segments(vad_segments, min_length=3.0)"
   ]
  },
  {
   "cell_type": "code",
   "execution_count": 255,
   "metadata": {
    "colab": {
     "base_uri": "https://localhost:8080/"
    },
    "execution": {
     "iopub.execute_input": "2024-12-07T10:45:06.273618Z",
     "iopub.status.busy": "2024-12-07T10:45:06.273302Z",
     "iopub.status.idle": "2024-12-07T10:45:35.238477Z",
     "shell.execute_reply": "2024-12-07T10:45:35.237569Z",
     "shell.execute_reply.started": "2024-12-07T10:45:06.273590Z"
    },
    "executionInfo": {
     "elapsed": 52298,
     "status": "ok",
     "timestamp": 1732717545430,
     "user": {
      "displayName": "sakib zaman",
      "userId": "11660463814760201146"
     },
     "user_tz": -360
    },
    "id": "VLN2_n_e7EWQ",
    "outputId": "f0400397-be3c-40f5-8322-0863647511fa",
    "trusted": true
   },
   "outputs": [
    {
     "name": "stderr",
     "output_type": "stream",
     "text": [
      "/opt/conda/lib/python3.10/site-packages/transformers/pipelines/base.py:1090: UserWarning: You seem to be using the pipelines sequentially on GPU. In order to maximize efficiency please use a dataset\n",
      "  warnings.warn(\n"
     ]
    },
    {
     "name": "stdout",
     "output_type": "stream",
     "text": [
      "Transcription for segment 1: হ্যালো আন্তোনা প্রদীপ বলছেন\n"
     ]
    },
    {
     "name": "stderr",
     "output_type": "stream",
     "text": [
      "/opt/conda/lib/python3.10/site-packages/transformers/pipelines/base.py:1090: UserWarning: You seem to be using the pipelines sequentially on GPU. In order to maximize efficiency please use a dataset\n",
      "  warnings.warn(\n"
     ]
    },
    {
     "name": "stdout",
     "output_type": "stream",
     "text": [
      "Transcription for segment 2: জি স্যার\n"
     ]
    },
    {
     "name": "stderr",
     "output_type": "stream",
     "text": [
      "/opt/conda/lib/python3.10/site-packages/transformers/pipelines/base.py:1090: UserWarning: You seem to be using the pipelines sequentially on GPU. In order to maximize efficiency please use a dataset\n",
      "  warnings.warn(\n"
     ]
    },
    {
     "name": "stdout",
     "output_type": "stream",
     "text": [
      "Transcription for segment 3: এই সমস্যা আর কোন কোন জায়গায় আছে আপনার\n"
     ]
    },
    {
     "name": "stderr",
     "output_type": "stream",
     "text": [
      "/opt/conda/lib/python3.10/site-packages/transformers/pipelines/base.py:1090: UserWarning: You seem to be using the pipelines sequentially on GPU. In order to maximize efficiency please use a dataset\n",
      "  warnings.warn(\n"
     ]
    },
    {
     "name": "stdout",
     "output_type": "stream",
     "text": [
      "Transcription for segment 4: স্যার এইটা শুধু পায়ে গতবার এরকম হয়েছিল স্যার একটু চুল খায় তা আমি\n"
     ]
    },
    {
     "name": "stderr",
     "output_type": "stream",
     "text": [
      "/opt/conda/lib/python3.10/site-packages/transformers/pipelines/base.py:1090: UserWarning: You seem to be using the pipelines sequentially on GPU. In order to maximize efficiency please use a dataset\n",
      "  warnings.warn(\n"
     ]
    },
    {
     "name": "stdout",
     "output_type": "stream",
     "text": [
      "Transcription for segment 5: বাম হাত দিয়ে একটু চুলকায় ছিলাম তো আমার ওই চামড়াটা ওই ঠেকেছে না পরে ঘাউই খেয়ে চার পাঁচ দিন শুকাইতেছে না\n"
     ]
    },
    {
     "name": "stderr",
     "output_type": "stream",
     "text": [
      "/opt/conda/lib/python3.10/site-packages/transformers/pipelines/base.py:1090: UserWarning: You seem to be using the pipelines sequentially on GPU. In order to maximize efficiency please use a dataset\n",
      "  warnings.warn(\n"
     ]
    },
    {
     "name": "stdout",
     "output_type": "stream",
     "text": [
      "Transcription for segment 6: আচ্ছা এখানে খালি চুলকানি আর কোথাও চুলকানি নাই\n"
     ]
    },
    {
     "name": "stderr",
     "output_type": "stream",
     "text": [
      "/opt/conda/lib/python3.10/site-packages/transformers/pipelines/base.py:1090: UserWarning: You seem to be using the pipelines sequentially on GPU. In order to maximize efficiency please use a dataset\n",
      "  warnings.warn(\n",
      "/opt/conda/lib/python3.10/site-packages/transformers/pipelines/base.py:1090: UserWarning: You seem to be using the pipelines sequentially on GPU. In order to maximize efficiency please use a dataset\n",
      "  warnings.warn(\n"
     ]
    },
    {
     "name": "stdout",
     "output_type": "stream",
     "text": [
      "Transcription for segment 7: আমি লাইফ বয়সা বান্ধি যখন স্নান করি আমার বুকে অনেক চুলকায় এবং মাঠে পিঠে অনেক চুলকায় শরীরের হাত পা অনেক চৌকা\n"
     ]
    },
    {
     "name": "stderr",
     "output_type": "stream",
     "text": [
      "/opt/conda/lib/python3.10/site-packages/transformers/pipelines/base.py:1090: UserWarning: You seem to be using the pipelines sequentially on GPU. In order to maximize efficiency please use a dataset\n",
      "  warnings.warn(\n"
     ]
    },
    {
     "name": "stdout",
     "output_type": "stream",
     "text": [
      "Transcription for segment 8: ওর শরীরে চুকার পর আমি সরিষার তেলতে একটু কমাই\n"
     ]
    },
    {
     "name": "stderr",
     "output_type": "stream",
     "text": [
      "/opt/conda/lib/python3.10/site-packages/transformers/pipelines/base.py:1090: UserWarning: You seem to be using the pipelines sequentially on GPU. In order to maximize efficiency please use a dataset\n",
      "  warnings.warn(\n"
     ]
    },
    {
     "name": "stdout",
     "output_type": "stream",
     "text": [
      "Transcription for segment 9: স্থান করার পরে\n"
     ]
    },
    {
     "name": "stderr",
     "output_type": "stream",
     "text": [
      "/opt/conda/lib/python3.10/site-packages/transformers/pipelines/base.py:1090: UserWarning: You seem to be using the pipelines sequentially on GPU. In order to maximize efficiency please use a dataset\n",
      "  warnings.warn(\n"
     ]
    },
    {
     "name": "stdout",
     "output_type": "stream",
     "text": [
      "Transcription for segment 10: মানে একটু বেশি হয় গামলেও হয় কিন্তু সান করার পরে আমি লাগবয় সবার ইউজ খুলে আমার প্রচুর চুলকায়\n"
     ]
    },
    {
     "name": "stderr",
     "output_type": "stream",
     "text": [
      "/opt/conda/lib/python3.10/site-packages/transformers/pipelines/base.py:1090: UserWarning: You seem to be using the pipelines sequentially on GPU. In order to maximize efficiency please use a dataset\n",
      "  warnings.warn(\n"
     ]
    },
    {
     "name": "stdout",
     "output_type": "stream",
     "text": [
      "Transcription for segment 11: হ্যাঁ রাত চুলকায় পিঠের বেশি চুলকায়\n"
     ]
    },
    {
     "name": "stderr",
     "output_type": "stream",
     "text": [
      "/opt/conda/lib/python3.10/site-packages/transformers/pipelines/base.py:1090: UserWarning: You seem to be using the pipelines sequentially on GPU. In order to maximize efficiency please use a dataset\n",
      "  warnings.warn(\n",
      "/opt/conda/lib/python3.10/site-packages/transformers/pipelines/base.py:1090: UserWarning: You seem to be using the pipelines sequentially on GPU. In order to maximize efficiency please use a dataset\n",
      "  warnings.warn(\n"
     ]
    },
    {
     "name": "stdout",
     "output_type": "stream",
     "text": [
      "Transcription for segment 12: আঙুলের ফাঁকে তার পরে হচ্ছে রানের চিপা এগুলো তো আছে এরকম চিপা নাই দুই পায়ের মাঝে বইটা দায় নেয় না অনেক চুলকা নিয়ে ওই দুই ছায়ে নেওয়ার মানে একটা\n"
     ]
    },
    {
     "name": "stderr",
     "output_type": "stream",
     "text": [
      "/opt/conda/lib/python3.10/site-packages/transformers/pipelines/base.py:1090: UserWarning: You seem to be using the pipelines sequentially on GPU. In order to maximize efficiency please use a dataset\n",
      "  warnings.warn(\n"
     ]
    },
    {
     "name": "stdout",
     "output_type": "stream",
     "text": [
      "Transcription for segment 13: আপনার বাসায় আর কারোর কোন চুলকানির সমস্যা আছে\n"
     ]
    },
    {
     "name": "stderr",
     "output_type": "stream",
     "text": [
      "/opt/conda/lib/python3.10/site-packages/transformers/pipelines/base.py:1090: UserWarning: You seem to be using the pipelines sequentially on GPU. In order to maximize efficiency please use a dataset\n",
      "  warnings.warn(\n"
     ]
    },
    {
     "name": "stdout",
     "output_type": "stream",
     "text": [
      "Transcription for segment 14: আমার মায়ের হয়েছে সেই মেয়ে এক দুই বছরের মাঝে দুইজনের হয়েছে\n"
     ]
    },
    {
     "name": "stderr",
     "output_type": "stream",
     "text": [
      "/opt/conda/lib/python3.10/site-packages/transformers/pipelines/base.py:1090: UserWarning: You seem to be using the pipelines sequentially on GPU. In order to maximize efficiency please use a dataset\n",
      "  warnings.warn(\n"
     ]
    },
    {
     "name": "stdout",
     "output_type": "stream",
     "text": [
      "Transcription for segment 15: এরা ছহাজারোক একজনের থেকে আরেকজনের কাছে যায়\n"
     ]
    },
    {
     "name": "stderr",
     "output_type": "stream",
     "text": [
      "/opt/conda/lib/python3.10/site-packages/transformers/pipelines/base.py:1090: UserWarning: You seem to be using the pipelines sequentially on GPU. In order to maximize efficiency please use a dataset\n",
      "  warnings.warn(\n"
     ]
    },
    {
     "name": "stdout",
     "output_type": "stream",
     "text": [
      "Transcription for segment 16:  আপনার যে চিকিৎসা আপনার মার সেন্ট চিকিৎসা বাসায় যার যার সমস্যা আছে সবাই সেন্ট চিকিৎসা করবে\n"
     ]
    },
    {
     "name": "stderr",
     "output_type": "stream",
     "text": [
      "/opt/conda/lib/python3.10/site-packages/transformers/pipelines/base.py:1090: UserWarning: You seem to be using the pipelines sequentially on GPU. In order to maximize efficiency please use a dataset\n",
      "  warnings.warn(\n",
      "/opt/conda/lib/python3.10/site-packages/transformers/pipelines/base.py:1090: UserWarning: You seem to be using the pipelines sequentially on GPU. In order to maximize efficiency please use a dataset\n",
      "  warnings.warn(\n"
     ]
    },
    {
     "name": "stdout",
     "output_type": "stream",
     "text": [
      "Transcription for segment 17:  একজনের চিকিৎসা না করাইলে ভালো হবে না এটা আরেকজনের কাছ থেকে আবার আরেবর যেগুলো আছে বালিশের চাদর বিছানার কভারের বিষয়ে গুলা যাবত পরাজয় করতেন সেই কাপড়গুলা গরম পানিতে টুল পাল্টাতে ভালো করে ধুয়ে নিবে\n"
     ]
    },
    {
     "name": "stderr",
     "output_type": "stream",
     "text": [
      "/opt/conda/lib/python3.10/site-packages/transformers/pipelines/base.py:1090: UserWarning: You seem to be using the pipelines sequentially on GPU. In order to maximize efficiency please use a dataset\n",
      "  warnings.warn(\n"
     ]
    },
    {
     "name": "stdout",
     "output_type": "stream",
     "text": [
      "Transcription for segment 18:  আর হচ্ছে ওষুধ দিচ্ছি ওষুধের গুলা আপনার আপনি আপনার মা দুজনেই স্টেম্বারে ব্যবহার করবেন ঠিক আছে\n"
     ]
    },
    {
     "name": "stderr",
     "output_type": "stream",
     "text": [
      "/opt/conda/lib/python3.10/site-packages/transformers/pipelines/base.py:1090: UserWarning: You seem to be using the pipelines sequentially on GPU. In order to maximize efficiency please use a dataset\n",
      "  warnings.warn(\n"
     ]
    },
    {
     "name": "stdout",
     "output_type": "stream",
     "text": [
      "Transcription for segment 19:  ওকে ঠিক আছে সুশীল করে পাঠাইছে\n"
     ]
    }
   ],
   "source": [
    "# Process and save each segment\n",
    "\n",
    "for i, segment in enumerate(timeline):\n",
    "\n",
    "    start_ms = segment.start * 1000  # Convert segment start to milliseconds\n",
    "\n",
    "    end_ms = segment.end * 1000  # Convert segment end to milliseconds\n",
    "\n",
    "    segment_audio = AudioSegment.from_file(path)[start_ms:end_ms]  # Extract audio segment\n",
    "\n",
    "    segment_filename = f\"segment_{i+1}.wav\"  # Name for the segment file\n",
    "\n",
    "    segment_path = os.path.join(segmented_audio_folder, segment_filename)\n",
    "\n",
    "    segment_audio.export(segment_path, format=\"wav\")  # Save segment as a .wav file\n",
    "\n",
    "\n",
    "\n",
    "    # Transcribe the segment\n",
    "\n",
    "    transcription = transcribe_with_chunking(segment_path, max_chunk_duration=threshold)\n",
    "\n",
    "    print(f\"Transcription for segment {i+1}: {transcription}\")"
   ]
  },
  {
   "cell_type": "code",
   "execution_count": 258,
   "metadata": {
    "execution": {
     "iopub.execute_input": "2024-12-07T10:58:11.124495Z",
     "iopub.status.busy": "2024-12-07T10:58:11.124187Z",
     "iopub.status.idle": "2024-12-07T10:58:11.128746Z",
     "shell.execute_reply": "2024-12-07T10:58:11.127724Z",
     "shell.execute_reply.started": "2024-12-07T10:58:11.124469Z"
    },
    "executionInfo": {
     "elapsed": 4,
     "status": "ok",
     "timestamp": 1732717743114,
     "user": {
      "displayName": "sakib zaman",
      "userId": "11660463814760201146"
     },
     "user_tz": -360
    },
    "id": "1HMoJYfQ9Gbc",
    "trusted": true
   },
   "outputs": [],
   "source": [
    "num_speakers = 2"
   ]
  },
  {
   "cell_type": "code",
   "execution_count": null,
   "metadata": {
    "trusted": true
   },
   "outputs": [],
   "source": []
  },
  {
   "cell_type": "code",
   "execution_count": 259,
   "metadata": {
    "execution": {
     "iopub.execute_input": "2024-12-07T10:58:13.021326Z",
     "iopub.status.busy": "2024-12-07T10:58:13.020499Z",
     "iopub.status.idle": "2024-12-07T10:58:14.371220Z",
     "shell.execute_reply": "2024-12-07T10:58:14.370212Z",
     "shell.execute_reply.started": "2024-12-07T10:58:13.021291Z"
    },
    "trusted": true
   },
   "outputs": [
    {
     "name": "stderr",
     "output_type": "stream",
     "text": [
      "/opt/conda/lib/python3.10/site-packages/speechbrain/utils/checkpoints.py:200: FutureWarning: You are using `torch.load` with `weights_only=False` (the current default value), which uses the default pickle module implicitly. It is possible to construct malicious pickle data which will execute arbitrary code during unpickling (See https://github.com/pytorch/pytorch/blob/main/SECURITY.md#untrusted-models for more details). In a future release, the default value for `weights_only` will be flipped to `True`. This limits the functions that could be executed during unpickling. Arbitrary objects will no longer be allowed to be loaded via this mode unless they are explicitly allowlisted by the user via `torch.serialization.add_safe_globals`. We recommend you start setting `weights_only=True` for any use case where you don't have full control of the loaded file. Please open an issue on GitHub for any issues related to this experimental feature.\n",
      "  state_dict = torch.load(path, map_location=device)\n",
      "/opt/conda/lib/python3.10/site-packages/speechbrain/processing/features.py:1311: FutureWarning: You are using `torch.load` with `weights_only=False` (the current default value), which uses the default pickle module implicitly. It is possible to construct malicious pickle data which will execute arbitrary code during unpickling (See https://github.com/pytorch/pytorch/blob/main/SECURITY.md#untrusted-models for more details). In a future release, the default value for `weights_only` will be flipped to `True`. This limits the functions that could be executed during unpickling. Arbitrary objects will no longer be allowed to be loaded via this mode unless they are explicitly allowlisted by the user via `torch.serialization.add_safe_globals`. We recommend you start setting `weights_only=True` for any use case where you don't have full control of the loaded file. Please open an issue on GitHub for any issues related to this experimental feature.\n",
      "  stats = torch.load(path, map_location=device)\n"
     ]
    }
   ],
   "source": [
    "from pyannote.audio.pipelines.speaker_verification import PretrainedSpeakerEmbedding\n",
    "\n",
    "embedding_model = PretrainedSpeakerEmbedding(\"speechbrain/spkrec-ecapa-voxceleb\", device=torch.device(device))\n",
    "\n",
    "audio = Audio()\n",
    "\n",
    "\n",
    "\n",
    "def segment_embedding(segment):\n",
    "\n",
    "    start = segment.start\n",
    "\n",
    "    end = segment.end\n",
    "\n",
    "    waveform, sample_rate = audio.crop(path, Segment(start, end))\n",
    "\n",
    "    return embedding_model(waveform[None])\n",
    "\n",
    "\n",
    "\n",
    "embeddings = np.zeros((len(timeline), 192))\n",
    "\n",
    "for i, segment in enumerate(timeline):\n",
    "\n",
    "    embeddings[i] = segment_embedding(segment)\n",
    "\n",
    "\n",
    "\n",
    "clustering = AgglomerativeClustering(n_clusters=num_speakers).fit(embeddings)\n",
    "\n",
    "labels = clustering.labels_\n"
   ]
  },
  {
   "cell_type": "code",
   "execution_count": 260,
   "metadata": {
    "colab": {
     "base_uri": "https://localhost:8080/"
    },
    "execution": {
     "iopub.execute_input": "2024-12-07T10:58:16.590860Z",
     "iopub.status.busy": "2024-12-07T10:58:16.590039Z",
     "iopub.status.idle": "2024-12-07T10:58:46.073966Z",
     "shell.execute_reply": "2024-12-07T10:58:46.073096Z",
     "shell.execute_reply.started": "2024-12-07T10:58:16.590825Z"
    },
    "executionInfo": {
     "elapsed": 40137,
     "status": "ok",
     "timestamp": 1732718046363,
     "user": {
      "displayName": "sakib zaman",
      "userId": "11660463814760201146"
     },
     "user_tz": -360
    },
    "id": "g92Q8gwD7PCW",
    "outputId": "44b5d83c-de3d-4d5e-dbbc-1822c54eb56f",
    "trusted": true
   },
   "outputs": [
    {
     "name": "stderr",
     "output_type": "stream",
     "text": [
      "/opt/conda/lib/python3.10/site-packages/transformers/pipelines/base.py:1090: UserWarning: You seem to be using the pipelines sequentially on GPU. In order to maximize efficiency please use a dataset\n",
      "  warnings.warn(\n",
      "/opt/conda/lib/python3.10/site-packages/transformers/pipelines/base.py:1090: UserWarning: You seem to be using the pipelines sequentially on GPU. In order to maximize efficiency please use a dataset\n",
      "  warnings.warn(\n",
      "/opt/conda/lib/python3.10/site-packages/transformers/pipelines/base.py:1090: UserWarning: You seem to be using the pipelines sequentially on GPU. In order to maximize efficiency please use a dataset\n",
      "  warnings.warn(\n",
      "/opt/conda/lib/python3.10/site-packages/transformers/pipelines/base.py:1090: UserWarning: You seem to be using the pipelines sequentially on GPU. In order to maximize efficiency please use a dataset\n",
      "  warnings.warn(\n",
      "/opt/conda/lib/python3.10/site-packages/transformers/pipelines/base.py:1090: UserWarning: You seem to be using the pipelines sequentially on GPU. In order to maximize efficiency please use a dataset\n",
      "  warnings.warn(\n",
      "/opt/conda/lib/python3.10/site-packages/transformers/pipelines/base.py:1090: UserWarning: You seem to be using the pipelines sequentially on GPU. In order to maximize efficiency please use a dataset\n",
      "  warnings.warn(\n",
      "/opt/conda/lib/python3.10/site-packages/transformers/pipelines/base.py:1090: UserWarning: You seem to be using the pipelines sequentially on GPU. In order to maximize efficiency please use a dataset\n",
      "  warnings.warn(\n",
      "/opt/conda/lib/python3.10/site-packages/transformers/pipelines/base.py:1090: UserWarning: You seem to be using the pipelines sequentially on GPU. In order to maximize efficiency please use a dataset\n",
      "  warnings.warn(\n",
      "/opt/conda/lib/python3.10/site-packages/transformers/pipelines/base.py:1090: UserWarning: You seem to be using the pipelines sequentially on GPU. In order to maximize efficiency please use a dataset\n",
      "  warnings.warn(\n",
      "/opt/conda/lib/python3.10/site-packages/transformers/pipelines/base.py:1090: UserWarning: You seem to be using the pipelines sequentially on GPU. In order to maximize efficiency please use a dataset\n",
      "  warnings.warn(\n",
      "/opt/conda/lib/python3.10/site-packages/transformers/pipelines/base.py:1090: UserWarning: You seem to be using the pipelines sequentially on GPU. In order to maximize efficiency please use a dataset\n",
      "  warnings.warn(\n",
      "/opt/conda/lib/python3.10/site-packages/transformers/pipelines/base.py:1090: UserWarning: You seem to be using the pipelines sequentially on GPU. In order to maximize efficiency please use a dataset\n",
      "  warnings.warn(\n",
      "/opt/conda/lib/python3.10/site-packages/transformers/pipelines/base.py:1090: UserWarning: You seem to be using the pipelines sequentially on GPU. In order to maximize efficiency please use a dataset\n",
      "  warnings.warn(\n",
      "/opt/conda/lib/python3.10/site-packages/transformers/pipelines/base.py:1090: UserWarning: You seem to be using the pipelines sequentially on GPU. In order to maximize efficiency please use a dataset\n",
      "  warnings.warn(\n",
      "/opt/conda/lib/python3.10/site-packages/transformers/pipelines/base.py:1090: UserWarning: You seem to be using the pipelines sequentially on GPU. In order to maximize efficiency please use a dataset\n",
      "  warnings.warn(\n",
      "/opt/conda/lib/python3.10/site-packages/transformers/pipelines/base.py:1090: UserWarning: You seem to be using the pipelines sequentially on GPU. In order to maximize efficiency please use a dataset\n",
      "  warnings.warn(\n",
      "/opt/conda/lib/python3.10/site-packages/transformers/pipelines/base.py:1090: UserWarning: You seem to be using the pipelines sequentially on GPU. In order to maximize efficiency please use a dataset\n",
      "  warnings.warn(\n",
      "/opt/conda/lib/python3.10/site-packages/transformers/pipelines/base.py:1090: UserWarning: You seem to be using the pipelines sequentially on GPU. In order to maximize efficiency please use a dataset\n",
      "  warnings.warn(\n",
      "/opt/conda/lib/python3.10/site-packages/transformers/pipelines/base.py:1090: UserWarning: You seem to be using the pipelines sequentially on GPU. In order to maximize efficiency please use a dataset\n",
      "  warnings.warn(\n",
      "/opt/conda/lib/python3.10/site-packages/transformers/pipelines/base.py:1090: UserWarning: You seem to be using the pipelines sequentially on GPU. In order to maximize efficiency please use a dataset\n",
      "  warnings.warn(\n",
      "/opt/conda/lib/python3.10/site-packages/transformers/pipelines/base.py:1090: UserWarning: You seem to be using the pipelines sequentially on GPU. In order to maximize efficiency please use a dataset\n",
      "  warnings.warn(\n",
      "/opt/conda/lib/python3.10/site-packages/transformers/pipelines/base.py:1090: UserWarning: You seem to be using the pipelines sequentially on GPU. In order to maximize efficiency please use a dataset\n",
      "  warnings.warn(\n"
     ]
    },
    {
     "name": "stdout",
     "output_type": "stream",
     "text": [
      "Transcription with speaker labels saved at: /kaggle/working/20241102_110623_CMEDHLTD_dr_aamasud_01610895014137.txt\n",
      "Segmented audio files saved in folder: /kaggle/working/segmented_audio\n"
     ]
    }
   ],
   "source": [
    "# Write diarized transcription to a file in Google Drive\n",
    "\n",
    "# output_file_path = os.path.join(output_folder_path, \"transcript2.txt\")\n",
    "\n",
    "# with open(output_file_path, \"w\",  encoding=\"utf-8\") as f:\n",
    "\n",
    "#     for i, segment in enumerate(timeline):\n",
    "\n",
    "#         f.write(f\"\\nSPEAKER {labels[i] + 1} {segment.start}-{segment.end} sec:\\n\")\n",
    "\n",
    "#         f.write(transcribe_with_chunking(os.path.join(segmented_audio_folder, f\"segment_{i+1}.wav\"), max_chunk_duration=threshold) + \"\\n\")\n",
    "\n",
    "audio_file_name = os.path.splitext(os.path.basename(path))[0]\n",
    "\n",
    "# Use the audio file's name for the transcript file\n",
    "output_file_path = os.path.join(output_folder_path, f\"{audio_file_name}.txt\")\n",
    "\n",
    "with open(output_file_path, \"w\", encoding=\"utf-8\") as f:\n",
    "    for i, segment in enumerate(timeline):\n",
    "        f.write(f\"\\nSPEAKER {labels[i] + 1} {segment.start}-{segment.end} sec:\\n\")\n",
    "        f.write(transcribe_with_chunking(\n",
    "            os.path.join(segmented_audio_folder, f\"segment_{i+1}.wav\"), \n",
    "            max_chunk_duration=threshold) + \"\\n\")\n",
    "\n",
    "print(f\"Transcription with speaker labels saved at: {output_file_path}\")\n",
    "print(f\"Segmented audio files saved in folder: {segmented_audio_folder}\")\n",
    "\n",
    "\n",
    "\n",
    "\n",
    "\n",
    "\n"
   ]
  }
 ],
 "metadata": {
  "accelerator": "GPU",
  "colab": {
   "gpuType": "T4",
   "provenance": [
    {
     "file_id": "1FQcyEoK5Ct2DDIRkiiukYFACEqobU3Rj",
     "timestamp": 1731946301345
    }
   ]
  },
  "kaggle": {
   "accelerator": "gpu",
   "dataSources": [
    {
     "datasetId": 5635892,
     "sourceId": 10126769,
     "sourceType": "datasetVersion"
    }
   ],
   "dockerImageVersionId": 30787,
   "isGpuEnabled": true,
   "isInternetEnabled": true,
   "language": "python",
   "sourceType": "notebook"
  },
  "kernelspec": {
   "display_name": "myenv",
   "language": "python",
   "name": "python3"
  },
  "language_info": {
   "codemirror_mode": {
    "name": "ipython",
    "version": 3
   },
   "file_extension": ".py",
   "mimetype": "text/x-python",
   "name": "python",
   "nbconvert_exporter": "python",
   "pygments_lexer": "ipython3",
   "version": "3.11.9"
  },
  "widgets": {
   "application/vnd.jupyter.widget-state+json": {
    "0075596579824a239cc94c4eca959870": {
     "model_module": "@jupyter-widgets/base",
     "model_module_version": "1.2.0",
     "model_name": "LayoutModel",
     "state": {
      "_model_module": "@jupyter-widgets/base",
      "_model_module_version": "1.2.0",
      "_model_name": "LayoutModel",
      "_view_count": null,
      "_view_module": "@jupyter-widgets/base",
      "_view_module_version": "1.2.0",
      "_view_name": "LayoutView",
      "align_content": null,
      "align_items": null,
      "align_self": null,
      "border": null,
      "bottom": null,
      "display": null,
      "flex": null,
      "flex_flow": null,
      "grid_area": null,
      "grid_auto_columns": null,
      "grid_auto_flow": null,
      "grid_auto_rows": null,
      "grid_column": null,
      "grid_gap": null,
      "grid_row": null,
      "grid_template_areas": null,
      "grid_template_columns": null,
      "grid_template_rows": null,
      "height": null,
      "justify_content": null,
      "justify_items": null,
      "left": null,
      "margin": null,
      "max_height": null,
      "max_width": null,
      "min_height": null,
      "min_width": null,
      "object_fit": null,
      "object_position": null,
      "order": null,
      "overflow": null,
      "overflow_x": null,
      "overflow_y": null,
      "padding": null,
      "right": null,
      "top": null,
      "visibility": null,
      "width": null
     }
    },
    "0654fd412d4e46f5af78fd725c1bb92c": {
     "model_module": "@jupyter-widgets/controls",
     "model_module_version": "1.5.0",
     "model_name": "DescriptionStyleModel",
     "state": {
      "_model_module": "@jupyter-widgets/controls",
      "_model_module_version": "1.5.0",
      "_model_name": "DescriptionStyleModel",
      "_view_count": null,
      "_view_module": "@jupyter-widgets/base",
      "_view_module_version": "1.2.0",
      "_view_name": "StyleView",
      "description_width": ""
     }
    },
    "0837d402a29c4f41ae7671100a63c2e1": {
     "model_module": "@jupyter-widgets/controls",
     "model_module_version": "1.5.0",
     "model_name": "HBoxModel",
     "state": {
      "_dom_classes": [],
      "_model_module": "@jupyter-widgets/controls",
      "_model_module_version": "1.5.0",
      "_model_name": "HBoxModel",
      "_view_count": null,
      "_view_module": "@jupyter-widgets/controls",
      "_view_module_version": "1.5.0",
      "_view_name": "HBoxView",
      "box_style": "",
      "children": [
       "IPY_MODEL_4287ad4a714a4cc3be45e6809be5e1e7",
       "IPY_MODEL_6c6f527b5dfe4f9f9324fd448d957f70",
       "IPY_MODEL_935db473d2234035ae8429362dc12f47"
      ],
      "layout": "IPY_MODEL_63046c7203c84784b9a60c47aff51b43"
     }
    },
    "0aa8895e2a2e4864b7b6f4f1c215bd35": {
     "model_module": "@jupyter-widgets/controls",
     "model_module_version": "1.5.0",
     "model_name": "DescriptionStyleModel",
     "state": {
      "_model_module": "@jupyter-widgets/controls",
      "_model_module_version": "1.5.0",
      "_model_name": "DescriptionStyleModel",
      "_view_count": null,
      "_view_module": "@jupyter-widgets/base",
      "_view_module_version": "1.2.0",
      "_view_name": "StyleView",
      "description_width": ""
     }
    },
    "0f882b009fef45908ea3f548b4e1fad8": {
     "model_module": "@jupyter-widgets/controls",
     "model_module_version": "1.5.0",
     "model_name": "DescriptionStyleModel",
     "state": {
      "_model_module": "@jupyter-widgets/controls",
      "_model_module_version": "1.5.0",
      "_model_name": "DescriptionStyleModel",
      "_view_count": null,
      "_view_module": "@jupyter-widgets/base",
      "_view_module_version": "1.2.0",
      "_view_name": "StyleView",
      "description_width": ""
     }
    },
    "1dd81800d8ff4722969290a32f8746e5": {
     "model_module": "@jupyter-widgets/controls",
     "model_module_version": "1.5.0",
     "model_name": "HTMLModel",
     "state": {
      "_dom_classes": [],
      "_model_module": "@jupyter-widgets/controls",
      "_model_module_version": "1.5.0",
      "_model_name": "HTMLModel",
      "_view_count": null,
      "_view_module": "@jupyter-widgets/controls",
      "_view_module_version": "1.5.0",
      "_view_name": "HTMLView",
      "description": "",
      "description_tooltip": null,
      "layout": "IPY_MODEL_c0769b188a874e95b0d83986170f9038",
      "placeholder": "​",
      "style": "IPY_MODEL_caf15723bdbe40bc980ee16c2b0a2e89",
      "value": " 129k/129k [00:00&lt;00:00, 1.93MB/s]"
     }
    },
    "1ef85ba49c3946c0940227bc0d699601": {
     "model_module": "@jupyter-widgets/controls",
     "model_module_version": "1.5.0",
     "model_name": "HBoxModel",
     "state": {
      "_dom_classes": [],
      "_model_module": "@jupyter-widgets/controls",
      "_model_module_version": "1.5.0",
      "_model_name": "HBoxModel",
      "_view_count": null,
      "_view_module": "@jupyter-widgets/controls",
      "_view_module_version": "1.5.0",
      "_view_name": "HBoxView",
      "box_style": "",
      "children": [
       "IPY_MODEL_ad61188c592643a2bdbf15ebce2731b2",
       "IPY_MODEL_ee88beba81ab4a129f5a43dc3d78fb9c",
       "IPY_MODEL_a93bc6fd8ea841d3adf09778bffaac32"
      ],
      "layout": "IPY_MODEL_cf9b3d7896c444938d1b9f62bf680b60"
     }
    },
    "250be0ba1f06486192bce1e9e3362f52": {
     "model_module": "@jupyter-widgets/base",
     "model_module_version": "1.2.0",
     "model_name": "LayoutModel",
     "state": {
      "_model_module": "@jupyter-widgets/base",
      "_model_module_version": "1.2.0",
      "_model_name": "LayoutModel",
      "_view_count": null,
      "_view_module": "@jupyter-widgets/base",
      "_view_module_version": "1.2.0",
      "_view_name": "LayoutView",
      "align_content": null,
      "align_items": null,
      "align_self": null,
      "border": null,
      "bottom": null,
      "display": null,
      "flex": null,
      "flex_flow": null,
      "grid_area": null,
      "grid_auto_columns": null,
      "grid_auto_flow": null,
      "grid_auto_rows": null,
      "grid_column": null,
      "grid_gap": null,
      "grid_row": null,
      "grid_template_areas": null,
      "grid_template_columns": null,
      "grid_template_rows": null,
      "height": null,
      "justify_content": null,
      "justify_items": null,
      "left": null,
      "margin": null,
      "max_height": null,
      "max_width": null,
      "min_height": null,
      "min_width": null,
      "object_fit": null,
      "object_position": null,
      "order": null,
      "overflow": null,
      "overflow_x": null,
      "overflow_y": null,
      "padding": null,
      "right": null,
      "top": null,
      "visibility": null,
      "width": null
     }
    },
    "2cf6206d9fd644ceb259ef6c6b84bbf6": {
     "model_module": "@jupyter-widgets/controls",
     "model_module_version": "1.5.0",
     "model_name": "DescriptionStyleModel",
     "state": {
      "_model_module": "@jupyter-widgets/controls",
      "_model_module_version": "1.5.0",
      "_model_name": "DescriptionStyleModel",
      "_view_count": null,
      "_view_module": "@jupyter-widgets/base",
      "_view_module_version": "1.2.0",
      "_view_name": "StyleView",
      "description_width": ""
     }
    },
    "2d631a73306b45cea9033a83b60bcc05": {
     "model_module": "@jupyter-widgets/base",
     "model_module_version": "1.2.0",
     "model_name": "LayoutModel",
     "state": {
      "_model_module": "@jupyter-widgets/base",
      "_model_module_version": "1.2.0",
      "_model_name": "LayoutModel",
      "_view_count": null,
      "_view_module": "@jupyter-widgets/base",
      "_view_module_version": "1.2.0",
      "_view_name": "LayoutView",
      "align_content": null,
      "align_items": null,
      "align_self": null,
      "border": null,
      "bottom": null,
      "display": null,
      "flex": null,
      "flex_flow": null,
      "grid_area": null,
      "grid_auto_columns": null,
      "grid_auto_flow": null,
      "grid_auto_rows": null,
      "grid_column": null,
      "grid_gap": null,
      "grid_row": null,
      "grid_template_areas": null,
      "grid_template_columns": null,
      "grid_template_rows": null,
      "height": null,
      "justify_content": null,
      "justify_items": null,
      "left": null,
      "margin": null,
      "max_height": null,
      "max_width": null,
      "min_height": null,
      "min_width": null,
      "object_fit": null,
      "object_position": null,
      "order": null,
      "overflow": null,
      "overflow_x": null,
      "overflow_y": null,
      "padding": null,
      "right": null,
      "top": null,
      "visibility": null,
      "width": null
     }
    },
    "2dcafc5d75704a8989c5712a9c3146f2": {
     "model_module": "@jupyter-widgets/base",
     "model_module_version": "1.2.0",
     "model_name": "LayoutModel",
     "state": {
      "_model_module": "@jupyter-widgets/base",
      "_model_module_version": "1.2.0",
      "_model_name": "LayoutModel",
      "_view_count": null,
      "_view_module": "@jupyter-widgets/base",
      "_view_module_version": "1.2.0",
      "_view_name": "LayoutView",
      "align_content": null,
      "align_items": null,
      "align_self": null,
      "border": null,
      "bottom": null,
      "display": null,
      "flex": null,
      "flex_flow": null,
      "grid_area": null,
      "grid_auto_columns": null,
      "grid_auto_flow": null,
      "grid_auto_rows": null,
      "grid_column": null,
      "grid_gap": null,
      "grid_row": null,
      "grid_template_areas": null,
      "grid_template_columns": null,
      "grid_template_rows": null,
      "height": null,
      "justify_content": null,
      "justify_items": null,
      "left": null,
      "margin": null,
      "max_height": null,
      "max_width": null,
      "min_height": null,
      "min_width": null,
      "object_fit": null,
      "object_position": null,
      "order": null,
      "overflow": null,
      "overflow_x": null,
      "overflow_y": null,
      "padding": null,
      "right": null,
      "top": null,
      "visibility": null,
      "width": null
     }
    },
    "4287ad4a714a4cc3be45e6809be5e1e7": {
     "model_module": "@jupyter-widgets/controls",
     "model_module_version": "1.5.0",
     "model_name": "HTMLModel",
     "state": {
      "_dom_classes": [],
      "_model_module": "@jupyter-widgets/controls",
      "_model_module_version": "1.5.0",
      "_model_name": "HTMLModel",
      "_view_count": null,
      "_view_module": "@jupyter-widgets/controls",
      "_view_module_version": "1.5.0",
      "_view_name": "HTMLView",
      "description": "",
      "description_tooltip": null,
      "layout": "IPY_MODEL_4840aa123284427e84e45307af3daa9a",
      "placeholder": "​",
      "style": "IPY_MODEL_0aa8895e2a2e4864b7b6f4f1c215bd35",
      "value": "embedding_model.ckpt: 100%"
     }
    },
    "4840aa123284427e84e45307af3daa9a": {
     "model_module": "@jupyter-widgets/base",
     "model_module_version": "1.2.0",
     "model_name": "LayoutModel",
     "state": {
      "_model_module": "@jupyter-widgets/base",
      "_model_module_version": "1.2.0",
      "_model_name": "LayoutModel",
      "_view_count": null,
      "_view_module": "@jupyter-widgets/base",
      "_view_module_version": "1.2.0",
      "_view_name": "LayoutView",
      "align_content": null,
      "align_items": null,
      "align_self": null,
      "border": null,
      "bottom": null,
      "display": null,
      "flex": null,
      "flex_flow": null,
      "grid_area": null,
      "grid_auto_columns": null,
      "grid_auto_flow": null,
      "grid_auto_rows": null,
      "grid_column": null,
      "grid_gap": null,
      "grid_row": null,
      "grid_template_areas": null,
      "grid_template_columns": null,
      "grid_template_rows": null,
      "height": null,
      "justify_content": null,
      "justify_items": null,
      "left": null,
      "margin": null,
      "max_height": null,
      "max_width": null,
      "min_height": null,
      "min_width": null,
      "object_fit": null,
      "object_position": null,
      "order": null,
      "overflow": null,
      "overflow_x": null,
      "overflow_y": null,
      "padding": null,
      "right": null,
      "top": null,
      "visibility": null,
      "width": null
     }
    },
    "5483b945775b407a8f08106e027dcc58": {
     "model_module": "@jupyter-widgets/controls",
     "model_module_version": "1.5.0",
     "model_name": "HBoxModel",
     "state": {
      "_dom_classes": [],
      "_model_module": "@jupyter-widgets/controls",
      "_model_module_version": "1.5.0",
      "_model_name": "HBoxModel",
      "_view_count": null,
      "_view_module": "@jupyter-widgets/controls",
      "_view_module_version": "1.5.0",
      "_view_name": "HBoxView",
      "box_style": "",
      "children": [
       "IPY_MODEL_7d5c3c3b588143a08b370e81f925de3e",
       "IPY_MODEL_b10b5c2970e745a2b1a6d39beea04367",
       "IPY_MODEL_1dd81800d8ff4722969290a32f8746e5"
      ],
      "layout": "IPY_MODEL_79f0d3ddbf114cb489a5184ca1b4df4d"
     }
    },
    "57070bed8857480a9abf62faa1b52fd4": {
     "model_module": "@jupyter-widgets/base",
     "model_module_version": "1.2.0",
     "model_name": "LayoutModel",
     "state": {
      "_model_module": "@jupyter-widgets/base",
      "_model_module_version": "1.2.0",
      "_model_name": "LayoutModel",
      "_view_count": null,
      "_view_module": "@jupyter-widgets/base",
      "_view_module_version": "1.2.0",
      "_view_name": "LayoutView",
      "align_content": null,
      "align_items": null,
      "align_self": null,
      "border": null,
      "bottom": null,
      "display": null,
      "flex": null,
      "flex_flow": null,
      "grid_area": null,
      "grid_auto_columns": null,
      "grid_auto_flow": null,
      "grid_auto_rows": null,
      "grid_column": null,
      "grid_gap": null,
      "grid_row": null,
      "grid_template_areas": null,
      "grid_template_columns": null,
      "grid_template_rows": null,
      "height": null,
      "justify_content": null,
      "justify_items": null,
      "left": null,
      "margin": null,
      "max_height": null,
      "max_width": null,
      "min_height": null,
      "min_width": null,
      "object_fit": null,
      "object_position": null,
      "order": null,
      "overflow": null,
      "overflow_x": null,
      "overflow_y": null,
      "padding": null,
      "right": null,
      "top": null,
      "visibility": null,
      "width": null
     }
    },
    "5a6532104391456f8bebee8de09c13f4": {
     "model_module": "@jupyter-widgets/controls",
     "model_module_version": "1.5.0",
     "model_name": "HTMLModel",
     "state": {
      "_dom_classes": [],
      "_model_module": "@jupyter-widgets/controls",
      "_model_module_version": "1.5.0",
      "_model_name": "HTMLModel",
      "_view_count": null,
      "_view_module": "@jupyter-widgets/controls",
      "_view_module_version": "1.5.0",
      "_view_name": "HTMLView",
      "description": "",
      "description_tooltip": null,
      "layout": "IPY_MODEL_2dcafc5d75704a8989c5712a9c3146f2",
      "placeholder": "​",
      "style": "IPY_MODEL_8b04155ed31c48cd935c303ef8b2c400",
      "value": "classifier.ckpt: 100%"
     }
    },
    "5b8d05e1b57a4af18114e33e5ed4f312": {
     "model_module": "@jupyter-widgets/base",
     "model_module_version": "1.2.0",
     "model_name": "LayoutModel",
     "state": {
      "_model_module": "@jupyter-widgets/base",
      "_model_module_version": "1.2.0",
      "_model_name": "LayoutModel",
      "_view_count": null,
      "_view_module": "@jupyter-widgets/base",
      "_view_module_version": "1.2.0",
      "_view_name": "LayoutView",
      "align_content": null,
      "align_items": null,
      "align_self": null,
      "border": null,
      "bottom": null,
      "display": null,
      "flex": null,
      "flex_flow": null,
      "grid_area": null,
      "grid_auto_columns": null,
      "grid_auto_flow": null,
      "grid_auto_rows": null,
      "grid_column": null,
      "grid_gap": null,
      "grid_row": null,
      "grid_template_areas": null,
      "grid_template_columns": null,
      "grid_template_rows": null,
      "height": null,
      "justify_content": null,
      "justify_items": null,
      "left": null,
      "margin": null,
      "max_height": null,
      "max_width": null,
      "min_height": null,
      "min_width": null,
      "object_fit": null,
      "object_position": null,
      "order": null,
      "overflow": null,
      "overflow_x": null,
      "overflow_y": null,
      "padding": null,
      "right": null,
      "top": null,
      "visibility": null,
      "width": null
     }
    },
    "60309ba8310d47ee9809d12b6a05ab66": {
     "model_module": "@jupyter-widgets/controls",
     "model_module_version": "1.5.0",
     "model_name": "HBoxModel",
     "state": {
      "_dom_classes": [],
      "_model_module": "@jupyter-widgets/controls",
      "_model_module_version": "1.5.0",
      "_model_name": "HBoxModel",
      "_view_count": null,
      "_view_module": "@jupyter-widgets/controls",
      "_view_module_version": "1.5.0",
      "_view_name": "HBoxView",
      "box_style": "",
      "children": [
       "IPY_MODEL_eb40339d88c04cf58841f18353dc279e",
       "IPY_MODEL_ba925ab211d746ba91e90ff99bc996fe",
       "IPY_MODEL_792e2ed902864ba992c3f6de0f314541"
      ],
      "layout": "IPY_MODEL_f903738f4d1446688d21d207b4cf9717"
     }
    },
    "63046c7203c84784b9a60c47aff51b43": {
     "model_module": "@jupyter-widgets/base",
     "model_module_version": "1.2.0",
     "model_name": "LayoutModel",
     "state": {
      "_model_module": "@jupyter-widgets/base",
      "_model_module_version": "1.2.0",
      "_model_name": "LayoutModel",
      "_view_count": null,
      "_view_module": "@jupyter-widgets/base",
      "_view_module_version": "1.2.0",
      "_view_name": "LayoutView",
      "align_content": null,
      "align_items": null,
      "align_self": null,
      "border": null,
      "bottom": null,
      "display": null,
      "flex": null,
      "flex_flow": null,
      "grid_area": null,
      "grid_auto_columns": null,
      "grid_auto_flow": null,
      "grid_auto_rows": null,
      "grid_column": null,
      "grid_gap": null,
      "grid_row": null,
      "grid_template_areas": null,
      "grid_template_columns": null,
      "grid_template_rows": null,
      "height": null,
      "justify_content": null,
      "justify_items": null,
      "left": null,
      "margin": null,
      "max_height": null,
      "max_width": null,
      "min_height": null,
      "min_width": null,
      "object_fit": null,
      "object_position": null,
      "order": null,
      "overflow": null,
      "overflow_x": null,
      "overflow_y": null,
      "padding": null,
      "right": null,
      "top": null,
      "visibility": null,
      "width": null
     }
    },
    "6c6f527b5dfe4f9f9324fd448d957f70": {
     "model_module": "@jupyter-widgets/controls",
     "model_module_version": "1.5.0",
     "model_name": "FloatProgressModel",
     "state": {
      "_dom_classes": [],
      "_model_module": "@jupyter-widgets/controls",
      "_model_module_version": "1.5.0",
      "_model_name": "FloatProgressModel",
      "_view_count": null,
      "_view_module": "@jupyter-widgets/controls",
      "_view_module_version": "1.5.0",
      "_view_name": "ProgressView",
      "bar_style": "success",
      "description": "",
      "description_tooltip": null,
      "layout": "IPY_MODEL_af8860a5769749248036b74c30af4dc1",
      "max": 83316686,
      "min": 0,
      "orientation": "horizontal",
      "style": "IPY_MODEL_8a07648a40704627ad4178eaf15c63cb",
      "value": 83316686
     }
    },
    "6cc3b9ce6ea04ea0945265163b8172a2": {
     "model_module": "@jupyter-widgets/base",
     "model_module_version": "1.2.0",
     "model_name": "LayoutModel",
     "state": {
      "_model_module": "@jupyter-widgets/base",
      "_model_module_version": "1.2.0",
      "_model_name": "LayoutModel",
      "_view_count": null,
      "_view_module": "@jupyter-widgets/base",
      "_view_module_version": "1.2.0",
      "_view_name": "LayoutView",
      "align_content": null,
      "align_items": null,
      "align_self": null,
      "border": null,
      "bottom": null,
      "display": null,
      "flex": null,
      "flex_flow": null,
      "grid_area": null,
      "grid_auto_columns": null,
      "grid_auto_flow": null,
      "grid_auto_rows": null,
      "grid_column": null,
      "grid_gap": null,
      "grid_row": null,
      "grid_template_areas": null,
      "grid_template_columns": null,
      "grid_template_rows": null,
      "height": null,
      "justify_content": null,
      "justify_items": null,
      "left": null,
      "margin": null,
      "max_height": null,
      "max_width": null,
      "min_height": null,
      "min_width": null,
      "object_fit": null,
      "object_position": null,
      "order": null,
      "overflow": null,
      "overflow_x": null,
      "overflow_y": null,
      "padding": null,
      "right": null,
      "top": null,
      "visibility": null,
      "width": null
     }
    },
    "6d086a42cde94b7da6e07975e025105d": {
     "model_module": "@jupyter-widgets/base",
     "model_module_version": "1.2.0",
     "model_name": "LayoutModel",
     "state": {
      "_model_module": "@jupyter-widgets/base",
      "_model_module_version": "1.2.0",
      "_model_name": "LayoutModel",
      "_view_count": null,
      "_view_module": "@jupyter-widgets/base",
      "_view_module_version": "1.2.0",
      "_view_name": "LayoutView",
      "align_content": null,
      "align_items": null,
      "align_self": null,
      "border": null,
      "bottom": null,
      "display": null,
      "flex": null,
      "flex_flow": null,
      "grid_area": null,
      "grid_auto_columns": null,
      "grid_auto_flow": null,
      "grid_auto_rows": null,
      "grid_column": null,
      "grid_gap": null,
      "grid_row": null,
      "grid_template_areas": null,
      "grid_template_columns": null,
      "grid_template_rows": null,
      "height": null,
      "justify_content": null,
      "justify_items": null,
      "left": null,
      "margin": null,
      "max_height": null,
      "max_width": null,
      "min_height": null,
      "min_width": null,
      "object_fit": null,
      "object_position": null,
      "order": null,
      "overflow": null,
      "overflow_x": null,
      "overflow_y": null,
      "padding": null,
      "right": null,
      "top": null,
      "visibility": null,
      "width": null
     }
    },
    "72820ebbff7e48c1af784d6057bd9f06": {
     "model_module": "@jupyter-widgets/base",
     "model_module_version": "1.2.0",
     "model_name": "LayoutModel",
     "state": {
      "_model_module": "@jupyter-widgets/base",
      "_model_module_version": "1.2.0",
      "_model_name": "LayoutModel",
      "_view_count": null,
      "_view_module": "@jupyter-widgets/base",
      "_view_module_version": "1.2.0",
      "_view_name": "LayoutView",
      "align_content": null,
      "align_items": null,
      "align_self": null,
      "border": null,
      "bottom": null,
      "display": null,
      "flex": null,
      "flex_flow": null,
      "grid_area": null,
      "grid_auto_columns": null,
      "grid_auto_flow": null,
      "grid_auto_rows": null,
      "grid_column": null,
      "grid_gap": null,
      "grid_row": null,
      "grid_template_areas": null,
      "grid_template_columns": null,
      "grid_template_rows": null,
      "height": null,
      "justify_content": null,
      "justify_items": null,
      "left": null,
      "margin": null,
      "max_height": null,
      "max_width": null,
      "min_height": null,
      "min_width": null,
      "object_fit": null,
      "object_position": null,
      "order": null,
      "overflow": null,
      "overflow_x": null,
      "overflow_y": null,
      "padding": null,
      "right": null,
      "top": null,
      "visibility": null,
      "width": null
     }
    },
    "792e2ed902864ba992c3f6de0f314541": {
     "model_module": "@jupyter-widgets/controls",
     "model_module_version": "1.5.0",
     "model_name": "HTMLModel",
     "state": {
      "_dom_classes": [],
      "_model_module": "@jupyter-widgets/controls",
      "_model_module_version": "1.5.0",
      "_model_name": "HTMLModel",
      "_view_count": null,
      "_view_module": "@jupyter-widgets/controls",
      "_view_module_version": "1.5.0",
      "_view_name": "HTMLView",
      "description": "",
      "description_tooltip": null,
      "layout": "IPY_MODEL_6d086a42cde94b7da6e07975e025105d",
      "placeholder": "​",
      "style": "IPY_MODEL_8f0223db12554df09531a53c675207ef",
      "value": " 1.92k/1.92k [00:00&lt;00:00, 140kB/s]"
     }
    },
    "79f0d3ddbf114cb489a5184ca1b4df4d": {
     "model_module": "@jupyter-widgets/base",
     "model_module_version": "1.2.0",
     "model_name": "LayoutModel",
     "state": {
      "_model_module": "@jupyter-widgets/base",
      "_model_module_version": "1.2.0",
      "_model_name": "LayoutModel",
      "_view_count": null,
      "_view_module": "@jupyter-widgets/base",
      "_view_module_version": "1.2.0",
      "_view_name": "LayoutView",
      "align_content": null,
      "align_items": null,
      "align_self": null,
      "border": null,
      "bottom": null,
      "display": null,
      "flex": null,
      "flex_flow": null,
      "grid_area": null,
      "grid_auto_columns": null,
      "grid_auto_flow": null,
      "grid_auto_rows": null,
      "grid_column": null,
      "grid_gap": null,
      "grid_row": null,
      "grid_template_areas": null,
      "grid_template_columns": null,
      "grid_template_rows": null,
      "height": null,
      "justify_content": null,
      "justify_items": null,
      "left": null,
      "margin": null,
      "max_height": null,
      "max_width": null,
      "min_height": null,
      "min_width": null,
      "object_fit": null,
      "object_position": null,
      "order": null,
      "overflow": null,
      "overflow_x": null,
      "overflow_y": null,
      "padding": null,
      "right": null,
      "top": null,
      "visibility": null,
      "width": null
     }
    },
    "7d5c3c3b588143a08b370e81f925de3e": {
     "model_module": "@jupyter-widgets/controls",
     "model_module_version": "1.5.0",
     "model_name": "HTMLModel",
     "state": {
      "_dom_classes": [],
      "_model_module": "@jupyter-widgets/controls",
      "_model_module_version": "1.5.0",
      "_model_name": "HTMLModel",
      "_view_count": null,
      "_view_module": "@jupyter-widgets/controls",
      "_view_module_version": "1.5.0",
      "_view_name": "HTMLView",
      "description": "",
      "description_tooltip": null,
      "layout": "IPY_MODEL_2d631a73306b45cea9033a83b60bcc05",
      "placeholder": "​",
      "style": "IPY_MODEL_0f882b009fef45908ea3f548b4e1fad8",
      "value": "label_encoder.txt: 100%"
     }
    },
    "80d5f7e8b75047e4a816b87dfdfd3565": {
     "model_module": "@jupyter-widgets/controls",
     "model_module_version": "1.5.0",
     "model_name": "ProgressStyleModel",
     "state": {
      "_model_module": "@jupyter-widgets/controls",
      "_model_module_version": "1.5.0",
      "_model_name": "ProgressStyleModel",
      "_view_count": null,
      "_view_module": "@jupyter-widgets/base",
      "_view_module_version": "1.2.0",
      "_view_name": "StyleView",
      "bar_color": null,
      "description_width": ""
     }
    },
    "814a1974131f40aca2ee3c3081239b56": {
     "model_module": "@jupyter-widgets/base",
     "model_module_version": "1.2.0",
     "model_name": "LayoutModel",
     "state": {
      "_model_module": "@jupyter-widgets/base",
      "_model_module_version": "1.2.0",
      "_model_name": "LayoutModel",
      "_view_count": null,
      "_view_module": "@jupyter-widgets/base",
      "_view_module_version": "1.2.0",
      "_view_name": "LayoutView",
      "align_content": null,
      "align_items": null,
      "align_self": null,
      "border": null,
      "bottom": null,
      "display": null,
      "flex": null,
      "flex_flow": null,
      "grid_area": null,
      "grid_auto_columns": null,
      "grid_auto_flow": null,
      "grid_auto_rows": null,
      "grid_column": null,
      "grid_gap": null,
      "grid_row": null,
      "grid_template_areas": null,
      "grid_template_columns": null,
      "grid_template_rows": null,
      "height": null,
      "justify_content": null,
      "justify_items": null,
      "left": null,
      "margin": null,
      "max_height": null,
      "max_width": null,
      "min_height": null,
      "min_width": null,
      "object_fit": null,
      "object_position": null,
      "order": null,
      "overflow": null,
      "overflow_x": null,
      "overflow_y": null,
      "padding": null,
      "right": null,
      "top": null,
      "visibility": null,
      "width": null
     }
    },
    "82c2cb2ecef34b54bed5bc696bd739be": {
     "model_module": "@jupyter-widgets/controls",
     "model_module_version": "1.5.0",
     "model_name": "ProgressStyleModel",
     "state": {
      "_model_module": "@jupyter-widgets/controls",
      "_model_module_version": "1.5.0",
      "_model_name": "ProgressStyleModel",
      "_view_count": null,
      "_view_module": "@jupyter-widgets/base",
      "_view_module_version": "1.2.0",
      "_view_name": "StyleView",
      "bar_color": null,
      "description_width": ""
     }
    },
    "8757e69e16364364845a026939716b3e": {
     "model_module": "@jupyter-widgets/base",
     "model_module_version": "1.2.0",
     "model_name": "LayoutModel",
     "state": {
      "_model_module": "@jupyter-widgets/base",
      "_model_module_version": "1.2.0",
      "_model_name": "LayoutModel",
      "_view_count": null,
      "_view_module": "@jupyter-widgets/base",
      "_view_module_version": "1.2.0",
      "_view_name": "LayoutView",
      "align_content": null,
      "align_items": null,
      "align_self": null,
      "border": null,
      "bottom": null,
      "display": null,
      "flex": null,
      "flex_flow": null,
      "grid_area": null,
      "grid_auto_columns": null,
      "grid_auto_flow": null,
      "grid_auto_rows": null,
      "grid_column": null,
      "grid_gap": null,
      "grid_row": null,
      "grid_template_areas": null,
      "grid_template_columns": null,
      "grid_template_rows": null,
      "height": null,
      "justify_content": null,
      "justify_items": null,
      "left": null,
      "margin": null,
      "max_height": null,
      "max_width": null,
      "min_height": null,
      "min_width": null,
      "object_fit": null,
      "object_position": null,
      "order": null,
      "overflow": null,
      "overflow_x": null,
      "overflow_y": null,
      "padding": null,
      "right": null,
      "top": null,
      "visibility": null,
      "width": null
     }
    },
    "8a07648a40704627ad4178eaf15c63cb": {
     "model_module": "@jupyter-widgets/controls",
     "model_module_version": "1.5.0",
     "model_name": "ProgressStyleModel",
     "state": {
      "_model_module": "@jupyter-widgets/controls",
      "_model_module_version": "1.5.0",
      "_model_name": "ProgressStyleModel",
      "_view_count": null,
      "_view_module": "@jupyter-widgets/base",
      "_view_module_version": "1.2.0",
      "_view_name": "StyleView",
      "bar_color": null,
      "description_width": ""
     }
    },
    "8b04155ed31c48cd935c303ef8b2c400": {
     "model_module": "@jupyter-widgets/controls",
     "model_module_version": "1.5.0",
     "model_name": "DescriptionStyleModel",
     "state": {
      "_model_module": "@jupyter-widgets/controls",
      "_model_module_version": "1.5.0",
      "_model_name": "DescriptionStyleModel",
      "_view_count": null,
      "_view_module": "@jupyter-widgets/base",
      "_view_module_version": "1.2.0",
      "_view_name": "StyleView",
      "description_width": ""
     }
    },
    "8f0223db12554df09531a53c675207ef": {
     "model_module": "@jupyter-widgets/controls",
     "model_module_version": "1.5.0",
     "model_name": "DescriptionStyleModel",
     "state": {
      "_model_module": "@jupyter-widgets/controls",
      "_model_module_version": "1.5.0",
      "_model_name": "DescriptionStyleModel",
      "_view_count": null,
      "_view_module": "@jupyter-widgets/base",
      "_view_module_version": "1.2.0",
      "_view_name": "StyleView",
      "description_width": ""
     }
    },
    "935db473d2234035ae8429362dc12f47": {
     "model_module": "@jupyter-widgets/controls",
     "model_module_version": "1.5.0",
     "model_name": "HTMLModel",
     "state": {
      "_dom_classes": [],
      "_model_module": "@jupyter-widgets/controls",
      "_model_module_version": "1.5.0",
      "_model_name": "HTMLModel",
      "_view_count": null,
      "_view_module": "@jupyter-widgets/controls",
      "_view_module_version": "1.5.0",
      "_view_name": "HTMLView",
      "description": "",
      "description_tooltip": null,
      "layout": "IPY_MODEL_250be0ba1f06486192bce1e9e3362f52",
      "placeholder": "​",
      "style": "IPY_MODEL_0654fd412d4e46f5af78fd725c1bb92c",
      "value": " 83.3M/83.3M [00:00&lt;00:00, 134MB/s]"
     }
    },
    "a575758a94b345d2af944e035ca11cd5": {
     "model_module": "@jupyter-widgets/controls",
     "model_module_version": "1.5.0",
     "model_name": "HTMLModel",
     "state": {
      "_dom_classes": [],
      "_model_module": "@jupyter-widgets/controls",
      "_model_module_version": "1.5.0",
      "_model_name": "HTMLModel",
      "_view_count": null,
      "_view_module": "@jupyter-widgets/controls",
      "_view_module_version": "1.5.0",
      "_view_name": "HTMLView",
      "description": "",
      "description_tooltip": null,
      "layout": "IPY_MODEL_6cc3b9ce6ea04ea0945265163b8172a2",
      "placeholder": "​",
      "style": "IPY_MODEL_2cf6206d9fd644ceb259ef6c6b84bbf6",
      "value": " 5.53M/5.53M [00:00&lt;00:00, 148MB/s]"
     }
    },
    "a93bc6fd8ea841d3adf09778bffaac32": {
     "model_module": "@jupyter-widgets/controls",
     "model_module_version": "1.5.0",
     "model_name": "HTMLModel",
     "state": {
      "_dom_classes": [],
      "_model_module": "@jupyter-widgets/controls",
      "_model_module_version": "1.5.0",
      "_model_name": "HTMLModel",
      "_view_count": null,
      "_view_module": "@jupyter-widgets/controls",
      "_view_module_version": "1.5.0",
      "_view_name": "HTMLView",
      "description": "",
      "description_tooltip": null,
      "layout": "IPY_MODEL_fea3ef745b8943c883c6f16ff962d8ad",
      "placeholder": "​",
      "style": "IPY_MODEL_d052968e3fd140e2b5241367caa945e5",
      "value": " 1.92k/1.92k [00:00&lt;00:00, 117kB/s]"
     }
    },
    "a997f334961c4039abdb15c1f8ff54bb": {
     "model_module": "@jupyter-widgets/controls",
     "model_module_version": "1.5.0",
     "model_name": "ProgressStyleModel",
     "state": {
      "_model_module": "@jupyter-widgets/controls",
      "_model_module_version": "1.5.0",
      "_model_name": "ProgressStyleModel",
      "_view_count": null,
      "_view_module": "@jupyter-widgets/base",
      "_view_module_version": "1.2.0",
      "_view_name": "StyleView",
      "bar_color": null,
      "description_width": ""
     }
    },
    "ad61188c592643a2bdbf15ebce2731b2": {
     "model_module": "@jupyter-widgets/controls",
     "model_module_version": "1.5.0",
     "model_name": "HTMLModel",
     "state": {
      "_dom_classes": [],
      "_model_module": "@jupyter-widgets/controls",
      "_model_module_version": "1.5.0",
      "_model_name": "HTMLModel",
      "_view_count": null,
      "_view_module": "@jupyter-widgets/controls",
      "_view_module_version": "1.5.0",
      "_view_name": "HTMLView",
      "description": "",
      "description_tooltip": null,
      "layout": "IPY_MODEL_8757e69e16364364845a026939716b3e",
      "placeholder": "​",
      "style": "IPY_MODEL_c7738055e77c474dacd4e83c2d5bbacf",
      "value": "mean_var_norm_emb.ckpt: 100%"
     }
    },
    "af8860a5769749248036b74c30af4dc1": {
     "model_module": "@jupyter-widgets/base",
     "model_module_version": "1.2.0",
     "model_name": "LayoutModel",
     "state": {
      "_model_module": "@jupyter-widgets/base",
      "_model_module_version": "1.2.0",
      "_model_name": "LayoutModel",
      "_view_count": null,
      "_view_module": "@jupyter-widgets/base",
      "_view_module_version": "1.2.0",
      "_view_name": "LayoutView",
      "align_content": null,
      "align_items": null,
      "align_self": null,
      "border": null,
      "bottom": null,
      "display": null,
      "flex": null,
      "flex_flow": null,
      "grid_area": null,
      "grid_auto_columns": null,
      "grid_auto_flow": null,
      "grid_auto_rows": null,
      "grid_column": null,
      "grid_gap": null,
      "grid_row": null,
      "grid_template_areas": null,
      "grid_template_columns": null,
      "grid_template_rows": null,
      "height": null,
      "justify_content": null,
      "justify_items": null,
      "left": null,
      "margin": null,
      "max_height": null,
      "max_width": null,
      "min_height": null,
      "min_width": null,
      "object_fit": null,
      "object_position": null,
      "order": null,
      "overflow": null,
      "overflow_x": null,
      "overflow_y": null,
      "padding": null,
      "right": null,
      "top": null,
      "visibility": null,
      "width": null
     }
    },
    "b10b5c2970e745a2b1a6d39beea04367": {
     "model_module": "@jupyter-widgets/controls",
     "model_module_version": "1.5.0",
     "model_name": "FloatProgressModel",
     "state": {
      "_dom_classes": [],
      "_model_module": "@jupyter-widgets/controls",
      "_model_module_version": "1.5.0",
      "_model_name": "FloatProgressModel",
      "_view_count": null,
      "_view_module": "@jupyter-widgets/controls",
      "_view_module_version": "1.5.0",
      "_view_name": "ProgressView",
      "bar_style": "success",
      "description": "",
      "description_tooltip": null,
      "layout": "IPY_MODEL_f8d5251eea94449887fbb1dca57aa63b",
      "max": 128619,
      "min": 0,
      "orientation": "horizontal",
      "style": "IPY_MODEL_b348a7e4e218411380b6fcb3d0caf410",
      "value": 128619
     }
    },
    "b348a7e4e218411380b6fcb3d0caf410": {
     "model_module": "@jupyter-widgets/controls",
     "model_module_version": "1.5.0",
     "model_name": "ProgressStyleModel",
     "state": {
      "_model_module": "@jupyter-widgets/controls",
      "_model_module_version": "1.5.0",
      "_model_name": "ProgressStyleModel",
      "_view_count": null,
      "_view_module": "@jupyter-widgets/base",
      "_view_module_version": "1.2.0",
      "_view_name": "StyleView",
      "bar_color": null,
      "description_width": ""
     }
    },
    "b74b385381d7436f97fe186a7021d91f": {
     "model_module": "@jupyter-widgets/controls",
     "model_module_version": "1.5.0",
     "model_name": "DescriptionStyleModel",
     "state": {
      "_model_module": "@jupyter-widgets/controls",
      "_model_module_version": "1.5.0",
      "_model_name": "DescriptionStyleModel",
      "_view_count": null,
      "_view_module": "@jupyter-widgets/base",
      "_view_module_version": "1.2.0",
      "_view_name": "StyleView",
      "description_width": ""
     }
    },
    "ba925ab211d746ba91e90ff99bc996fe": {
     "model_module": "@jupyter-widgets/controls",
     "model_module_version": "1.5.0",
     "model_name": "FloatProgressModel",
     "state": {
      "_dom_classes": [],
      "_model_module": "@jupyter-widgets/controls",
      "_model_module_version": "1.5.0",
      "_model_name": "FloatProgressModel",
      "_view_count": null,
      "_view_module": "@jupyter-widgets/controls",
      "_view_module_version": "1.5.0",
      "_view_name": "ProgressView",
      "bar_style": "success",
      "description": "",
      "description_tooltip": null,
      "layout": "IPY_MODEL_814a1974131f40aca2ee3c3081239b56",
      "max": 1920,
      "min": 0,
      "orientation": "horizontal",
      "style": "IPY_MODEL_82c2cb2ecef34b54bed5bc696bd739be",
      "value": 1920
     }
    },
    "c0769b188a874e95b0d83986170f9038": {
     "model_module": "@jupyter-widgets/base",
     "model_module_version": "1.2.0",
     "model_name": "LayoutModel",
     "state": {
      "_model_module": "@jupyter-widgets/base",
      "_model_module_version": "1.2.0",
      "_model_name": "LayoutModel",
      "_view_count": null,
      "_view_module": "@jupyter-widgets/base",
      "_view_module_version": "1.2.0",
      "_view_name": "LayoutView",
      "align_content": null,
      "align_items": null,
      "align_self": null,
      "border": null,
      "bottom": null,
      "display": null,
      "flex": null,
      "flex_flow": null,
      "grid_area": null,
      "grid_auto_columns": null,
      "grid_auto_flow": null,
      "grid_auto_rows": null,
      "grid_column": null,
      "grid_gap": null,
      "grid_row": null,
      "grid_template_areas": null,
      "grid_template_columns": null,
      "grid_template_rows": null,
      "height": null,
      "justify_content": null,
      "justify_items": null,
      "left": null,
      "margin": null,
      "max_height": null,
      "max_width": null,
      "min_height": null,
      "min_width": null,
      "object_fit": null,
      "object_position": null,
      "order": null,
      "overflow": null,
      "overflow_x": null,
      "overflow_y": null,
      "padding": null,
      "right": null,
      "top": null,
      "visibility": null,
      "width": null
     }
    },
    "c7738055e77c474dacd4e83c2d5bbacf": {
     "model_module": "@jupyter-widgets/controls",
     "model_module_version": "1.5.0",
     "model_name": "DescriptionStyleModel",
     "state": {
      "_model_module": "@jupyter-widgets/controls",
      "_model_module_version": "1.5.0",
      "_model_name": "DescriptionStyleModel",
      "_view_count": null,
      "_view_module": "@jupyter-widgets/base",
      "_view_module_version": "1.2.0",
      "_view_name": "StyleView",
      "description_width": ""
     }
    },
    "caf15723bdbe40bc980ee16c2b0a2e89": {
     "model_module": "@jupyter-widgets/controls",
     "model_module_version": "1.5.0",
     "model_name": "DescriptionStyleModel",
     "state": {
      "_model_module": "@jupyter-widgets/controls",
      "_model_module_version": "1.5.0",
      "_model_name": "DescriptionStyleModel",
      "_view_count": null,
      "_view_module": "@jupyter-widgets/base",
      "_view_module_version": "1.2.0",
      "_view_name": "StyleView",
      "description_width": ""
     }
    },
    "cf9b3d7896c444938d1b9f62bf680b60": {
     "model_module": "@jupyter-widgets/base",
     "model_module_version": "1.2.0",
     "model_name": "LayoutModel",
     "state": {
      "_model_module": "@jupyter-widgets/base",
      "_model_module_version": "1.2.0",
      "_model_name": "LayoutModel",
      "_view_count": null,
      "_view_module": "@jupyter-widgets/base",
      "_view_module_version": "1.2.0",
      "_view_name": "LayoutView",
      "align_content": null,
      "align_items": null,
      "align_self": null,
      "border": null,
      "bottom": null,
      "display": null,
      "flex": null,
      "flex_flow": null,
      "grid_area": null,
      "grid_auto_columns": null,
      "grid_auto_flow": null,
      "grid_auto_rows": null,
      "grid_column": null,
      "grid_gap": null,
      "grid_row": null,
      "grid_template_areas": null,
      "grid_template_columns": null,
      "grid_template_rows": null,
      "height": null,
      "justify_content": null,
      "justify_items": null,
      "left": null,
      "margin": null,
      "max_height": null,
      "max_width": null,
      "min_height": null,
      "min_width": null,
      "object_fit": null,
      "object_position": null,
      "order": null,
      "overflow": null,
      "overflow_x": null,
      "overflow_y": null,
      "padding": null,
      "right": null,
      "top": null,
      "visibility": null,
      "width": null
     }
    },
    "d052968e3fd140e2b5241367caa945e5": {
     "model_module": "@jupyter-widgets/controls",
     "model_module_version": "1.5.0",
     "model_name": "DescriptionStyleModel",
     "state": {
      "_model_module": "@jupyter-widgets/controls",
      "_model_module_version": "1.5.0",
      "_model_name": "DescriptionStyleModel",
      "_view_count": null,
      "_view_module": "@jupyter-widgets/base",
      "_view_module_version": "1.2.0",
      "_view_name": "StyleView",
      "description_width": ""
     }
    },
    "eb40339d88c04cf58841f18353dc279e": {
     "model_module": "@jupyter-widgets/controls",
     "model_module_version": "1.5.0",
     "model_name": "HTMLModel",
     "state": {
      "_dom_classes": [],
      "_model_module": "@jupyter-widgets/controls",
      "_model_module_version": "1.5.0",
      "_model_name": "HTMLModel",
      "_view_count": null,
      "_view_module": "@jupyter-widgets/controls",
      "_view_module_version": "1.5.0",
      "_view_name": "HTMLView",
      "description": "",
      "description_tooltip": null,
      "layout": "IPY_MODEL_0075596579824a239cc94c4eca959870",
      "placeholder": "​",
      "style": "IPY_MODEL_b74b385381d7436f97fe186a7021d91f",
      "value": "hyperparams.yaml: 100%"
     }
    },
    "ee88beba81ab4a129f5a43dc3d78fb9c": {
     "model_module": "@jupyter-widgets/controls",
     "model_module_version": "1.5.0",
     "model_name": "FloatProgressModel",
     "state": {
      "_dom_classes": [],
      "_model_module": "@jupyter-widgets/controls",
      "_model_module_version": "1.5.0",
      "_model_name": "FloatProgressModel",
      "_view_count": null,
      "_view_module": "@jupyter-widgets/controls",
      "_view_module_version": "1.5.0",
      "_view_name": "ProgressView",
      "bar_style": "success",
      "description": "",
      "description_tooltip": null,
      "layout": "IPY_MODEL_5b8d05e1b57a4af18114e33e5ed4f312",
      "max": 1921,
      "min": 0,
      "orientation": "horizontal",
      "style": "IPY_MODEL_a997f334961c4039abdb15c1f8ff54bb",
      "value": 1921
     }
    },
    "f139e479a3cf4a3f8d355f085d79aa2d": {
     "model_module": "@jupyter-widgets/controls",
     "model_module_version": "1.5.0",
     "model_name": "FloatProgressModel",
     "state": {
      "_dom_classes": [],
      "_model_module": "@jupyter-widgets/controls",
      "_model_module_version": "1.5.0",
      "_model_name": "FloatProgressModel",
      "_view_count": null,
      "_view_module": "@jupyter-widgets/controls",
      "_view_module_version": "1.5.0",
      "_view_name": "ProgressView",
      "bar_style": "success",
      "description": "",
      "description_tooltip": null,
      "layout": "IPY_MODEL_57070bed8857480a9abf62faa1b52fd4",
      "max": 5534328,
      "min": 0,
      "orientation": "horizontal",
      "style": "IPY_MODEL_80d5f7e8b75047e4a816b87dfdfd3565",
      "value": 5534328
     }
    },
    "f8b0a25771cb454b9a3fa6469cc9abd5": {
     "model_module": "@jupyter-widgets/controls",
     "model_module_version": "1.5.0",
     "model_name": "HBoxModel",
     "state": {
      "_dom_classes": [],
      "_model_module": "@jupyter-widgets/controls",
      "_model_module_version": "1.5.0",
      "_model_name": "HBoxModel",
      "_view_count": null,
      "_view_module": "@jupyter-widgets/controls",
      "_view_module_version": "1.5.0",
      "_view_name": "HBoxView",
      "box_style": "",
      "children": [
       "IPY_MODEL_5a6532104391456f8bebee8de09c13f4",
       "IPY_MODEL_f139e479a3cf4a3f8d355f085d79aa2d",
       "IPY_MODEL_a575758a94b345d2af944e035ca11cd5"
      ],
      "layout": "IPY_MODEL_72820ebbff7e48c1af784d6057bd9f06"
     }
    },
    "f8d5251eea94449887fbb1dca57aa63b": {
     "model_module": "@jupyter-widgets/base",
     "model_module_version": "1.2.0",
     "model_name": "LayoutModel",
     "state": {
      "_model_module": "@jupyter-widgets/base",
      "_model_module_version": "1.2.0",
      "_model_name": "LayoutModel",
      "_view_count": null,
      "_view_module": "@jupyter-widgets/base",
      "_view_module_version": "1.2.0",
      "_view_name": "LayoutView",
      "align_content": null,
      "align_items": null,
      "align_self": null,
      "border": null,
      "bottom": null,
      "display": null,
      "flex": null,
      "flex_flow": null,
      "grid_area": null,
      "grid_auto_columns": null,
      "grid_auto_flow": null,
      "grid_auto_rows": null,
      "grid_column": null,
      "grid_gap": null,
      "grid_row": null,
      "grid_template_areas": null,
      "grid_template_columns": null,
      "grid_template_rows": null,
      "height": null,
      "justify_content": null,
      "justify_items": null,
      "left": null,
      "margin": null,
      "max_height": null,
      "max_width": null,
      "min_height": null,
      "min_width": null,
      "object_fit": null,
      "object_position": null,
      "order": null,
      "overflow": null,
      "overflow_x": null,
      "overflow_y": null,
      "padding": null,
      "right": null,
      "top": null,
      "visibility": null,
      "width": null
     }
    },
    "f903738f4d1446688d21d207b4cf9717": {
     "model_module": "@jupyter-widgets/base",
     "model_module_version": "1.2.0",
     "model_name": "LayoutModel",
     "state": {
      "_model_module": "@jupyter-widgets/base",
      "_model_module_version": "1.2.0",
      "_model_name": "LayoutModel",
      "_view_count": null,
      "_view_module": "@jupyter-widgets/base",
      "_view_module_version": "1.2.0",
      "_view_name": "LayoutView",
      "align_content": null,
      "align_items": null,
      "align_self": null,
      "border": null,
      "bottom": null,
      "display": null,
      "flex": null,
      "flex_flow": null,
      "grid_area": null,
      "grid_auto_columns": null,
      "grid_auto_flow": null,
      "grid_auto_rows": null,
      "grid_column": null,
      "grid_gap": null,
      "grid_row": null,
      "grid_template_areas": null,
      "grid_template_columns": null,
      "grid_template_rows": null,
      "height": null,
      "justify_content": null,
      "justify_items": null,
      "left": null,
      "margin": null,
      "max_height": null,
      "max_width": null,
      "min_height": null,
      "min_width": null,
      "object_fit": null,
      "object_position": null,
      "order": null,
      "overflow": null,
      "overflow_x": null,
      "overflow_y": null,
      "padding": null,
      "right": null,
      "top": null,
      "visibility": null,
      "width": null
     }
    },
    "fea3ef745b8943c883c6f16ff962d8ad": {
     "model_module": "@jupyter-widgets/base",
     "model_module_version": "1.2.0",
     "model_name": "LayoutModel",
     "state": {
      "_model_module": "@jupyter-widgets/base",
      "_model_module_version": "1.2.0",
      "_model_name": "LayoutModel",
      "_view_count": null,
      "_view_module": "@jupyter-widgets/base",
      "_view_module_version": "1.2.0",
      "_view_name": "LayoutView",
      "align_content": null,
      "align_items": null,
      "align_self": null,
      "border": null,
      "bottom": null,
      "display": null,
      "flex": null,
      "flex_flow": null,
      "grid_area": null,
      "grid_auto_columns": null,
      "grid_auto_flow": null,
      "grid_auto_rows": null,
      "grid_column": null,
      "grid_gap": null,
      "grid_row": null,
      "grid_template_areas": null,
      "grid_template_columns": null,
      "grid_template_rows": null,
      "height": null,
      "justify_content": null,
      "justify_items": null,
      "left": null,
      "margin": null,
      "max_height": null,
      "max_width": null,
      "min_height": null,
      "min_width": null,
      "object_fit": null,
      "object_position": null,
      "order": null,
      "overflow": null,
      "overflow_x": null,
      "overflow_y": null,
      "padding": null,
      "right": null,
      "top": null,
      "visibility": null,
      "width": null
     }
    }
   }
  }
 },
 "nbformat": 4,
 "nbformat_minor": 4
}
